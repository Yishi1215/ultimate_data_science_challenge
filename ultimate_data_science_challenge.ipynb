{
 "cells": [
  {
   "cell_type": "code",
   "execution_count": 60,
   "metadata": {},
   "outputs": [
    {
     "data": {
      "text/html": [
       "\n",
       "    <div class=\"bk-root\">\n",
       "        <a href=\"https://bokeh.pydata.org\" target=\"_blank\" class=\"bk-logo bk-logo-small bk-logo-notebook\"></a>\n",
       "        <span id=\"90079c75-e996-49db-aaf1-0e80027843e7\">Loading BokehJS ...</span>\n",
       "    </div>"
      ]
     },
     "metadata": {},
     "output_type": "display_data"
    },
    {
     "data": {
      "application/javascript": [
       "\n",
       "(function(root) {\n",
       "  function now() {\n",
       "    return new Date();\n",
       "  }\n",
       "\n",
       "  var force = true;\n",
       "\n",
       "  if (typeof (root._bokeh_onload_callbacks) === \"undefined\" || force === true) {\n",
       "    root._bokeh_onload_callbacks = [];\n",
       "    root._bokeh_is_loading = undefined;\n",
       "  }\n",
       "\n",
       "  var JS_MIME_TYPE = 'application/javascript';\n",
       "  var HTML_MIME_TYPE = 'text/html';\n",
       "  var EXEC_MIME_TYPE = 'application/vnd.bokehjs_exec.v0+json';\n",
       "  var CLASS_NAME = 'output_bokeh rendered_html';\n",
       "\n",
       "  /**\n",
       "   * Render data to the DOM node\n",
       "   */\n",
       "  function render(props, node) {\n",
       "    var script = document.createElement(\"script\");\n",
       "    node.appendChild(script);\n",
       "  }\n",
       "\n",
       "  /**\n",
       "   * Handle when an output is cleared or removed\n",
       "   */\n",
       "  function handleClearOutput(event, handle) {\n",
       "    var cell = handle.cell;\n",
       "\n",
       "    var id = cell.output_area._bokeh_element_id;\n",
       "    var server_id = cell.output_area._bokeh_server_id;\n",
       "    // Clean up Bokeh references\n",
       "    if (id !== undefined) {\n",
       "      Bokeh.index[id].model.document.clear();\n",
       "      delete Bokeh.index[id];\n",
       "    }\n",
       "\n",
       "    if (server_id !== undefined) {\n",
       "      // Clean up Bokeh references\n",
       "      var cmd = \"from bokeh.io.state import curstate; print(curstate().uuid_to_server['\" + server_id + \"'].get_sessions()[0].document.roots[0]._id)\";\n",
       "      cell.notebook.kernel.execute(cmd, {\n",
       "        iopub: {\n",
       "          output: function(msg) {\n",
       "            var element_id = msg.content.text.trim();\n",
       "            Bokeh.index[element_id].model.document.clear();\n",
       "            delete Bokeh.index[element_id];\n",
       "          }\n",
       "        }\n",
       "      });\n",
       "      // Destroy server and session\n",
       "      var cmd = \"import bokeh.io.notebook as ion; ion.destroy_server('\" + server_id + \"')\";\n",
       "      cell.notebook.kernel.execute(cmd);\n",
       "    }\n",
       "  }\n",
       "\n",
       "  /**\n",
       "   * Handle when a new output is added\n",
       "   */\n",
       "  function handleAddOutput(event, handle) {\n",
       "    var output_area = handle.output_area;\n",
       "    var output = handle.output;\n",
       "\n",
       "    // limit handleAddOutput to display_data with EXEC_MIME_TYPE content only\n",
       "    if ((output.output_type != \"display_data\") || (!output.data.hasOwnProperty(EXEC_MIME_TYPE))) {\n",
       "      return\n",
       "    }\n",
       "\n",
       "    var toinsert = output_area.element.find(\".\" + CLASS_NAME.split(' ')[0]);\n",
       "\n",
       "    if (output.metadata[EXEC_MIME_TYPE][\"id\"] !== undefined) {\n",
       "      toinsert[0].firstChild.textContent = output.data[JS_MIME_TYPE];\n",
       "      // store reference to embed id on output_area\n",
       "      output_area._bokeh_element_id = output.metadata[EXEC_MIME_TYPE][\"id\"];\n",
       "    }\n",
       "    if (output.metadata[EXEC_MIME_TYPE][\"server_id\"] !== undefined) {\n",
       "      var bk_div = document.createElement(\"div\");\n",
       "      bk_div.innerHTML = output.data[HTML_MIME_TYPE];\n",
       "      var script_attrs = bk_div.children[0].attributes;\n",
       "      for (var i = 0; i < script_attrs.length; i++) {\n",
       "        toinsert[0].firstChild.setAttribute(script_attrs[i].name, script_attrs[i].value);\n",
       "      }\n",
       "      // store reference to server id on output_area\n",
       "      output_area._bokeh_server_id = output.metadata[EXEC_MIME_TYPE][\"server_id\"];\n",
       "    }\n",
       "  }\n",
       "\n",
       "  function register_renderer(events, OutputArea) {\n",
       "\n",
       "    function append_mime(data, metadata, element) {\n",
       "      // create a DOM node to render to\n",
       "      var toinsert = this.create_output_subarea(\n",
       "        metadata,\n",
       "        CLASS_NAME,\n",
       "        EXEC_MIME_TYPE\n",
       "      );\n",
       "      this.keyboard_manager.register_events(toinsert);\n",
       "      // Render to node\n",
       "      var props = {data: data, metadata: metadata[EXEC_MIME_TYPE]};\n",
       "      render(props, toinsert[0]);\n",
       "      element.append(toinsert);\n",
       "      return toinsert\n",
       "    }\n",
       "\n",
       "    /* Handle when an output is cleared or removed */\n",
       "    events.on('clear_output.CodeCell', handleClearOutput);\n",
       "    events.on('delete.Cell', handleClearOutput);\n",
       "\n",
       "    /* Handle when a new output is added */\n",
       "    events.on('output_added.OutputArea', handleAddOutput);\n",
       "\n",
       "    /**\n",
       "     * Register the mime type and append_mime function with output_area\n",
       "     */\n",
       "    OutputArea.prototype.register_mime_type(EXEC_MIME_TYPE, append_mime, {\n",
       "      /* Is output safe? */\n",
       "      safe: true,\n",
       "      /* Index of renderer in `output_area.display_order` */\n",
       "      index: 0\n",
       "    });\n",
       "  }\n",
       "\n",
       "  // register the mime type if in Jupyter Notebook environment and previously unregistered\n",
       "  if (root.Jupyter !== undefined) {\n",
       "    var events = require('base/js/events');\n",
       "    var OutputArea = require('notebook/js/outputarea').OutputArea;\n",
       "\n",
       "    if (OutputArea.prototype.mime_types().indexOf(EXEC_MIME_TYPE) == -1) {\n",
       "      register_renderer(events, OutputArea);\n",
       "    }\n",
       "  }\n",
       "\n",
       "  \n",
       "  if (typeof (root._bokeh_timeout) === \"undefined\" || force === true) {\n",
       "    root._bokeh_timeout = Date.now() + 5000;\n",
       "    root._bokeh_failed_load = false;\n",
       "  }\n",
       "\n",
       "  var NB_LOAD_WARNING = {'data': {'text/html':\n",
       "     \"<div style='background-color: #fdd'>\\n\"+\n",
       "     \"<p>\\n\"+\n",
       "     \"BokehJS does not appear to have successfully loaded. If loading BokehJS from CDN, this \\n\"+\n",
       "     \"may be due to a slow or bad network connection. Possible fixes:\\n\"+\n",
       "     \"</p>\\n\"+\n",
       "     \"<ul>\\n\"+\n",
       "     \"<li>re-rerun `output_notebook()` to attempt to load from CDN again, or</li>\\n\"+\n",
       "     \"<li>use INLINE resources instead, as so:</li>\\n\"+\n",
       "     \"</ul>\\n\"+\n",
       "     \"<code>\\n\"+\n",
       "     \"from bokeh.resources import INLINE\\n\"+\n",
       "     \"output_notebook(resources=INLINE)\\n\"+\n",
       "     \"</code>\\n\"+\n",
       "     \"</div>\"}};\n",
       "\n",
       "  function display_loaded() {\n",
       "    var el = document.getElementById(\"90079c75-e996-49db-aaf1-0e80027843e7\");\n",
       "    if (el != null) {\n",
       "      el.textContent = \"BokehJS is loading...\";\n",
       "    }\n",
       "    if (root.Bokeh !== undefined) {\n",
       "      if (el != null) {\n",
       "        el.textContent = \"BokehJS \" + root.Bokeh.version + \" successfully loaded.\";\n",
       "      }\n",
       "    } else if (Date.now() < root._bokeh_timeout) {\n",
       "      setTimeout(display_loaded, 100)\n",
       "    }\n",
       "  }\n",
       "\n",
       "\n",
       "  function run_callbacks() {\n",
       "    try {\n",
       "      root._bokeh_onload_callbacks.forEach(function(callback) { callback() });\n",
       "    }\n",
       "    finally {\n",
       "      delete root._bokeh_onload_callbacks\n",
       "    }\n",
       "    console.info(\"Bokeh: all callbacks have finished\");\n",
       "  }\n",
       "\n",
       "  function load_libs(js_urls, callback) {\n",
       "    root._bokeh_onload_callbacks.push(callback);\n",
       "    if (root._bokeh_is_loading > 0) {\n",
       "      console.log(\"Bokeh: BokehJS is being loaded, scheduling callback at\", now());\n",
       "      return null;\n",
       "    }\n",
       "    if (js_urls == null || js_urls.length === 0) {\n",
       "      run_callbacks();\n",
       "      return null;\n",
       "    }\n",
       "    console.log(\"Bokeh: BokehJS not loaded, scheduling load and callback at\", now());\n",
       "    root._bokeh_is_loading = js_urls.length;\n",
       "    for (var i = 0; i < js_urls.length; i++) {\n",
       "      var url = js_urls[i];\n",
       "      var s = document.createElement('script');\n",
       "      s.src = url;\n",
       "      s.async = false;\n",
       "      s.onreadystatechange = s.onload = function() {\n",
       "        root._bokeh_is_loading--;\n",
       "        if (root._bokeh_is_loading === 0) {\n",
       "          console.log(\"Bokeh: all BokehJS libraries loaded\");\n",
       "          run_callbacks()\n",
       "        }\n",
       "      };\n",
       "      s.onerror = function() {\n",
       "        console.warn(\"failed to load library \" + url);\n",
       "      };\n",
       "      console.log(\"Bokeh: injecting script tag for BokehJS library: \", url);\n",
       "      document.getElementsByTagName(\"head\")[0].appendChild(s);\n",
       "    }\n",
       "  };var element = document.getElementById(\"90079c75-e996-49db-aaf1-0e80027843e7\");\n",
       "  if (element == null) {\n",
       "    console.log(\"Bokeh: ERROR: autoload.js configured with elementid '90079c75-e996-49db-aaf1-0e80027843e7' but no matching script tag was found. \")\n",
       "    return false;\n",
       "  }\n",
       "\n",
       "  var js_urls = [\"https://cdn.pydata.org/bokeh/release/bokeh-0.12.14.min.js\", \"https://cdn.pydata.org/bokeh/release/bokeh-widgets-0.12.14.min.js\", \"https://cdn.pydata.org/bokeh/release/bokeh-tables-0.12.14.min.js\", \"https://cdn.pydata.org/bokeh/release/bokeh-gl-0.12.14.min.js\"];\n",
       "\n",
       "  var inline_js = [\n",
       "    function(Bokeh) {\n",
       "      Bokeh.set_log_level(\"info\");\n",
       "    },\n",
       "    \n",
       "    function(Bokeh) {\n",
       "      \n",
       "    },\n",
       "    function(Bokeh) {\n",
       "      console.log(\"Bokeh: injecting CSS: https://cdn.pydata.org/bokeh/release/bokeh-0.12.14.min.css\");\n",
       "      Bokeh.embed.inject_css(\"https://cdn.pydata.org/bokeh/release/bokeh-0.12.14.min.css\");\n",
       "      console.log(\"Bokeh: injecting CSS: https://cdn.pydata.org/bokeh/release/bokeh-widgets-0.12.14.min.css\");\n",
       "      Bokeh.embed.inject_css(\"https://cdn.pydata.org/bokeh/release/bokeh-widgets-0.12.14.min.css\");\n",
       "      console.log(\"Bokeh: injecting CSS: https://cdn.pydata.org/bokeh/release/bokeh-tables-0.12.14.min.css\");\n",
       "      Bokeh.embed.inject_css(\"https://cdn.pydata.org/bokeh/release/bokeh-tables-0.12.14.min.css\");\n",
       "    }\n",
       "  ];\n",
       "\n",
       "  function run_inline_js() {\n",
       "    \n",
       "    if ((root.Bokeh !== undefined) || (force === true)) {\n",
       "      for (var i = 0; i < inline_js.length; i++) {\n",
       "        inline_js[i].call(root, root.Bokeh);\n",
       "      }if (force === true) {\n",
       "        display_loaded();\n",
       "      }} else if (Date.now() < root._bokeh_timeout) {\n",
       "      setTimeout(run_inline_js, 100);\n",
       "    } else if (!root._bokeh_failed_load) {\n",
       "      console.log(\"Bokeh: BokehJS failed to load within specified timeout.\");\n",
       "      root._bokeh_failed_load = true;\n",
       "    } else if (force !== true) {\n",
       "      var cell = $(document.getElementById(\"90079c75-e996-49db-aaf1-0e80027843e7\")).parents('.cell').data().cell;\n",
       "      cell.output_area.append_execute_result(NB_LOAD_WARNING)\n",
       "    }\n",
       "\n",
       "  }\n",
       "\n",
       "  if (root._bokeh_is_loading === 0) {\n",
       "    console.log(\"Bokeh: BokehJS loaded, going straight to plotting\");\n",
       "    run_inline_js();\n",
       "  } else {\n",
       "    load_libs(js_urls, function() {\n",
       "      console.log(\"Bokeh: BokehJS plotting callback run at\", now());\n",
       "      run_inline_js();\n",
       "    });\n",
       "  }\n",
       "}(window));"
      ],
      "application/vnd.bokehjs_load.v0+json": "\n(function(root) {\n  function now() {\n    return new Date();\n  }\n\n  var force = true;\n\n  if (typeof (root._bokeh_onload_callbacks) === \"undefined\" || force === true) {\n    root._bokeh_onload_callbacks = [];\n    root._bokeh_is_loading = undefined;\n  }\n\n  \n\n  \n  if (typeof (root._bokeh_timeout) === \"undefined\" || force === true) {\n    root._bokeh_timeout = Date.now() + 5000;\n    root._bokeh_failed_load = false;\n  }\n\n  var NB_LOAD_WARNING = {'data': {'text/html':\n     \"<div style='background-color: #fdd'>\\n\"+\n     \"<p>\\n\"+\n     \"BokehJS does not appear to have successfully loaded. If loading BokehJS from CDN, this \\n\"+\n     \"may be due to a slow or bad network connection. Possible fixes:\\n\"+\n     \"</p>\\n\"+\n     \"<ul>\\n\"+\n     \"<li>re-rerun `output_notebook()` to attempt to load from CDN again, or</li>\\n\"+\n     \"<li>use INLINE resources instead, as so:</li>\\n\"+\n     \"</ul>\\n\"+\n     \"<code>\\n\"+\n     \"from bokeh.resources import INLINE\\n\"+\n     \"output_notebook(resources=INLINE)\\n\"+\n     \"</code>\\n\"+\n     \"</div>\"}};\n\n  function display_loaded() {\n    var el = document.getElementById(\"90079c75-e996-49db-aaf1-0e80027843e7\");\n    if (el != null) {\n      el.textContent = \"BokehJS is loading...\";\n    }\n    if (root.Bokeh !== undefined) {\n      if (el != null) {\n        el.textContent = \"BokehJS \" + root.Bokeh.version + \" successfully loaded.\";\n      }\n    } else if (Date.now() < root._bokeh_timeout) {\n      setTimeout(display_loaded, 100)\n    }\n  }\n\n\n  function run_callbacks() {\n    try {\n      root._bokeh_onload_callbacks.forEach(function(callback) { callback() });\n    }\n    finally {\n      delete root._bokeh_onload_callbacks\n    }\n    console.info(\"Bokeh: all callbacks have finished\");\n  }\n\n  function load_libs(js_urls, callback) {\n    root._bokeh_onload_callbacks.push(callback);\n    if (root._bokeh_is_loading > 0) {\n      console.log(\"Bokeh: BokehJS is being loaded, scheduling callback at\", now());\n      return null;\n    }\n    if (js_urls == null || js_urls.length === 0) {\n      run_callbacks();\n      return null;\n    }\n    console.log(\"Bokeh: BokehJS not loaded, scheduling load and callback at\", now());\n    root._bokeh_is_loading = js_urls.length;\n    for (var i = 0; i < js_urls.length; i++) {\n      var url = js_urls[i];\n      var s = document.createElement('script');\n      s.src = url;\n      s.async = false;\n      s.onreadystatechange = s.onload = function() {\n        root._bokeh_is_loading--;\n        if (root._bokeh_is_loading === 0) {\n          console.log(\"Bokeh: all BokehJS libraries loaded\");\n          run_callbacks()\n        }\n      };\n      s.onerror = function() {\n        console.warn(\"failed to load library \" + url);\n      };\n      console.log(\"Bokeh: injecting script tag for BokehJS library: \", url);\n      document.getElementsByTagName(\"head\")[0].appendChild(s);\n    }\n  };var element = document.getElementById(\"90079c75-e996-49db-aaf1-0e80027843e7\");\n  if (element == null) {\n    console.log(\"Bokeh: ERROR: autoload.js configured with elementid '90079c75-e996-49db-aaf1-0e80027843e7' but no matching script tag was found. \")\n    return false;\n  }\n\n  var js_urls = [\"https://cdn.pydata.org/bokeh/release/bokeh-0.12.14.min.js\", \"https://cdn.pydata.org/bokeh/release/bokeh-widgets-0.12.14.min.js\", \"https://cdn.pydata.org/bokeh/release/bokeh-tables-0.12.14.min.js\", \"https://cdn.pydata.org/bokeh/release/bokeh-gl-0.12.14.min.js\"];\n\n  var inline_js = [\n    function(Bokeh) {\n      Bokeh.set_log_level(\"info\");\n    },\n    \n    function(Bokeh) {\n      \n    },\n    function(Bokeh) {\n      console.log(\"Bokeh: injecting CSS: https://cdn.pydata.org/bokeh/release/bokeh-0.12.14.min.css\");\n      Bokeh.embed.inject_css(\"https://cdn.pydata.org/bokeh/release/bokeh-0.12.14.min.css\");\n      console.log(\"Bokeh: injecting CSS: https://cdn.pydata.org/bokeh/release/bokeh-widgets-0.12.14.min.css\");\n      Bokeh.embed.inject_css(\"https://cdn.pydata.org/bokeh/release/bokeh-widgets-0.12.14.min.css\");\n      console.log(\"Bokeh: injecting CSS: https://cdn.pydata.org/bokeh/release/bokeh-tables-0.12.14.min.css\");\n      Bokeh.embed.inject_css(\"https://cdn.pydata.org/bokeh/release/bokeh-tables-0.12.14.min.css\");\n    }\n  ];\n\n  function run_inline_js() {\n    \n    if ((root.Bokeh !== undefined) || (force === true)) {\n      for (var i = 0; i < inline_js.length; i++) {\n        inline_js[i].call(root, root.Bokeh);\n      }if (force === true) {\n        display_loaded();\n      }} else if (Date.now() < root._bokeh_timeout) {\n      setTimeout(run_inline_js, 100);\n    } else if (!root._bokeh_failed_load) {\n      console.log(\"Bokeh: BokehJS failed to load within specified timeout.\");\n      root._bokeh_failed_load = true;\n    } else if (force !== true) {\n      var cell = $(document.getElementById(\"90079c75-e996-49db-aaf1-0e80027843e7\")).parents('.cell').data().cell;\n      cell.output_area.append_execute_result(NB_LOAD_WARNING)\n    }\n\n  }\n\n  if (root._bokeh_is_loading === 0) {\n    console.log(\"Bokeh: BokehJS loaded, going straight to plotting\");\n    run_inline_js();\n  } else {\n    load_libs(js_urls, function() {\n      console.log(\"Bokeh: BokehJS plotting callback run at\", now());\n      run_inline_js();\n    });\n  }\n}(window));"
     },
     "metadata": {},
     "output_type": "display_data"
    }
   ],
   "source": [
    "import json\n",
    "import pandas as pd\n",
    "from datetime import datetime, timedelta, time\n",
    "import numpy as np\n",
    "import matplotlib.pyplot as plt\n",
    "import seaborn as sns\n",
    "import calendar\n",
    "from dateutil.relativedelta import *\n",
    "from bokeh.plotting import figure, show, output_file, output_notebook\n",
    "from bokeh.io import output_notebook, show\n",
    "from bokeh.models import ColumnDataSource\n",
    "output_notebook()"
   ]
  },
  {
   "cell_type": "code",
   "execution_count": 61,
   "metadata": {},
   "outputs": [],
   "source": [
    "logins = pd.read_json('logins.json')"
   ]
  },
  {
   "cell_type": "markdown",
   "metadata": {},
   "source": [
    "Data quality check"
   ]
  },
  {
   "cell_type": "code",
   "execution_count": 85,
   "metadata": {},
   "outputs": [
    {
     "data": {
      "text/html": [
       "<div>\n",
       "<style>\n",
       "    .dataframe thead tr:only-child th {\n",
       "        text-align: right;\n",
       "    }\n",
       "\n",
       "    .dataframe thead th {\n",
       "        text-align: left;\n",
       "    }\n",
       "\n",
       "    .dataframe tbody tr th {\n",
       "        vertical-align: top;\n",
       "    }\n",
       "</style>\n",
       "<table border=\"1\" class=\"dataframe\">\n",
       "  <thead>\n",
       "    <tr style=\"text-align: right;\">\n",
       "      <th></th>\n",
       "      <th>year</th>\n",
       "      <th>month</th>\n",
       "      <th>day</th>\n",
       "      <th>hour</th>\n",
       "      <th>minute</th>\n",
       "      <th>weekday</th>\n",
       "    </tr>\n",
       "  </thead>\n",
       "  <tbody>\n",
       "    <tr>\n",
       "      <th>count</th>\n",
       "      <td>93142.0</td>\n",
       "      <td>93142.000000</td>\n",
       "      <td>93142.000000</td>\n",
       "      <td>93142.000000</td>\n",
       "      <td>93142.000000</td>\n",
       "      <td>93142.000000</td>\n",
       "    </tr>\n",
       "    <tr>\n",
       "      <th>mean</th>\n",
       "      <td>1970.0</td>\n",
       "      <td>2.424062</td>\n",
       "      <td>14.667830</td>\n",
       "      <td>11.635363</td>\n",
       "      <td>29.801711</td>\n",
       "      <td>3.570301</td>\n",
       "    </tr>\n",
       "    <tr>\n",
       "      <th>std</th>\n",
       "      <td>0.0</td>\n",
       "      <td>0.995154</td>\n",
       "      <td>8.596967</td>\n",
       "      <td>7.816792</td>\n",
       "      <td>17.245034</td>\n",
       "      <td>1.946072</td>\n",
       "    </tr>\n",
       "    <tr>\n",
       "      <th>min</th>\n",
       "      <td>1970.0</td>\n",
       "      <td>1.000000</td>\n",
       "      <td>1.000000</td>\n",
       "      <td>0.000000</td>\n",
       "      <td>0.000000</td>\n",
       "      <td>0.000000</td>\n",
       "    </tr>\n",
       "    <tr>\n",
       "      <th>25%</th>\n",
       "      <td>1970.0</td>\n",
       "      <td>2.000000</td>\n",
       "      <td>7.000000</td>\n",
       "      <td>4.000000</td>\n",
       "      <td>15.000000</td>\n",
       "      <td>2.000000</td>\n",
       "    </tr>\n",
       "    <tr>\n",
       "      <th>50%</th>\n",
       "      <td>1970.0</td>\n",
       "      <td>3.000000</td>\n",
       "      <td>14.000000</td>\n",
       "      <td>12.000000</td>\n",
       "      <td>30.000000</td>\n",
       "      <td>4.000000</td>\n",
       "    </tr>\n",
       "    <tr>\n",
       "      <th>75%</th>\n",
       "      <td>1970.0</td>\n",
       "      <td>3.000000</td>\n",
       "      <td>22.000000</td>\n",
       "      <td>19.000000</td>\n",
       "      <td>45.000000</td>\n",
       "      <td>5.000000</td>\n",
       "    </tr>\n",
       "    <tr>\n",
       "      <th>max</th>\n",
       "      <td>1970.0</td>\n",
       "      <td>4.000000</td>\n",
       "      <td>31.000000</td>\n",
       "      <td>23.000000</td>\n",
       "      <td>59.000000</td>\n",
       "      <td>6.000000</td>\n",
       "    </tr>\n",
       "  </tbody>\n",
       "</table>\n",
       "</div>"
      ],
      "text/plain": [
       "          year         month           day          hour        minute  \\\n",
       "count  93142.0  93142.000000  93142.000000  93142.000000  93142.000000   \n",
       "mean    1970.0      2.424062     14.667830     11.635363     29.801711   \n",
       "std        0.0      0.995154      8.596967      7.816792     17.245034   \n",
       "min     1970.0      1.000000      1.000000      0.000000      0.000000   \n",
       "25%     1970.0      2.000000      7.000000      4.000000     15.000000   \n",
       "50%     1970.0      3.000000     14.000000     12.000000     30.000000   \n",
       "75%     1970.0      3.000000     22.000000     19.000000     45.000000   \n",
       "max     1970.0      4.000000     31.000000     23.000000     59.000000   \n",
       "\n",
       "            weekday  \n",
       "count  93142.000000  \n",
       "mean       3.570301  \n",
       "std        1.946072  \n",
       "min        0.000000  \n",
       "25%        2.000000  \n",
       "50%        4.000000  \n",
       "75%        5.000000  \n",
       "max        6.000000  "
      ]
     },
     "execution_count": 85,
     "metadata": {},
     "output_type": "execute_result"
    }
   ],
   "source": [
    "logins.describe()"
   ]
  },
  {
   "cell_type": "code",
   "execution_count": 86,
   "metadata": {},
   "outputs": [
    {
     "data": {
      "text/plain": [
       "login_time    False\n",
       "year          False\n",
       "month         False\n",
       "day           False\n",
       "hour          False\n",
       "minute        False\n",
       "weekday       False\n",
       "start         False\n",
       "dtype: bool"
      ]
     },
     "execution_count": 86,
     "metadata": {},
     "output_type": "execute_result"
    }
   ],
   "source": [
    "logins.isnull().any()"
   ]
  },
  {
   "cell_type": "markdown",
   "metadata": {},
   "source": [
    "## Part 1 ‐ Exploratory data analysis"
   ]
  },
  {
   "cell_type": "code",
   "execution_count": 62,
   "metadata": {},
   "outputs": [
    {
     "data": {
      "text/html": [
       "<div>\n",
       "<style>\n",
       "    .dataframe thead tr:only-child th {\n",
       "        text-align: right;\n",
       "    }\n",
       "\n",
       "    .dataframe thead th {\n",
       "        text-align: left;\n",
       "    }\n",
       "\n",
       "    .dataframe tbody tr th {\n",
       "        vertical-align: top;\n",
       "    }\n",
       "</style>\n",
       "<table border=\"1\" class=\"dataframe\">\n",
       "  <thead>\n",
       "    <tr style=\"text-align: right;\">\n",
       "      <th></th>\n",
       "      <th>login_time</th>\n",
       "      <th>year</th>\n",
       "      <th>month</th>\n",
       "      <th>day</th>\n",
       "      <th>hour</th>\n",
       "      <th>minute</th>\n",
       "      <th>weekday</th>\n",
       "    </tr>\n",
       "  </thead>\n",
       "  <tbody>\n",
       "    <tr>\n",
       "      <th>6</th>\n",
       "      <td>1970-01-01 20:12:16</td>\n",
       "      <td>1970</td>\n",
       "      <td>1</td>\n",
       "      <td>1</td>\n",
       "      <td>20</td>\n",
       "      <td>12</td>\n",
       "      <td>3</td>\n",
       "    </tr>\n",
       "    <tr>\n",
       "      <th>0</th>\n",
       "      <td>1970-01-01 20:13:18</td>\n",
       "      <td>1970</td>\n",
       "      <td>1</td>\n",
       "      <td>1</td>\n",
       "      <td>20</td>\n",
       "      <td>13</td>\n",
       "      <td>3</td>\n",
       "    </tr>\n",
       "    <tr>\n",
       "      <th>1</th>\n",
       "      <td>1970-01-01 20:16:10</td>\n",
       "      <td>1970</td>\n",
       "      <td>1</td>\n",
       "      <td>1</td>\n",
       "      <td>20</td>\n",
       "      <td>16</td>\n",
       "      <td>3</td>\n",
       "    </tr>\n",
       "    <tr>\n",
       "      <th>3</th>\n",
       "      <td>1970-01-01 20:16:36</td>\n",
       "      <td>1970</td>\n",
       "      <td>1</td>\n",
       "      <td>1</td>\n",
       "      <td>20</td>\n",
       "      <td>16</td>\n",
       "      <td>3</td>\n",
       "    </tr>\n",
       "    <tr>\n",
       "      <th>2</th>\n",
       "      <td>1970-01-01 20:16:37</td>\n",
       "      <td>1970</td>\n",
       "      <td>1</td>\n",
       "      <td>1</td>\n",
       "      <td>20</td>\n",
       "      <td>16</td>\n",
       "      <td>3</td>\n",
       "    </tr>\n",
       "  </tbody>\n",
       "</table>\n",
       "</div>"
      ],
      "text/plain": [
       "           login_time  year  month  day  hour  minute  weekday\n",
       "6 1970-01-01 20:12:16  1970      1    1    20      12        3\n",
       "0 1970-01-01 20:13:18  1970      1    1    20      13        3\n",
       "1 1970-01-01 20:16:10  1970      1    1    20      16        3\n",
       "3 1970-01-01 20:16:36  1970      1    1    20      16        3\n",
       "2 1970-01-01 20:16:37  1970      1    1    20      16        3"
      ]
     },
     "execution_count": 62,
     "metadata": {},
     "output_type": "execute_result"
    }
   ],
   "source": [
    "logins['year'] = logins['login_time'].dt.year\n",
    "logins['month'] = logins['login_time'].dt.month\n",
    "logins['day'] = logins['login_time'].dt.day\n",
    "logins['hour'] = logins['login_time'].dt.hour\n",
    "logins['minute'] = logins['login_time'].dt.minute\n",
    "logins['weekday'] = logins['login_time'].dt.dayofweek\n",
    "logins = logins.sort_values(by=['login_time'])\n",
    "logins.head()"
   ]
  },
  {
   "cell_type": "markdown",
   "metadata": {},
   "source": [
    "Aggregate login counts based on 15-minute time intervals"
   ]
  },
  {
   "cell_type": "code",
   "execution_count": 63,
   "metadata": {},
   "outputs": [
    {
     "data": {
      "text/html": [
       "\n",
       "<div class=\"bk-root\">\n",
       "    <div class=\"bk-plotdiv\" id=\"4ad3304a-c7cf-4759-aff6-58502c0684fe\"></div>\n",
       "</div>"
      ]
     },
     "metadata": {},
     "output_type": "display_data"
    },
    {
     "data": {
      "application/javascript": [
       "(function(root) {\n",
       "  function embed_document(root) {\n",
       "    \n",
       "  var docs_json = {\"c02ff777-7843-422f-ac0c-e8b3a1b800f9\":{\"roots\":{\"references\":[{\"attributes\":{\"months\":[0,2,4,6,8,10]},\"id\":\"af1dea71-5a9e-44d3-8671-8e9aad8e6fb4\",\"type\":\"MonthsTicker\"},{\"attributes\":{\"days\":[1,2,3,4,5,6,7,8,9,10,11,12,13,14,15,16,17,18,19,20,21,22,23,24,25,26,27,28,29,30,31]},\"id\":\"aec336a6-b833-449a-8254-dc58f1180fa5\",\"type\":\"DaysTicker\"},{\"attributes\":{\"callback\":null,\"column_names\":[\"time\",\"count\",\"index\"],\"data\":{\"count\":[2,6,9,7,1,4,4,9,8,1,3,16,13,14,15,10,18,12,13,9,8,10,6,7,18,12,6,12,5,6,5,2,5,2,5,4,1,1,1,2,4,3,1,1,1,3,1,3,1,3,1,6,2,7,8,8,5,9,12,18,14,15,17,14,8,4,5,9,2,7,6,5,7,5,5,2,4,7,3,4,5,6,5,2,4,3,3,4,8,5,5,6,7,9,13,13,6,10,11,14,15,18,21,17,12,12,12,15,5,10,7,17,13,13,17,11,22,21,16,11,21,23,17,9,18,21,15,14,15,6,10,11,2,3,4,2,1,2,2,2,3,2,3,2,4,2,3,3,4,1,3,4,7,7,4,6,6,8,4,2,9,6,9,7,15,5,7,11,5,8,6,8,4,3,5,6,6,6,7,1,8,9,7,9,12,4,6,4,7,11,7,6,10,12,15,19,17,13,17,12,15,11,14,15,12,7,15,29,25,21,32,27,22,23,21,26,9,20,13,16,24,24,8,11,8,7,7,11,1,8,1,1,2,2,1,2,2,1,4,4,2,3,3,2,3,7,3,3,5,3,4,5,2,3,8,3,8,3,5,6,6,8,13,5,5,8,10,11,2,4,10,4,2,3,2,6,8,3,5,11,12,4,4,8,3,7,4,6,9,4,6,7,2,7,5,6,8,3,7,4,7,5,7,5,5,1,1,4,3,2,2,7,2,2,2,6,6,5,2,1,1,1,2,1,1,1,2,3,4,2,2,3,3,5,3,3,7,10,16,23,15,15,11,11,8,8,4,11,5,4,6,5,2,4,5,6,8,4,2,3,8,3,3,4,4,2,4,3,7,4,6,2,4,1,2,5,5,5,6,4,4,8,3,10,7,6,7,5,7,4,7,7,8,5,5,4,4,5,5,3,3,3,1,4,3,2,2,2,1,2,1,2,1,1,1,2,1,1,1,3,2,3,4,4,3,3,4,13,9,15,9,14,14,17,17,7,6,6,6,6,5,4,5,10,1,4,5,2,3,2,6,7,2,4,3,2,6,1,9,10,3,1,7,5,5,7,7,8,11,8,23,24,19,11,12,9,7,7,8,9,11,5,4,5,9,6,4,8,8,10,6,11,10,1,6,4,4,3,6,3,2,2,2,2,1,2,1,2,3,1,1,2,1,2,3,2,2,6,7,3,16,5,16,10,12,12,20,15,18,13,11,10,12,7,9,3,5,7,8,5,1,9,5,4,5,4,4,3,1,6,5,4,5,5,6,5,3,2,5,6,10,8,14,15,7,13,15,13,18,10,19,7,6,11,8,16,8,11,9,14,7,9,17,10,13,3,7,6,6,7,7,4,1,5,2,4,2,1,1,3,1,2,3,1,4,2,1,3,5,5,5,9,15,5,15,11,6,7,10,12,18,12,8,12,8,8,4,4,6,2,1,3,1,5,2,4,1,6,4,2,6,1,5,12,13,10,6,16,19,14,13,12,12,21,20,10,10,11,23,20,20,10,17,23,18,18,10,20,13,12,12,10,7,4,6,4,5,5,6,2,2,1,4,3,2,3,3,1,2,1,1,5,3,1,3,4,7,11,7,12,13,14,8,14,19,10,6,9,12,6,7,12,13,10,16,12,12,9,13,9,14,12,5,11,18,11,7,10,16,13,9,12,10,6,7,7,7,11,12,13,8,13,6,14,14,9,8,13,11,9,16,13,15,14,16,20,13,21,29,34,26,24,17,17,16,20,10,21,19,22,14,3,4,12,9,9,1,1,2,4,5,2,3,1,1,1,1,3,1,1,2,1,1,3,5,6,4,11,17,12,10,5,6,7,14,17,19,13,23,10,15,28,19,23,25,14,18,11,8,12,17,15,21,7,6,7,12,12,11,4,4,4,9,4,6,5,4,9,16,10,13,8,7,8,15,12,7,16,18,26,19,27,22,26,6,8,19,20,17,20,22,25,45,24,11,11,8,14,11,7,3,5,2,2,1,1,5,1,1,1,1,4,2,1,2,3,3,6,4,2,10,6,7,10,9,14,8,10,19,17,14,19,27,12,21,21,19,30,30,20,25,15,15,17,13,7,5,4,6,4,10,5,5,6,4,4,4,10,8,2,4,6,2,6,8,5,4,10,7,7,5,7,8,7,6,1,6,9,10,6,10,3,2,5,4,5,4,2,1,1,1,1,1,3,1,1,2,1,4,6,2,4,8,10,7,5,6,11,8,12,21,14,14,8,15,13,12,8,8,4,2,6,7,3,2,2,1,5,3,7,3,1,1,6,3,4,1,2,5,3,4,5,2,8,4,4,6,5,11,11,7,5,14,12,8,5,7,7,3,6,6,6,5,6,6,8,4,6,3,2,1,6,2,7,1,1,1,4,1,2,1,2,2,2,1,1,1,1,3,4,4,2,7,3,8,2,3,12,13,23,15,9,5,11,13,8,9,6,7,4,5,7,1,3,2,3,4,5,1,6,3,2,1,5,3,1,1,1,3,4,2,6,3,7,10,4,1,5,7,15,14,7,7,12,12,19,16,4,14,9,10,9,13,11,5,11,11,8,4,6,1,5,3,4,6,2,2,2,6,5,2,1,2,2,3,2,2,2,2,1,1,4,3,4,2,2,6,8,11,7,13,23,15,10,10,6,10,11,9,6,6,1,3,11,2,4,3,3,6,6,4,1,4,3,2,4,1,4,3,3,4,2,2,2,4,6,5,3,10,12,6,4,11,14,10,19,12,5,6,12,11,13,15,14,12,12,5,8,6,10,5,5,9,5,6,7,3,2,3,7,1,2,1,1,1,2,1,1,2,1,3,1,7,3,8,8,8,4,12,14,20,16,12,13,10,12,7,16,8,8,2,10,4,7,4,1,1,1,3,3,1,2,2,3,1,3,6,2,4,1,8,4,3,6,3,5,9,6,15,10,10,13,14,22,19,12,19,10,10,15,11,9,18,22,13,14,8,11,12,8,9,17,6,8,6,3,2,3,1,8,5,6,3,4,2,1,2,4,3,1,1,1,3,1,1,4,4,3,3,6,10,11,15,15,19,15,5,23,10,7,5,9,4,4,6,10,11,6,8,4,6,8,3,2,5,4,6,6,7,5,5,9,6,7,2,7,5,4,11,11,17,10,18,12,25,21,23,17,21,19,15,13,15,16,19,19,27,13,22,24,11,25,20,29,20,22,8,13,19,16,19,21,23,21,19,9,7,7,7,4,4,2,4,2,4,2,5,3,3,2,3,1,3,3,2,5,7,4,7,7,4,14,7,6,10,14,11,10,10,10,13,21,14,17,13,11,13,12,13,9,12,14,5,5,7,7,9,8,5,10,11,2,13,13,22,7,13,13,20,12,13,14,13,13,10,17,11,14,15,15,24,15,17,15,17,29,38,29,28,34,33,16,28,20,42,34,24,30,15,10,15,10,5,4,1,5,6,2,3,3,2,6,3,1,1,1,3,1,1,2,1,3,1,3,3,7,5,6,5,4,7,14,11,6,5,14,16,15,5,11,8,8,5,10,6,9,3,5,3,6,7,7,7,7,4,6,5,6,6,9,6,10,5,7,8,4,9,5,8,5,2,9,7,2,9,8,7,10,6,4,6,3,6,3,2,2,7,3,4,1,3,3,3,5,4,2,2,2,2,1,2,1,2,2,2,3,3,5,5,7,6,10,17,17,13,8,18,6,9,4,12,4,9,4,1,5,5,1,3,4,1,8,2,3,2,6,3,3,4,2,5,1,4,1,2,3,2,7,2,3,7,9,10,13,9,6,5,9,10,4,5,7,6,7,8,8,5,9,12,11,5,2,7,4,3,1,3,2,4,1,4,1,5,2,1,1,1,3,1,4,2,1,3,1,1,2,2,8,11,10,22,19,21,19,17,17,18,6,3,6,6,4,7,3,3,5,2,3,5,3,2,3,9,3,4,2,1,6,3,2,3,8,6,3,5,2,8,8,8,10,11,13,12,11,11,5,9,12,2,11,13,8,10,11,16,4,7,6,9,5,5,8,2,3,3,1,2,4,3,1,1,2,1,4,1,1,1,2,1,3,2,7,5,6,4,6,13,7,9,15,12,27,9,16,11,8,5,7,4,3,4,8,6,3,4,2,3,2,2,4,3,3,4,4,1,3,1,4,2,2,4,1,4,5,5,4,11,11,8,6,8,11,11,6,20,10,10,9,12,14,15,9,10,10,10,10,4,12,5,6,1,7,9,3,1,3,3,6,3,3,1,1,1,5,1,1,1,4,1,4,2,3,5,7,8,3,11,5,16,13,14,19,10,10,6,8,7,9,5,6,3,4,4,5,4,5,2,3,3,4,2,3,5,4,1,3,4,6,4,7,2,1,7,9,10,13,8,9,9,6,16,19,20,10,22,13,12,11,21,13,15,7,18,20,18,18,13,16,12,10,10,7,1,5,5,4,6,5,1,4,2,2,1,2,1,2,1,1,2,3,10,6,5,4,5,8,13,11,11,20,22,10,25,17,11,4,7,8,9,6,8,4,3,5,3,10,5,5,6,4,6,2,5,3,6,5,7,5,9,6,4,8,5,2,8,19,7,17,13,16,13,9,23,20,30,27,12,18,18,17,16,11,10,16,19,25,15,26,22,21,26,18,25,20,15,23,22,23,32,23,6,4,10,3,8,2,6,1,1,2,2,2,2,5,2,2,2,1,2,7,2,1,11,5,7,3,8,7,5,5,8,13,9,8,10,6,6,5,11,8,9,8,7,6,6,10,5,8,4,12,7,6,8,9,5,8,4,6,5,10,13,9,7,14,14,5,16,16,17,13,9,17,14,9,14,18,16,14,15,18,20,19,30,30,29,22,18,21,19,24,31,36,24,23,10,9,3,3,3,5,7,3,3,1,1,1,5,3,2,6,2,4,2,2,6,7,6,4,5,9,2,14,8,9,5,10,11,7,6,11,5,10,13,10,5,6,6,7,3,3,8,3,8,8,8,6,4,5,8,3,7,2,8,3,5,4,3,5,1,11,4,3,8,5,7,5,8,5,10,7,2,2,5,6,1,4,6,1,3,2,2,1,1,1,2,2,2,2,2,2,1,1,2,3,5,5,6,2,5,6,15,16,11,11,22,13,11,13,7,11,3,2,6,5,6,2,3,4,6,4,4,5,1,6,3,10,2,5,2,1,2,4,6,3,4,2,3,2,1,8,6,5,4,7,9,6,11,7,9,3,4,8,6,10,12,12,16,9,6,16,9,9,6,8,8,5,5,5,4,2,2,3,1,2,1,2,1,1,1,3,1,2,1,7,3,4,9,4,5,9,9,11,15,14,15,14,14,7,9,5,10,5,5,4,3,4,4,4,5,3,4,3,4,3,2,2,2,7,6,4,5,5,2,6,2,1,9,10,12,15,19,11,10,14,4,10,8,7,14,8,13,11,9,16,15,12,8,11,15,14,15,8,6,5,4,9,4,7,11,11,4,4,2,1,1,2,1,1,3,3,2,1,1,11,7,4,5,8,8,14,15,19,19,21,13,13,4,7,8,7,6,7,4,5,9,6,4,6,5,4,1,2,3,1,1,2,6,2,5,2,3,2,6,2,4,1,6,17,7,7,17,7,8,8,13,7,9,8,10,13,6,11,13,12,8,11,9,9,8,11,7,10,3,8,2,2,4,3,4,4,6,3,2,1,3,4,3,2,1,2,2,1,4,3,5,2,7,8,9,8,11,19,19,15,13,14,11,10,8,9,9,3,2,7,9,5,8,10,9,4,4,2,3,3,2,4,3,3,3,3,2,6,7,3,10,11,5,6,7,4,4,12,18,11,17,13,19,18,9,17,12,17,11,17,6,13,16,6,12,10,5,7,15,8,10,4,10,5,4,5,9,4,11,1,4,2,5,1,2,5,2,2,2,2,1,2,4,9,7,3,8,10,2,16,15,13,22,16,17,12,9,9,12,8,2,9,8,5,9,3,1,5,3,4,2,3,3,1,4,8,5,8,10,6,6,7,6,6,7,4,6,8,10,4,14,13,15,9,16,10,15,9,14,10,12,14,16,16,15,10,16,12,24,17,19,17,7,11,17,18,14,11,11,24,17,26,17,9,7,5,4,4,5,2,2,1,3,3,1,1,3,2,1,5,4,3,3,7,8,4,5,7,4,8,7,9,6,8,8,7,6,5,6,9,9,2,6,15,7,5,10,5,9,4,6,5,10,8,4,5,12,3,5,7,6,4,11,11,10,13,10,16,16,10,9,7,14,12,11,17,15,16,7,16,14,17,17,24,17,17,24,15,18,21,25,32,33,27,15,11,12,4,7,3,3,4,1,1,2,2,1,1,1,1,4,3,3,2,4,1,3,6,6,9,2,6,7,13,14,7,6,13,12,11,12,15,15,5,14,7,2,4,7,8,9,12,4,5,3,9,4,11,9,3,4,5,2,3,4,8,11,11,7,11,13,10,11,11,5,7,11,15,17,12,16,10,7,13,9,16,10,5,6,11,7,11,8,14,9,12,5,4,5,2,3,2,2,2,6,4,3,1,5,2,4,1,2,3,3,3,1,1,3,4,2,4,5,6,6,9,7,8,7,8,9,7,6,10,4,12,10,7,6,6,6,7,1,8,6,1,5,6,4,3,4,4,9,2,6,6,5,1,10,11,7,7,5,10,8,10,3,8,9,9,4,5,4,5,3,4,3,12,5,3,3,2,2,2,1,2,1,4,4,3,1,2,2,1,1,2,2,5,7,6,5,5,4,9,8,14,19,20,28,10,12,10,8,6,2,5,11,3,5,6,6,2,2,3,3,6,2,5,2,2,7,3,6,1,2,1,6,4,4,4,4,4,4,6,8,4,5,1,4,5,8,10,11,10,5,2,3,4,5,8,4,5,9,4,4,3,2,3,2,1,1,3,3,5,1,1,4,4,2,1,1,1,1,4,3,1,4,2,2,11,13,9,12,16,10,7,16,17,7,4,11,6,7,3,2,3,10,4,4,5,3,4,4,3,3,4,4,1,5,6,4,1,3,6,5,7,8,8,7,9,12,6,12,11,2,7,9,8,13,7,7,7,10,11,8,10,14,10,10,7,7,4,4,6,5,4,3,1,3,6,5,1,3,1,1,1,1,1,3,4,1,7,4,8,5,14,13,16,16,18,23,8,13,10,12,9,13,8,9,5,5,8,5,8,8,4,3,5,9,5,2,1,3,5,6,6,3,5,7,4,7,7,6,8,5,12,15,11,7,6,12,17,11,13,15,16,18,14,16,10,10,17,20,12,13,8,9,14,14,15,7,10,5,6,12,5,4,6,7,6,4,3,2,2,3,2,3,1,1,1,1,2,10,7,2,9,17,14,17,16,24,18,21,12,20,11,7,6,13,9,6,8,12,7,5,7,6,8,4,9,5,3,6,6,3,8,5,5,4,5,7,10,11,12,13,8,28,13,17,18,25,18,23,31,38,23,32,18,32,23,20,24,16,9,23,13,23,23,22,24,22,23,21,20,18,23,20,38,46,32,29,11,6,9,6,8,4,1,4,5,2,1,1,1,1,4,2,1,4,3,5,5,2,6,10,10,5,10,17,14,9,11,16,13,13,11,7,8,9,8,2,7,5,8,7,11,3,8,9,6,5,6,6,9,5,9,11,11,9,6,19,13,7,12,13,20,17,15,20,17,21,20,13,17,14,13,19,15,21,20,32,30,22,34,26,27,46,26,24,25,31,30,40,34,19,19,8,4,2,7,2,5,5,3,3,2,2,8,7,2,6,2,3,4,4,1,3,1,4,3,3,5,18,11,14,15,12,15,15,12,22,16,20,11,19,13,10,25,24,23,11,11,12,6,11,12,8,10,10,8,19,10,12,11,5,5,15,10,11,13,9,8,10,10,8,6,10,13,14,8,9,6,8,4,4,7,6,3,3,2,1,5,3,2,2,1,5,6,1,1,1,1,2,4,3,4,3,1,2,2,2,3,2,12,3,4,4,9,14,15,12,19,22,11,12,10,10,7,8,6,4,4,6,3,1,6,2,4,8,3,1,2,1,5,2,3,1,5,6,3,7,4,5,4,3,4,6,6,14,9,7,7,7,6,11,8,10,8,9,4,11,6,7,7,7,8,8,7,12,4,4,3,2,4,1,2,1,3,2,1,3,1,2,1,1,2,1,3,3,4,8,4,8,7,14,9,15,15,20,20,14,20,10,9,7,9,7,2,7,5,9,7,8,6,2,2,3,4,4,2,5,2,3,4,3,6,7,4,5,4,3,6,7,9,7,16,12,21,7,5,11,9,12,14,8,12,6,12,14,11,20,20,17,9,6,10,5,8,6,2,7,4,7,2,5,2,1,1,5,1,2,3,1,3,2,1,3,1,2,2,1,1,4,3,7,7,6,12,20,26,22,29,22,16,14,13,8,9,11,8,8,2,6,11,5,11,8,3,3,5,3,2,3,4,4,3,3,2,5,3,7,3,2,2,3,2,3,5,10,11,14,17,6,15,17,18,17,11,7,10,11,13,21,15,10,11,18,8,9,6,5,10,9,7,5,2,4,4,5,8,5,4,2,1,2,1,3,1,3,1,2,2,3,4,5,5,9,4,20,14,25,28,21,22,14,15,11,9,10,8,8,6,2,11,13,10,7,7,2,3,5,4,3,2,2,3,2,2,1,1,7,8,4,7,9,5,8,13,13,14,17,21,16,20,24,20,20,20,21,23,17,17,11,26,18,17,25,11,13,10,14,7,8,15,11,13,8,6,10,10,7,5,10,2,3,2,3,3,1,2,4,2,1,4,4,2,5,5,7,3,10,10,18,16,23,15,10,15,18,9,6,6,8,6,11,6,11,6,4,3,4,2,2,4,2,9,5,6,4,8,5,11,10,8,9,7,11,13,14,12,11,15,19,22,12,21,22,16,31,18,32,23,11,17,12,16,24,20,14,28,24,22,31,25,28,24,23,23,21,16,27,27,30,34,21,23,25,8,6,4,2,3,3,1,1,3,4,1,2,1,3,1,3,3,2,4,2,3,6,10,4,6,5,15,6,7,14,15,9,12,20,5,3,13,5,8,8,10,15,8,9,9,11,9,9,5,9,12,10,10,11,7,6,17,16,17,11,12,25,18,10,19,27,15,26,11,20,10,14,20,14,14,10,22,23,22,18,27,33,22,29,27,23,34,43,31,40,50,32,17,8,7,11,7,1,1,3,3,1,2,3,2,1,6,1,8,2,1,1,1,4,1,3,1,1,2,1,13,7,11,9,5,10,9,5,10,14,18,12,15,17,22,9,15,6,11,3,9,6,5,6,8,6,18,14,19,16,10,13,6,14,9,9,11,11,6,9,11,10,14,8,11,14,9,9,11,4,7,7,8,5,4,1,2,7,3,6,2,4,1,4,4,3,2,1,3,1,4,3,1,2,1,2,2,3,5,3,6,7,8,12,9,15,19,20,11,17,10,11,4,12,9,6,6,7,4,6,6,3,2,5,1,4,3,5,6,2,4,6,3,4,4,3,4,2,6,7,9,9,9,13,13,12,13,8,9,9,13,14,11,14,9,11,11,8,15,8,7,9,8,11,12,7,5,4,7,2,4,6,6,1,2,4,2,4,1,2,1,2,3,2,3,3,1,4,7,7,5,5,6,15,12,16,21,22,13,20,13,9,10,13,4,6,8,6,9,6,4,9,4,5,5,2,6,2,3,1,3,4,3,9,6,2,10,3,5,8,10,12,15,9,9,15,13,26,16,8,21,14,16,2,12,14,17,17,13,15,14,12,13,16,13,8,7,6,2,3,3,6,3,4,4,1,2,1,3,1,1,2,2,4,1,2,2,8,8,4,7,9,24,14,19,23,31,13,12,16,12,7,5,8,6,4,11,5,4,3,4,3,6,4,8,4,3,5,3,5,5,3,7,4,7,1,8,5,7,12,14,13,8,8,13,16,13,15,14,15,20,20,16,8,21,14,15,7,22,13,23,14,13,23,9,10,9,5,6,2,4,5,1,8,4,2,4,2,3,1,2,1,9,6,9,12,5,16,16,16,27,25,17,16,15,19,7,10,5,12,10,3,6,14,4,3,4,3,8,7,10,5,2,9,5,6,2,3,9,11,14,10,10,3,8,13,11,9,14,16,24,17,17,21,22,19,28,31,18,15,17,18,20,26,23,22,25,17,22,11,9,19,15,14,10,9,6,7,3,4,10,7,6,3,4,4,5,2,1,1,1,1,1,2,4,2,5,5,3,5,10,11,20,12,17,23,16,16,17,20,11,9,12,10,6,7,8,16,15,12,3,10,9,6,6,2,7,5,8,10,8,7,7,13,7,9,14,17,14,13,16,15,15,28,19,18,22,25,31,36,28,27,30,17,17,25,33,21,18,35,42,32,30,30,23,39,20,36,42,36,32,35,33,32,35,29,21,15,10,14,6,6,6,4,6,2,2,1,1,2,4,4,5,5,5,8,12,14,7,9,7,11,11,11,13,14,17,16,17,10,7,21,14,11,11,10,17,11,13,10,8,4,9,10,8,15,8,10,4,12,11,22,22,14,10,15,21,23,23,19,17,34,20,12,21,28,21,28,11,11,14,30,22,24,27,25,35,32,30,31,40,30,28,42,34,41,40,17,18,13,11,8,5,7,5,5,3,6,4,1,1,1,3,1,8,1,2,3,6,4,1,5,4,5,9,11,11,21,19,11,14,17,15,9,21,9,17,19,18,21,16,15,12,20,13,17,11,7,7,10,11,15,16,10,7,11,17,23,14,29,17,12,19,13,18,14,17,13,10,6,13,11,11,12,14,10,8,10,6,5,8,5,6,4,3,4,3,6,3,3,5,3,1,1,1,1,2,1,6,2,2,3,11,3,3,4,3,6,4,6,8,11,16,8,20,22,16,21,12,14,3,4,6,8,3,3,8,6,8,5,6,7,1,2,4,7,6,6,2,5,8,7,5,7,2,2,7,4,7,8,5,8,15,10,17,16,12,11,6,14,12,11,12,10,10,10,9,8,11,9,16,8,5,7,3,4,1,4,2,4,4,2,6,5,9,3,4,1,1,4,2,1,1,2,1,3,1,6,2,5,4,8,10,18,9,10,19,18,19,14,14,11,10,6,9,6,10,2,7,8,4,4,4,2,3,5,8,2,1,4,2,6,6,6,7,8,8,2,4,2,6,5,11,7,6,9,7,11,14,5,9,12,11,14,19,11,11,15,9,13,5,15,14,7,9,11,8,3,5,6,8,4,2,5,3,2,7,3,1,2,1,2,2,2,2,2,2,1,5,3,1,7,9,15,7,12,17,10,26,18,13,15,15,12,8,12,10,5,5,6,7,11,7,6,9,4,6,3,4,5,3,3,1,4,1,5,6,2,2,2,7,4,2,7,11,12,9,8,18,12,18,19,15,17,15,20,22,13,12,13,14,16,13,9,13,10,6,10,11,13,8,3,4,5,7,5,4,5,1,2,3,1,1,1,2,1,2,2,4,4,2,10,9,6,12,11,13,14,16,20,24,24,19,18,24,11,7,8,9,2,5,5,9,7,4,2,2,4,7,3,5,1,5,1,2,2,3,5,6,6,7,12,8,12,7,15,12,16,20,12,18,27,13,19,18,24,20,19,14,13,18,8,9,25,17,16,16,14,15,13,16,6,12,8,5,2,4,3,6,13,5,4,1,5,5,4,2,3,1,3,1,3,3,1,1,2,2,9,6,9,13,16,14,17,23,23,14,15,16,7,5,5,10,6,6,6,14,10,4,7,6,4,6,5,7,6,4,8,11,8,8,6,8,8,6,9,11,9,10,15,10,19,17,25,17,38,24,32,35,13,29,39,17,18,14,17,22,21,27,17,30,29,33,39,37,31,26,41,20,30,17,27,32,41,27,26,19,10,12,2,4,6,2,4,3,2,3,3,6,1,2,2,3,1,3,6,8,3,5,13,6,8,6,11,14,11,13,7,12,23,16,10,11,16,18,21,11,11,4,5,6,6,6,10,15,4,12,14,15,12,8,9,17,11,9,15,16,14,21,25,25,32,27,20,23,27,17,18,16,19,17,12,20,21,31,26,17,20,22,26,32,41,34,26,43,41,73,48,22,14,8,7,10,10,9,4,3,3,3,2,1,3,3,2,1,2,1,1,4,4,3,3,7,8,12,13,5,13,15,11,9,10,16,8,13,16,16,17,11,16,21,11,14,13,13,6,8,9,6,4,8,10,4,12,13,16,11,13,9,14,12,8,8,12,9,13,10,13,17,3,9,9,11,5,9,5,8,8,6,12,12,8,6,11,6,4,6,3,2,6,5,1,2,4,1,1,3,4,2,4,2,2,4,3,3,8,7,10,11,11,16,24,10,19,14,17,9,6,9,2,10,8,4,6,9,8,3,6,13,7,1,3,2,5,4,6,4,4,3,6,3,4,5,8,7,9,4,9,15,12,16,16,14,9,15,16,8,10,10,4,7,10,9,5,8,8,8,9,7,9,5,9,5,4,6,2,3,1,4,3,1,1,2,1,1,2,1,1,2,4,3,5,5,9,10,7,19,24,22,24,13,15,16,4,4,8,3,6,6,6,6,4,3,5,4,1,8,4,9,4,4,3,5,6,6,9,5,3,4,4,5,9,12,8,10,18,10,12,15,16,30,28,22,21,20,15,19,12,16,27,17,20,22,17,15,10,7,4,10,4,4,6,2,3,4,5,5,6,2,1,2,2,2,1,1,3,4,1,1,1,1,4,3,5,8,6,8,14,11,29,25,20,22,9,16,8,5,5,6,11,2,6,9,9,4,3,9,5,3,5,8,3,1,7,6,6,11,6,3,3,10,8,8,8,15,15,12,19,22,29,22,16,27,19,21,9,24,13,34,16,12,17,12,20,15,14,14,4,16,10,6,8,7,7,4,5,9,7,3,5,2,1,2,1,2,4,2,1,5,5,4,2,4,6,4,13,22,21,15,24,27,13,11,11,14,9,8,7,11,1,5,7,10,11,10,10,3,1,2,3,4,5,2,10,3,7,5,10,9,4,11,12,6,13,11,14,15,14,20,21,19,21,12,31,32,26,14,18,20,14,16,12,20,22,21,24,20,13,14,11,17,10,7,3,7,8,4,3,4,9,7,4,1,5,1,2,1,2,1,3,3,1,7,4,9,7,6,7,16,9,17,27,20,17,17,11,9,6,8,9,13,8,7,6,7,2,5,9,8,9,7,5,7,10,7,11,14,7,11,16,21,8,9,13,17,12,13,16,12,24,26,20,41,37,31,27,37,26,34,26,25,23,20,27,19,43,27,32,34,37,33,29,25,47,37,30,38,19,31,42,46,28,22,14,11,10,6,9,2,3,3,2,4,2,2,3,2,2,5,3,8,10,3,8,6,3,4,5,9,14,13,16,24,20,20,19,31,23,16,23,15,17,22,18,18,20,25,14,8,21,21,18,16,15,20,16,12,8,18,15,25,21,9,8,23,27,24,13,21,30,23,22,22,14,23,18,20,24,24,25,24,27,35,38,27,33,25,30,38,23,35,30,43,51,47,31,21,12,9,8,7,5,5,4,2,2,5,1,2,3,5,4,3,3,5,8,2,6,7,10,7,6,9,9,20,18,23,9,23,19,16,21,17,11,11,8,10,14,17,14,21,11,15,14,14,9,11,17,13,10,18,20,12,8,14,11,7,13,8,5,19,8,15,9,11,8,9,3,9,6,10,7,5,4,7,7,1,2,2,3,3,2,2,1,6,1,3,1,7,1,2,2,2,4,1,3,4,2,6,5,3,1,5,6,10,5,14,19,15,19,18,17,13,14,13,9,6,11,5,7,5,3,3,6,6,2,4,11,8,3,4,10,5,2,4,3,6,4,4,8,6,4,3,6,3,6,2,17,15,15,11,7,11,14,13,16,11,12,14,10,4,10,5,12,3,6,9,7,2,4,4,5,5,1,1,3,1,4,4,4,2,3,1,2,2,1,2,1,3,1,1,3,2,2,2,4,4,8,4,8,10,17,21,22,17,17,9,15,11,7,4,7,3,5,7,5,11,4,5,3,5,4,2,2,4,3,5,5,8,6,5,6,3,4,9,10,8,11,16,19,14,11,18,7,17,10,17,11,21,11,13,9,14,21,15,18,11,14,14,10,6,6,8,5,5,7,4,6,4,5,9,3,8,1,5,1,1,1,3,1,3,1,5,2,4,1,3,7,5,9,14,10,19,16,25,21,8,14,18,7,9,3,5,6,8,6,6,6,4,9,4,6,3,5,3,1,2,3,2,3,7,2,8,7,7,3,4,3,6,6,6,8,12,15,21,12,24,16,20,13,17,24,21,24,20,21,12,9,8,13,15,8,13,12,10,13,1,11,11,11,2,2,4,3,2,4,1,1,2,1,3,1,1,3,4,2,2,3,2,3,11,6,8,17,13,16,20,23,25,24,19,11,10,5,8,8,1,3,13,9,5,6,2,5,1,6,3,1,4,1,4,6,6,3,7,9,6,13,7,11,9,7,18,18,17,13,13,13,16,25,14,15,18,20,9,12,26,10,14,12,17,16,13,13,14,11,9,12,5,9,8,12,8,7,7,7,10,6,3,6,1,5,3,1,3,1,1,3,1,4,5,3,8,13,5,10,10,17,15,21,18,13,13,8,10,14,6,8,7,3,9,8,8,4,3,4,6,4,9,7,5,6,6,6,13,11,11,14,10,11,17,17,17,18,26,26,33,41,45,37,41,55,39,34,35,25,26,27,24,30,24,27,23,27,41,30,31,31,28,36,28,36,36,34,36,30,25,30,40,18,6,12,8,11,8,3,2,4,3,3,5,1,3,2,1,1,3,7,1,5,3,4,8,8,6,11,16,8,7,7,13,17,15,10,7,13,19,18,22,25,27,21,25,23,21,29,19,33,24,18,18,22,15,18,18,23,16,19,17,16,15,18,19,22,34,30,28,29,20,33,23,22,27,20,29,18,27,31,24,27,26,42,35,32,37,27,21,31,41,34,39,33,29,33,10,5,13,8,5,2,1,3,2,3,4,1,1,3,3,4,2,1,4,5,8,6,7,2,8,9,11,14,13,16,4,16,17,19,14,20,22,20,12,19,23,22,12,26,17,20,21,18,17,20,8,9,13,18,8,11,16,6,23,20,18,19,17,20,20,23,13,19,20,23,17,10,18,19,16,23,13,15,4,8,5,2,6,7,6,5,4,3,3,3,5,3,2,2,1,3,1,1,2,3,3,5,2,9,8,15,19,16,18,13,23,14,20,9,12,16,7,13,11,8,9,9,13,5,10,7,2,2,2,7,7,2,4,3,5,4,9,10,7,4,4,5,3,10,14,8,4,12,13,16,22,21,12,28,25,11,9,11,21,24,37,29,34,42,35,36,29,53,38,28,30,29,30,18,6,7,6,4,4,5,8,5,2,1,4,1,1,1,1,1,3,1,1,2,3,5,4,6,14,9,12,17,28,19,23,30,27,25,21,16,11,7,4,12,7,7,8,10,11,10,18,9,12,6,2,6,2,5,6,9,7,9,6,6,14,8,9,16,16,10,13,13,23,14,19,21,28,20,31,25,15,20,21,10,17,19,26,18,23,23,18,16,23,18,18,14,15,15,10,8,9,5,7,7,3,4,5,1,1,1,2,1,1,2,5,1,2,1,5,5,5,10,12,11,18,21,37,35,35,23,30,17,12,16,5,9,9,5,7,7,10,7,6,4,6,1,6,7,8,10,3,5,12,12,11,13,14,11,18,18,16,20,18,18,17,19,19,15,25,41,26,21,19,16,26,22,19,29,24,19,23,26,36,22,26,24,20,19,19,20,13,11,9,8,8,13,6,9,12,5,6,3,3,2,2,3,3,5,5,3,7,9,9,9,11,11,15,31,33,30,33,30,25,25,13,11,11,10,15,10,13,17,12,17,10,9,7,7,9,16,5,14,9,14,15,13,10,21,12,17,11,16,13,16,16,13,13,17,12,20,33,29,33,25,20,31,24,45,26,20,22,18,23,29,22,22,19,18,27,15,15,13,16,9,6,15,10,9,19,8,4,3,4,4,4,3,2,1,2,4,1,5,1,2,5,1,1,6,8,7,8,9,14,14,14,17,25,21,14,22,18,9,11,9,14,8,14,14,10,11,7,6,3,7,7,2,7,10,9,6,5,11,8,14,11,12,14,13,14,10,14,16,10,16,22,27,23,26,34,32,25,25,22,26,22,16,23,18,20,22,32,37,30,32,43,28,33,26,34,38,24,37,30,41,42,33,25,10,18,8,4,7,5,4,4,3,2,1,3,3,1,2,1,2,4,2,3,5,4,9,9,9,14,12,13,13,14,18,20,14,5,9,20,10,13,14,18,16,11,12,14,15,17,14,7,8,11,10,13,16,9,11,6,15,8,15,10,20,22,15,21,23,28,18,17,25,17,18,18,11,18,20,17,23,19,36,46,25,45,32,27,20,36,28,32,26,46,40,45,27,32,22,19,19,7,12,13,5,3,2,1,1,6,5,7,9,11,12,6,6,5,8,10,9,9,10,10,10,16,13,15,11,14,11,20,22,15,16,20,23,17,9,15,14,13,20,15,12,8,10,8,10,6,8,9,13,12,10,3,11,4,13,12,16,5,7,13,18,15,11,8,10,14,12,4,14,6,11,10,6,5,6,6,11,8,9,6,2,1,9,6,2,1,4,2,4,2,1,1,1,1,1,3,1,1,1,1,1,2,3,4,5,8,4,11,9,13,13,15,21,18,24,29,21,26,30,16,22,9,11,7,2,9,10,8,7,3,6,7,2,5,5,2,2,2,8,4,3,2,7,5,4,7,6,11,6,3,12,8,13,10,13,15,15,13,9,8,13,11,8,14,11,13,11,10,5,13,11,11,6,5,7,2,2,1,2,2,5,9,3,5,1,1,1,3,1,1,1,3,2,6,3,6,8,5,8,13,9,16,21,20,24,20,6,26,17,10,7,8,5,6,4,2,6,2,6,5,5,4,4,8,3,6,5,4,2,8,8,7,5,3,6,4,8,8,8,6,11,17,11,15,13,12,12,8,16,12,17,20,16,27,9,15,6,14,15,9,16,15,10,11,3,6,6,5,3,4,6,1,5,10,6,5,2,1,2,2,2,1,2,3,3,3,5,8,5,12,15,20,20,29,15,18,10,11,7,6,10,12,6,4,4,9,5,7,5,3,2,2,5,3,5,4,4,2,4,3,1,7,6,6,5,7,9,9,10,8,7,15,11,11,19,22,21,16,14,19,21,22,27,14,14,17,15,6,11,8,10,9,4,10,6,4,1,7,5,6,1,6,5,4,2,2,1,1,1,1,1,1,1,2,3,1,4,1,5,9,11,10,11,10,16,18,23,17,24,18,21,13,12,11,9,6,9,9,8,13,6,4,8,4,7,4,4,7,3,4,6,2,4,12,10,8,11,9,5,7,7,10,11,13,12,15,14,22,21,25,14,25,20,19,18,16,18,34,25,17,19,15,14,31,21,22,14,10,11,17,10,10,9,5,6,7,6,5,2,6,3,2,3,2,2,4,2,2,3,5,2,3,5,4,8,12,13,8,14,10,24,27,17,13,11,18,12,6,12,8,7,7,6,8,6,7,4,14,5,5,9,5,14,10,10,11,16,17,17,17,10,8,12,25,14,18,15,17,13,11,17,16,27,22,18,23,23,23,31,33,33,26,23,31,28,28,25,25,33,31,31,30,23,24,40,35,29,25,50,38,19,16,7,7,13,11,7,3,4,2,1,1,6,3,5,4,2,7,2,5,2,6,10,11,10,8,5,19,11,7,12,13,12,14,15,19,14,11,13,12,15,12,14,10,11,14,16,16,10,10,18,14,3,12,17,19,24,17,22,15,8,9,15,8,9,16,21,14,16,30,11,20,13,20,16,16,32,30,28,30,27,25,28,32,19,50,43,45,34,38,38,37,31,41,44,52,41,29,16,10,16,3,10,11,6,7,5,8,7,3,1,1,6,4,2,8,8,5,11,10,6,4,11,3,7,5,6,12,14,24,14,13,24,14,10,13,12,10,13,10,9,13,6,8,14,12,17,12,14,14,11,7,15,13,17,15,5,11,9,13,15,15,13,7,9,10,11,15,21,15,12,11,9,14,5,13,6,10,10,5,6,4,5,7,2,5,4,2,4,1,3,2,2,1,1,1,2,3,3,5,1,2,5,1,3,9,7,4,8,15,22,22,21,37,26,15,10,29,7,7,5,6,5,4,3,5,5,1,3,5,4,5,3,2,7,5,3,2,6,6,3,6,4,10,7,7,10,8,4,7,10,11,11,18,10,17,14,12,11,8,11,7,4,14,8,11,6,14,7,6,8,5,4,4,4,6,3,2,6,5,6,4,4,1,2,2,3,2,1,2,3,1,1,1,3,1,2,2,3,3,8,5,5,7,16,22,24,14,9,18,7,13,9,6,4,5,7,5,2,5,9,8,7,3,7,2,7,9,5,3,5,6,6,7,3,6,12,8,7,14,14,11,14,17,15,14,21,20,16,17,11,10,21,24,23,23,14,15,11,14,19,16,16,12,14,13,7,13,11,8,5,11,10,6,6,5,5,4,1,1,1,2,1,2,3,1,2,4,2,1,5,10,12,5,9,10,11,19,23,13,30,13,21,11,16,9,4,5,5,3,3,5,5,6,4,3,2,7,6,2,1,4,2,2,3,6,9,5,10,12,11,9,12,13,15,12,18,13,15,26,19,21,20,25,15,8,28,60,26,25,23,17,29,26,32,26,30,25,29,31,19,20,15,13,13,6,6,5,6,9,3,7,1,2,6,2,2,2,2,2,4,2,2,2,1,6,5,5,6,11,14,14,23,35,33,20,22,15,14,19,17,6,8,6,5,7,11,12,3,9,3,10,8,6,7,7,4,3,5,5,8,8,8,6,5,7,7,6,8,9,10,13,9,16,19,17,19,14,26,19,19,12,19,14,8,16,12,6,11,15,10,9,12,18,7,10,4,8,4,12,13,7,10,3,5,4,4,3,2,3,2,1,2,3,1,2,3,1,5,3,3,6,12,12,8,11,21,13,22,24,33,23,41,37,34,26,23,16,16,18,12,13,21,15,8,11,8,11,9,9,14,15,20,32,23,16,23,17,19,23,28,31,25,16,24,12,20,33,28,23,22,25,32,31,50,37,47,34,29,31,39,53,50,54,63,64,56,34,38,28,34,47,46,29,28,31,40,44,59,60,59,66,41,45,21,15,10,12,8,11,7,9,2,4,7,3,2,4,3,5,2,3,4,5,5,3,10,10,7,9,14,11,16,13,12,19,13,9,18,13,18,17,8,14,12,6,8,11,7,11,8,8,14,10,12,17,19,14,9,8,9,9,11,9,13,9,16,12,18,9,17,15,14,22,17,12,22,36,30,17,15,25,23,22,17,19,31,24,14,19,18,43,42,36,35,13,11,11,5,7,4,5,2,4,1,3,2,1,6,1,3,6,6,2,5,7,3,6,1,4,6,6,3,13,12,7,17,12,7,11,15,10,9,12,14,7,11,16,7,19,13,11,12,7,12,9,10,10,8,15,8,14,16,15,10,10,8,10,14,9,14,14,12,9,8,10,6,10,9,2,14,6,6,6,8,4,4,9,5,3,3,3,1,2,3,3,5,4,2,3,2,1,4,1,2,4,1,2,3,5,4,4,2,4,1,4,4,7,12,7,8,17,14,15,14,7,18,11,10,12,5,4,12,5,5,7,7,7,2,4,3,5,5,6,3,5,8,1,2,8,3,5,6,4,3,8,7,11,5,13,13,10,10,10,10,19,15,10,14,12,10,6,16,11,14,10,16,15,9,17,6,5,3,2,4,8,3,4,2,1,2,1,3,1,2,2,1,1,1,2,2,5,3,4,6,6,3,5,12,10,16,20,13,14,16,7,11,7,7,4,8,8,3,5,5,6,4,3,2,2,2,4,1,5,3,3,7,7,7,5,5,6,3,5,7,9,4,13,12,13,12,10,11,8,16,18,12,8,8,4,10,6,12,10,9,13,13,16,9,11,7,3,8,2,4,5,8,4,5,5,3,6,1,1,2,1,3,1,1,3,1,3,6,2,6,6,4,6,10,8,10,15,11,13,17,11,12,6,11,9,8,12,7,7,4,1,7,6,4,5,4,3,4,5,2,3,5,2,3,1,9,4,5,9,5,5,6,7,11,10,13,11,16,15,8,15,14,11,20,29,12,12,19,18,7,16,12,21,13,10,15,14,9,6,9,8,3,9,3,5,6,2,2,1,2,1,1,1,2,2,1,2,2,6,2,2,6,7,11,6,9,18,15,19,19,14,16,15,12,13,10,8,5,9,5,4,9,7,7,4,2,2,4,9,5,4,5,5,3,5,7,6,5,6,8,2,4,6,10,14,17,16,18,18,15,28,15,22,19,17,10,16,17,17,17,15,21,21,19,16,24,11,15,13,7,12,7,10,20,4,4,4,5,4,5,3,1,2,3,2,2,2,1,4,3,3,1,3,4,6,4,5,13,8,8,18,17,15,15,13,13,12,6,10,9,12,5,4,11,10,5,4,7,6,12,7,8,5,7,5,6,9,3,9,7,6,11,7,14,9,11,16,13,18,22,31,16,21,27,18,38,37,26,25,16,8,17,31,27,17,17,20,26,32,20,18,18,23,21,28,31,28,39,24,29,33,20,24,16,9,10,9,8,3,2,4,2,2,2,1,1,1,3,3,3,2,6,3,1,3,8,13,4,6,9,10,8,14,12,7,8,13,11,14,11,16,11,6,8,7,7,7,11,9,5,9,15,10,9,12,12,5,9,19,21,15,15,16,19,17,31,34,22,32,30,39,22,21,26,18,19,17,27,35,24,26,37,34,28,29,35,32,26,39,43,33,38,44,37,27,45,32,28,22,15,4,6,5,7,7,4,4,4,3,1,3,4,1,3,4,2,2,1,4,1,6,3,13,1,7,8,8,11,12,14,17,4,11,19,13,13,13,13,15,13,6,16,8,21,15,12,10,14,9,14,11,11,14,8,14,12,12,10,11,15,12,12,17,14,10,7,11,10,7,12,8,9,12,8,8,4,6,3,3,4,11,8,6,5,2,4,3,6,1,3,2,6,1,2,1,2,2,3,1,4,4,1,3,1,2,4,1,1,4,6,10,8,28,10,13,7,6,11,8,11,5,4,6,5,4,8,8,12,10,4,3,2,7,8,4,3,5,3,9,5,5,2,7,6],\"index\":[0,1,2,3,4,5,6,7,8,9,10,11,12,13,14,15,16,17,18,19,20,21,22,23,24,25,26,27,28,29,30,31,32,33,34,35,36,37,38,39,40,41,42,43,44,45,46,47,48,49,50,51,52,53,54,55,56,57,58,59,60,61,62,63,64,65,66,67,68,69,70,71,72,73,74,75,76,77,78,79,80,81,82,83,84,85,86,87,88,89,90,91,92,93,94,95,96,97,98,99,100,101,102,103,104,105,106,107,108,109,110,111,112,113,114,115,116,117,118,119,120,121,122,123,124,125,126,127,128,129,130,131,132,133,134,135,136,137,138,139,140,141,142,143,144,145,146,147,148,149,150,151,152,153,154,155,156,157,158,159,160,161,162,163,164,165,166,167,168,169,170,171,172,173,174,175,176,177,178,179,180,181,182,183,184,185,186,187,188,189,190,191,192,193,194,195,196,197,198,199,200,201,202,203,204,205,206,207,208,209,210,211,212,213,214,215,216,217,218,219,220,221,222,223,224,225,226,227,228,229,230,231,232,233,234,235,236,237,238,239,240,241,242,243,244,245,246,247,248,249,250,251,252,253,254,255,256,257,258,259,260,261,262,263,264,265,266,267,268,269,270,271,272,273,274,275,276,277,278,279,280,281,282,283,284,285,286,287,288,289,290,291,292,293,294,295,296,297,298,299,300,301,302,303,304,305,306,307,308,309,310,311,312,313,314,315,316,317,318,319,320,321,322,323,324,325,326,327,328,329,330,331,332,333,334,335,336,337,338,339,340,341,342,343,344,345,346,347,348,349,350,351,352,353,354,355,356,357,358,359,360,361,362,363,364,365,366,367,368,369,370,371,372,373,374,375,376,377,378,379,380,381,382,383,384,385,386,387,388,389,390,391,392,393,394,395,396,397,398,399,400,401,402,403,404,405,406,407,408,409,410,411,412,413,414,415,416,417,418,419,420,421,422,423,424,425,426,427,428,429,430,431,432,433,434,435,436,437,438,439,440,441,442,443,444,445,446,447,448,449,450,451,452,453,454,455,456,457,458,459,460,461,462,463,464,465,466,467,468,469,470,471,472,473,474,475,476,477,478,479,480,481,482,483,484,485,486,487,488,489,490,491,492,493,494,495,496,497,498,499,500,501,502,503,504,505,506,507,508,509,510,511,512,513,514,515,516,517,518,519,520,521,522,523,524,525,526,527,528,529,530,531,532,533,534,535,536,537,538,539,540,541,542,543,544,545,546,547,548,549,550,551,552,553,554,555,556,557,558,559,560,561,562,563,564,565,566,567,568,569,570,571,572,573,574,575,576,577,578,579,580,581,582,583,584,585,586,587,588,589,590,591,592,593,594,595,596,597,598,599,600,601,602,603,604,605,606,607,608,609,610,611,612,613,614,615,616,617,618,619,620,621,622,623,624,625,626,627,628,629,630,631,632,633,634,635,636,637,638,639,640,641,642,643,644,645,646,647,648,649,650,651,652,653,654,655,656,657,658,659,660,661,662,663,664,665,666,667,668,669,670,671,672,673,674,675,676,677,678,679,680,681,682,683,684,685,686,687,688,689,690,691,692,693,694,695,696,697,698,699,700,701,702,703,704,705,706,707,708,709,710,711,712,713,714,715,716,717,718,719,720,721,722,723,724,725,726,727,728,729,730,731,732,733,734,735,736,737,738,739,740,741,742,743,744,745,746,747,748,749,750,751,752,753,754,755,756,757,758,759,760,761,762,763,764,765,766,767,768,769,770,771,772,773,774,775,776,777,778,779,780,781,782,783,784,785,786,787,788,789,790,791,792,793,794,795,796,797,798,799,800,801,802,803,804,805,806,807,808,809,810,811,812,813,814,815,816,817,818,819,820,821,822,823,824,825,826,827,828,829,830,831,832,833,834,835,836,837,838,839,840,841,842,843,844,845,846,847,848,849,850,851,852,853,854,855,856,857,858,859,860,861,862,863,864,865,866,867,868,869,870,871,872,873,874,875,876,877,878,879,880,881,882,883,884,885,886,887,888,889,890,891,892,893,894,895,896,897,898,899,900,901,902,903,904,905,906,907,908,909,910,911,912,913,914,915,916,917,918,919,920,921,922,923,924,925,926,927,928,929,930,931,932,933,934,935,936,937,938,939,940,941,942,943,944,945,946,947,948,949,950,951,952,953,954,955,956,957,958,959,960,961,962,963,964,965,966,967,968,969,970,971,972,973,974,975,976,977,978,979,980,981,982,983,984,985,986,987,988,989,990,991,992,993,994,995,996,997,998,999,1000,1001,1002,1003,1004,1005,1006,1007,1008,1009,1010,1011,1012,1013,1014,1015,1016,1017,1018,1019,1020,1021,1022,1023,1024,1025,1026,1027,1028,1029,1030,1031,1032,1033,1034,1035,1036,1037,1038,1039,1040,1041,1042,1043,1044,1045,1046,1047,1048,1049,1050,1051,1052,1053,1054,1055,1056,1057,1058,1059,1060,1061,1062,1063,1064,1065,1066,1067,1068,1069,1070,1071,1072,1073,1074,1075,1076,1077,1078,1079,1080,1081,1082,1083,1084,1085,1086,1087,1088,1089,1090,1091,1092,1093,1094,1095,1096,1097,1098,1099,1100,1101,1102,1103,1104,1105,1106,1107,1108,1109,1110,1111,1112,1113,1114,1115,1116,1117,1118,1119,1120,1121,1122,1123,1124,1125,1126,1127,1128,1129,1130,1131,1132,1133,1134,1135,1136,1137,1138,1139,1140,1141,1142,1143,1144,1145,1146,1147,1148,1149,1150,1151,1152,1153,1154,1155,1156,1157,1158,1159,1160,1161,1162,1163,1164,1165,1166,1167,1168,1169,1170,1171,1172,1173,1174,1175,1176,1177,1178,1179,1180,1181,1182,1183,1184,1185,1186,1187,1188,1189,1190,1191,1192,1193,1194,1195,1196,1197,1198,1199,1200,1201,1202,1203,1204,1205,1206,1207,1208,1209,1210,1211,1212,1213,1214,1215,1216,1217,1218,1219,1220,1221,1222,1223,1224,1225,1226,1227,1228,1229,1230,1231,1232,1233,1234,1235,1236,1237,1238,1239,1240,1241,1242,1243,1244,1245,1246,1247,1248,1249,1250,1251,1252,1253,1254,1255,1256,1257,1258,1259,1260,1261,1262,1263,1264,1265,1266,1267,1268,1269,1270,1271,1272,1273,1274,1275,1276,1277,1278,1279,1280,1281,1282,1283,1284,1285,1286,1287,1288,1289,1290,1291,1292,1293,1294,1295,1296,1297,1298,1299,1300,1301,1302,1303,1304,1305,1306,1307,1308,1309,1310,1311,1312,1313,1314,1315,1316,1317,1318,1319,1320,1321,1322,1323,1324,1325,1326,1327,1328,1329,1330,1331,1332,1333,1334,1335,1336,1337,1338,1339,1340,1341,1342,1343,1344,1345,1346,1347,1348,1349,1350,1351,1352,1353,1354,1355,1356,1357,1358,1359,1360,1361,1362,1363,1364,1365,1366,1367,1368,1369,1370,1371,1372,1373,1374,1375,1376,1377,1378,1379,1380,1381,1382,1383,1384,1385,1386,1387,1388,1389,1390,1391,1392,1393,1394,1395,1396,1397,1398,1399,1400,1401,1402,1403,1404,1405,1406,1407,1408,1409,1410,1411,1412,1413,1414,1415,1416,1417,1418,1419,1420,1421,1422,1423,1424,1425,1426,1427,1428,1429,1430,1431,1432,1433,1434,1435,1436,1437,1438,1439,1440,1441,1442,1443,1444,1445,1446,1447,1448,1449,1450,1451,1452,1453,1454,1455,1456,1457,1458,1459,1460,1461,1462,1463,1464,1465,1466,1467,1468,1469,1470,1471,1472,1473,1474,1475,1476,1477,1478,1479,1480,1481,1482,1483,1484,1485,1486,1487,1488,1489,1490,1491,1492,1493,1494,1495,1496,1497,1498,1499,1500,1501,1502,1503,1504,1505,1506,1507,1508,1509,1510,1511,1512,1513,1514,1515,1516,1517,1518,1519,1520,1521,1522,1523,1524,1525,1526,1527,1528,1529,1530,1531,1532,1533,1534,1535,1536,1537,1538,1539,1540,1541,1542,1543,1544,1545,1546,1547,1548,1549,1550,1551,1552,1553,1554,1555,1556,1557,1558,1559,1560,1561,1562,1563,1564,1565,1566,1567,1568,1569,1570,1571,1572,1573,1574,1575,1576,1577,1578,1579,1580,1581,1582,1583,1584,1585,1586,1587,1588,1589,1590,1591,1592,1593,1594,1595,1596,1597,1598,1599,1600,1601,1602,1603,1604,1605,1606,1607,1608,1609,1610,1611,1612,1613,1614,1615,1616,1617,1618,1619,1620,1621,1622,1623,1624,1625,1626,1627,1628,1629,1630,1631,1632,1633,1634,1635,1636,1637,1638,1639,1640,1641,1642,1643,1644,1645,1646,1647,1648,1649,1650,1651,1652,1653,1654,1655,1656,1657,1658,1659,1660,1661,1662,1663,1664,1665,1666,1667,1668,1669,1670,1671,1672,1673,1674,1675,1676,1677,1678,1679,1680,1681,1682,1683,1684,1685,1686,1687,1688,1689,1690,1691,1692,1693,1694,1695,1696,1697,1698,1699,1700,1701,1702,1703,1704,1705,1706,1707,1708,1709,1710,1711,1712,1713,1714,1715,1716,1717,1718,1719,1720,1721,1722,1723,1724,1725,1726,1727,1728,1729,1730,1731,1732,1733,1734,1735,1736,1737,1738,1739,1740,1741,1742,1743,1744,1745,1746,1747,1748,1749,1750,1751,1752,1753,1754,1755,1756,1757,1758,1759,1760,1761,1762,1763,1764,1765,1766,1767,1768,1769,1770,1771,1772,1773,1774,1775,1776,1777,1778,1779,1780,1781,1782,1783,1784,1785,1786,1787,1788,1789,1790,1791,1792,1793,1794,1795,1796,1797,1798,1799,1800,1801,1802,1803,1804,1805,1806,1807,1808,1809,1810,1811,1812,1813,1814,1815,1816,1817,1818,1819,1820,1821,1822,1823,1824,1825,1826,1827,1828,1829,1830,1831,1832,1833,1834,1835,1836,1837,1838,1839,1840,1841,1842,1843,1844,1845,1846,1847,1848,1849,1850,1851,1852,1853,1854,1855,1856,1857,1858,1859,1860,1861,1862,1863,1864,1865,1866,1867,1868,1869,1870,1871,1872,1873,1874,1875,1876,1877,1878,1879,1880,1881,1882,1883,1884,1885,1886,1887,1888,1889,1890,1891,1892,1893,1894,1895,1896,1897,1898,1899,1900,1901,1902,1903,1904,1905,1906,1907,1908,1909,1910,1911,1912,1913,1914,1915,1916,1917,1918,1919,1920,1921,1922,1923,1924,1925,1926,1927,1928,1929,1930,1931,1932,1933,1934,1935,1936,1937,1938,1939,1940,1941,1942,1943,1944,1945,1946,1947,1948,1949,1950,1951,1952,1953,1954,1955,1956,1957,1958,1959,1960,1961,1962,1963,1964,1965,1966,1967,1968,1969,1970,1971,1972,1973,1974,1975,1976,1977,1978,1979,1980,1981,1982,1983,1984,1985,1986,1987,1988,1989,1990,1991,1992,1993,1994,1995,1996,1997,1998,1999,2000,2001,2002,2003,2004,2005,2006,2007,2008,2009,2010,2011,2012,2013,2014,2015,2016,2017,2018,2019,2020,2021,2022,2023,2024,2025,2026,2027,2028,2029,2030,2031,2032,2033,2034,2035,2036,2037,2038,2039,2040,2041,2042,2043,2044,2045,2046,2047,2048,2049,2050,2051,2052,2053,2054,2055,2056,2057,2058,2059,2060,2061,2062,2063,2064,2065,2066,2067,2068,2069,2070,2071,2072,2073,2074,2075,2076,2077,2078,2079,2080,2081,2082,2083,2084,2085,2086,2087,2088,2089,2090,2091,2092,2093,2094,2095,2096,2097,2098,2099,2100,2101,2102,2103,2104,2105,2106,2107,2108,2109,2110,2111,2112,2113,2114,2115,2116,2117,2118,2119,2120,2121,2122,2123,2124,2125,2126,2127,2128,2129,2130,2131,2132,2133,2134,2135,2136,2137,2138,2139,2140,2141,2142,2143,2144,2145,2146,2147,2148,2149,2150,2151,2152,2153,2154,2155,2156,2157,2158,2159,2160,2161,2162,2163,2164,2165,2166,2167,2168,2169,2170,2171,2172,2173,2174,2175,2176,2177,2178,2179,2180,2181,2182,2183,2184,2185,2186,2187,2188,2189,2190,2191,2192,2193,2194,2195,2196,2197,2198,2199,2200,2201,2202,2203,2204,2205,2206,2207,2208,2209,2210,2211,2212,2213,2214,2215,2216,2217,2218,2219,2220,2221,2222,2223,2224,2225,2226,2227,2228,2229,2230,2231,2232,2233,2234,2235,2236,2237,2238,2239,2240,2241,2242,2243,2244,2245,2246,2247,2248,2249,2250,2251,2252,2253,2254,2255,2256,2257,2258,2259,2260,2261,2262,2263,2264,2265,2266,2267,2268,2269,2270,2271,2272,2273,2274,2275,2276,2277,2278,2279,2280,2281,2282,2283,2284,2285,2286,2287,2288,2289,2290,2291,2292,2293,2294,2295,2296,2297,2298,2299,2300,2301,2302,2303,2304,2305,2306,2307,2308,2309,2310,2311,2312,2313,2314,2315,2316,2317,2318,2319,2320,2321,2322,2323,2324,2325,2326,2327,2328,2329,2330,2331,2332,2333,2334,2335,2336,2337,2338,2339,2340,2341,2342,2343,2344,2345,2346,2347,2348,2349,2350,2351,2352,2353,2354,2355,2356,2357,2358,2359,2360,2361,2362,2363,2364,2365,2366,2367,2368,2369,2370,2371,2372,2373,2374,2375,2376,2377,2378,2379,2380,2381,2382,2383,2384,2385,2386,2387,2388,2389,2390,2391,2392,2393,2394,2395,2396,2397,2398,2399,2400,2401,2402,2403,2404,2405,2406,2407,2408,2409,2410,2411,2412,2413,2414,2415,2416,2417,2418,2419,2420,2421,2422,2423,2424,2425,2426,2427,2428,2429,2430,2431,2432,2433,2434,2435,2436,2437,2438,2439,2440,2441,2442,2443,2444,2445,2446,2447,2448,2449,2450,2451,2452,2453,2454,2455,2456,2457,2458,2459,2460,2461,2462,2463,2464,2465,2466,2467,2468,2469,2470,2471,2472,2473,2474,2475,2476,2477,2478,2479,2480,2481,2482,2483,2484,2485,2486,2487,2488,2489,2490,2491,2492,2493,2494,2495,2496,2497,2498,2499,2500,2501,2502,2503,2504,2505,2506,2507,2508,2509,2510,2511,2512,2513,2514,2515,2516,2517,2518,2519,2520,2521,2522,2523,2524,2525,2526,2527,2528,2529,2530,2531,2532,2533,2534,2535,2536,2537,2538,2539,2540,2541,2542,2543,2544,2545,2546,2547,2548,2549,2550,2551,2552,2553,2554,2555,2556,2557,2558,2559,2560,2561,2562,2563,2564,2565,2566,2567,2568,2569,2570,2571,2572,2573,2574,2575,2576,2577,2578,2579,2580,2581,2582,2583,2584,2585,2586,2587,2588,2589,2590,2591,2592,2593,2594,2595,2596,2597,2598,2599,2600,2601,2602,2603,2604,2605,2606,2607,2608,2609,2610,2611,2612,2613,2614,2615,2616,2617,2618,2619,2620,2621,2622,2623,2624,2625,2626,2627,2628,2629,2630,2631,2632,2633,2634,2635,2636,2637,2638,2639,2640,2641,2642,2643,2644,2645,2646,2647,2648,2649,2650,2651,2652,2653,2654,2655,2656,2657,2658,2659,2660,2661,2662,2663,2664,2665,2666,2667,2668,2669,2670,2671,2672,2673,2674,2675,2676,2677,2678,2679,2680,2681,2682,2683,2684,2685,2686,2687,2688,2689,2690,2691,2692,2693,2694,2695,2696,2697,2698,2699,2700,2701,2702,2703,2704,2705,2706,2707,2708,2709,2710,2711,2712,2713,2714,2715,2716,2717,2718,2719,2720,2721,2722,2723,2724,2725,2726,2727,2728,2729,2730,2731,2732,2733,2734,2735,2736,2737,2738,2739,2740,2741,2742,2743,2744,2745,2746,2747,2748,2749,2750,2751,2752,2753,2754,2755,2756,2757,2758,2759,2760,2761,2762,2763,2764,2765,2766,2767,2768,2769,2770,2771,2772,2773,2774,2775,2776,2777,2778,2779,2780,2781,2782,2783,2784,2785,2786,2787,2788,2789,2790,2791,2792,2793,2794,2795,2796,2797,2798,2799,2800,2801,2802,2803,2804,2805,2806,2807,2808,2809,2810,2811,2812,2813,2814,2815,2816,2817,2818,2819,2820,2821,2822,2823,2824,2825,2826,2827,2828,2829,2830,2831,2832,2833,2834,2835,2836,2837,2838,2839,2840,2841,2842,2843,2844,2845,2846,2847,2848,2849,2850,2851,2852,2853,2854,2855,2856,2857,2858,2859,2860,2861,2862,2863,2864,2865,2866,2867,2868,2869,2870,2871,2872,2873,2874,2875,2876,2877,2878,2879,2880,2881,2882,2883,2884,2885,2886,2887,2888,2889,2890,2891,2892,2893,2894,2895,2896,2897,2898,2899,2900,2901,2902,2903,2904,2905,2906,2907,2908,2909,2910,2911,2912,2913,2914,2915,2916,2917,2918,2919,2920,2921,2922,2923,2924,2925,2926,2927,2928,2929,2930,2931,2932,2933,2934,2935,2936,2937,2938,2939,2940,2941,2942,2943,2944,2945,2946,2947,2948,2949,2950,2951,2952,2953,2954,2955,2956,2957,2958,2959,2960,2961,2962,2963,2964,2965,2966,2967,2968,2969,2970,2971,2972,2973,2974,2975,2976,2977,2978,2979,2980,2981,2982,2983,2984,2985,2986,2987,2988,2989,2990,2991,2992,2993,2994,2995,2996,2997,2998,2999,3000,3001,3002,3003,3004,3005,3006,3007,3008,3009,3010,3011,3012,3013,3014,3015,3016,3017,3018,3019,3020,3021,3022,3023,3024,3025,3026,3027,3028,3029,3030,3031,3032,3033,3034,3035,3036,3037,3038,3039,3040,3041,3042,3043,3044,3045,3046,3047,3048,3049,3050,3051,3052,3053,3054,3055,3056,3057,3058,3059,3060,3061,3062,3063,3064,3065,3066,3067,3068,3069,3070,3071,3072,3073,3074,3075,3076,3077,3078,3079,3080,3081,3082,3083,3084,3085,3086,3087,3088,3089,3090,3091,3092,3093,3094,3095,3096,3097,3098,3099,3100,3101,3102,3103,3104,3105,3106,3107,3108,3109,3110,3111,3112,3113,3114,3115,3116,3117,3118,3119,3120,3121,3122,3123,3124,3125,3126,3127,3128,3129,3130,3131,3132,3133,3134,3135,3136,3137,3138,3139,3140,3141,3142,3143,3144,3145,3146,3147,3148,3149,3150,3151,3152,3153,3154,3155,3156,3157,3158,3159,3160,3161,3162,3163,3164,3165,3166,3167,3168,3169,3170,3171,3172,3173,3174,3175,3176,3177,3178,3179,3180,3181,3182,3183,3184,3185,3186,3187,3188,3189,3190,3191,3192,3193,3194,3195,3196,3197,3198,3199,3200,3201,3202,3203,3204,3205,3206,3207,3208,3209,3210,3211,3212,3213,3214,3215,3216,3217,3218,3219,3220,3221,3222,3223,3224,3225,3226,3227,3228,3229,3230,3231,3232,3233,3234,3235,3236,3237,3238,3239,3240,3241,3242,3243,3244,3245,3246,3247,3248,3249,3250,3251,3252,3253,3254,3255,3256,3257,3258,3259,3260,3261,3262,3263,3264,3265,3266,3267,3268,3269,3270,3271,3272,3273,3274,3275,3276,3277,3278,3279,3280,3281,3282,3283,3284,3285,3286,3287,3288,3289,3290,3291,3292,3293,3294,3295,3296,3297,3298,3299,3300,3301,3302,3303,3304,3305,3306,3307,3308,3309,3310,3311,3312,3313,3314,3315,3316,3317,3318,3319,3320,3321,3322,3323,3324,3325,3326,3327,3328,3329,3330,3331,3332,3333,3334,3335,3336,3337,3338,3339,3340,3341,3342,3343,3344,3345,3346,3347,3348,3349,3350,3351,3352,3353,3354,3355,3356,3357,3358,3359,3360,3361,3362,3363,3364,3365,3366,3367,3368,3369,3370,3371,3372,3373,3374,3375,3376,3377,3378,3379,3380,3381,3382,3383,3384,3385,3386,3387,3388,3389,3390,3391,3392,3393,3394,3395,3396,3397,3398,3399,3400,3401,3402,3403,3404,3405,3406,3407,3408,3409,3410,3411,3412,3413,3414,3415,3416,3417,3418,3419,3420,3421,3422,3423,3424,3425,3426,3427,3428,3429,3430,3431,3432,3433,3434,3435,3436,3437,3438,3439,3440,3441,3442,3443,3444,3445,3446,3447,3448,3449,3450,3451,3452,3453,3454,3455,3456,3457,3458,3459,3460,3461,3462,3463,3464,3465,3466,3467,3468,3469,3470,3471,3472,3473,3474,3475,3476,3477,3478,3479,3480,3481,3482,3483,3484,3485,3486,3487,3488,3489,3490,3491,3492,3493,3494,3495,3496,3497,3498,3499,3500,3501,3502,3503,3504,3505,3506,3507,3508,3509,3510,3511,3512,3513,3514,3515,3516,3517,3518,3519,3520,3521,3522,3523,3524,3525,3526,3527,3528,3529,3530,3531,3532,3533,3534,3535,3536,3537,3538,3539,3540,3541,3542,3543,3544,3545,3546,3547,3548,3549,3550,3551,3552,3553,3554,3555,3556,3557,3558,3559,3560,3561,3562,3563,3564,3565,3566,3567,3568,3569,3570,3571,3572,3573,3574,3575,3576,3577,3578,3579,3580,3581,3582,3583,3584,3585,3586,3587,3588,3589,3590,3591,3592,3593,3594,3595,3596,3597,3598,3599,3600,3601,3602,3603,3604,3605,3606,3607,3608,3609,3610,3611,3612,3613,3614,3615,3616,3617,3618,3619,3620,3621,3622,3623,3624,3625,3626,3627,3628,3629,3630,3631,3632,3633,3634,3635,3636,3637,3638,3639,3640,3641,3642,3643,3644,3645,3646,3647,3648,3649,3650,3651,3652,3653,3654,3655,3656,3657,3658,3659,3660,3661,3662,3663,3664,3665,3666,3667,3668,3669,3670,3671,3672,3673,3674,3675,3676,3677,3678,3679,3680,3681,3682,3683,3684,3685,3686,3687,3688,3689,3690,3691,3692,3693,3694,3695,3696,3697,3698,3699,3700,3701,3702,3703,3704,3705,3706,3707,3708,3709,3710,3711,3712,3713,3714,3715,3716,3717,3718,3719,3720,3721,3722,3723,3724,3725,3726,3727,3728,3729,3730,3731,3732,3733,3734,3735,3736,3737,3738,3739,3740,3741,3742,3743,3744,3745,3746,3747,3748,3749,3750,3751,3752,3753,3754,3755,3756,3757,3758,3759,3760,3761,3762,3763,3764,3765,3766,3767,3768,3769,3770,3771,3772,3773,3774,3775,3776,3777,3778,3779,3780,3781,3782,3783,3784,3785,3786,3787,3788,3789,3790,3791,3792,3793,3794,3795,3796,3797,3798,3799,3800,3801,3802,3803,3804,3805,3806,3807,3808,3809,3810,3811,3812,3813,3814,3815,3816,3817,3818,3819,3820,3821,3822,3823,3824,3825,3826,3827,3828,3829,3830,3831,3832,3833,3834,3835,3836,3837,3838,3839,3840,3841,3842,3843,3844,3845,3846,3847,3848,3849,3850,3851,3852,3853,3854,3855,3856,3857,3858,3859,3860,3861,3862,3863,3864,3865,3866,3867,3868,3869,3870,3871,3872,3873,3874,3875,3876,3877,3878,3879,3880,3881,3882,3883,3884,3885,3886,3887,3888,3889,3890,3891,3892,3893,3894,3895,3896,3897,3898,3899,3900,3901,3902,3903,3904,3905,3906,3907,3908,3909,3910,3911,3912,3913,3914,3915,3916,3917,3918,3919,3920,3921,3922,3923,3924,3925,3926,3927,3928,3929,3930,3931,3932,3933,3934,3935,3936,3937,3938,3939,3940,3941,3942,3943,3944,3945,3946,3947,3948,3949,3950,3951,3952,3953,3954,3955,3956,3957,3958,3959,3960,3961,3962,3963,3964,3965,3966,3967,3968,3969,3970,3971,3972,3973,3974,3975,3976,3977,3978,3979,3980,3981,3982,3983,3984,3985,3986,3987,3988,3989,3990,3991,3992,3993,3994,3995,3996,3997,3998,3999,4000,4001,4002,4003,4004,4005,4006,4007,4008,4009,4010,4011,4012,4013,4014,4015,4016,4017,4018,4019,4020,4021,4022,4023,4024,4025,4026,4027,4028,4029,4030,4031,4032,4033,4034,4035,4036,4037,4038,4039,4040,4041,4042,4043,4044,4045,4046,4047,4048,4049,4050,4051,4052,4053,4054,4055,4056,4057,4058,4059,4060,4061,4062,4063,4064,4065,4066,4067,4068,4069,4070,4071,4072,4073,4074,4075,4076,4077,4078,4079,4080,4081,4082,4083,4084,4085,4086,4087,4088,4089,4090,4091,4092,4093,4094,4095,4096,4097,4098,4099,4100,4101,4102,4103,4104,4105,4106,4107,4108,4109,4110,4111,4112,4113,4114,4115,4116,4117,4118,4119,4120,4121,4122,4123,4124,4125,4126,4127,4128,4129,4130,4131,4132,4133,4134,4135,4136,4137,4138,4139,4140,4141,4142,4143,4144,4145,4146,4147,4148,4149,4150,4151,4152,4153,4154,4155,4156,4157,4158,4159,4160,4161,4162,4163,4164,4165,4166,4167,4168,4169,4170,4171,4172,4173,4174,4175,4176,4177,4178,4179,4180,4181,4182,4183,4184,4185,4186,4187,4188,4189,4190,4191,4192,4193,4194,4195,4196,4197,4198,4199,4200,4201,4202,4203,4204,4205,4206,4207,4208,4209,4210,4211,4212,4213,4214,4215,4216,4217,4218,4219,4220,4221,4222,4223,4224,4225,4226,4227,4228,4229,4230,4231,4232,4233,4234,4235,4236,4237,4238,4239,4240,4241,4242,4243,4244,4245,4246,4247,4248,4249,4250,4251,4252,4253,4254,4255,4256,4257,4258,4259,4260,4261,4262,4263,4264,4265,4266,4267,4268,4269,4270,4271,4272,4273,4274,4275,4276,4277,4278,4279,4280,4281,4282,4283,4284,4285,4286,4287,4288,4289,4290,4291,4292,4293,4294,4295,4296,4297,4298,4299,4300,4301,4302,4303,4304,4305,4306,4307,4308,4309,4310,4311,4312,4313,4314,4315,4316,4317,4318,4319,4320,4321,4322,4323,4324,4325,4326,4327,4328,4329,4330,4331,4332,4333,4334,4335,4336,4337,4338,4339,4340,4341,4342,4343,4344,4345,4346,4347,4348,4349,4350,4351,4352,4353,4354,4355,4356,4357,4358,4359,4360,4361,4362,4363,4364,4365,4366,4367,4368,4369,4370,4371,4372,4373,4374,4375,4376,4377,4378,4379,4380,4381,4382,4383,4384,4385,4386,4387,4388,4389,4390,4391,4392,4393,4394,4395,4396,4397,4398,4399,4400,4401,4402,4403,4404,4405,4406,4407,4408,4409,4410,4411,4412,4413,4414,4415,4416,4417,4418,4419,4420,4421,4422,4423,4424,4425,4426,4427,4428,4429,4430,4431,4432,4433,4434,4435,4436,4437,4438,4439,4440,4441,4442,4443,4444,4445,4446,4447,4448,4449,4450,4451,4452,4453,4454,4455,4456,4457,4458,4459,4460,4461,4462,4463,4464,4465,4466,4467,4468,4469,4470,4471,4472,4473,4474,4475,4476,4477,4478,4479,4480,4481,4482,4483,4484,4485,4486,4487,4488,4489,4490,4491,4492,4493,4494,4495,4496,4497,4498,4499,4500,4501,4502,4503,4504,4505,4506,4507,4508,4509,4510,4511,4512,4513,4514,4515,4516,4517,4518,4519,4520,4521,4522,4523,4524,4525,4526,4527,4528,4529,4530,4531,4532,4533,4534,4535,4536,4537,4538,4539,4540,4541,4542,4543,4544,4545,4546,4547,4548,4549,4550,4551,4552,4553,4554,4555,4556,4557,4558,4559,4560,4561,4562,4563,4564,4565,4566,4567,4568,4569,4570,4571,4572,4573,4574,4575,4576,4577,4578,4579,4580,4581,4582,4583,4584,4585,4586,4587,4588,4589,4590,4591,4592,4593,4594,4595,4596,4597,4598,4599,4600,4601,4602,4603,4604,4605,4606,4607,4608,4609,4610,4611,4612,4613,4614,4615,4616,4617,4618,4619,4620,4621,4622,4623,4624,4625,4626,4627,4628,4629,4630,4631,4632,4633,4634,4635,4636,4637,4638,4639,4640,4641,4642,4643,4644,4645,4646,4647,4648,4649,4650,4651,4652,4653,4654,4655,4656,4657,4658,4659,4660,4661,4662,4663,4664,4665,4666,4667,4668,4669,4670,4671,4672,4673,4674,4675,4676,4677,4678,4679,4680,4681,4682,4683,4684,4685,4686,4687,4688,4689,4690,4691,4692,4693,4694,4695,4696,4697,4698,4699,4700,4701,4702,4703,4704,4705,4706,4707,4708,4709,4710,4711,4712,4713,4714,4715,4716,4717,4718,4719,4720,4721,4722,4723,4724,4725,4726,4727,4728,4729,4730,4731,4732,4733,4734,4735,4736,4737,4738,4739,4740,4741,4742,4743,4744,4745,4746,4747,4748,4749,4750,4751,4752,4753,4754,4755,4756,4757,4758,4759,4760,4761,4762,4763,4764,4765,4766,4767,4768,4769,4770,4771,4772,4773,4774,4775,4776,4777,4778,4779,4780,4781,4782,4783,4784,4785,4786,4787,4788,4789,4790,4791,4792,4793,4794,4795,4796,4797,4798,4799,4800,4801,4802,4803,4804,4805,4806,4807,4808,4809,4810,4811,4812,4813,4814,4815,4816,4817,4818,4819,4820,4821,4822,4823,4824,4825,4826,4827,4828,4829,4830,4831,4832,4833,4834,4835,4836,4837,4838,4839,4840,4841,4842,4843,4844,4845,4846,4847,4848,4849,4850,4851,4852,4853,4854,4855,4856,4857,4858,4859,4860,4861,4862,4863,4864,4865,4866,4867,4868,4869,4870,4871,4872,4873,4874,4875,4876,4877,4878,4879,4880,4881,4882,4883,4884,4885,4886,4887,4888,4889,4890,4891,4892,4893,4894,4895,4896,4897,4898,4899,4900,4901,4902,4903,4904,4905,4906,4907,4908,4909,4910,4911,4912,4913,4914,4915,4916,4917,4918,4919,4920,4921,4922,4923,4924,4925,4926,4927,4928,4929,4930,4931,4932,4933,4934,4935,4936,4937,4938,4939,4940,4941,4942,4943,4944,4945,4946,4947,4948,4949,4950,4951,4952,4953,4954,4955,4956,4957,4958,4959,4960,4961,4962,4963,4964,4965,4966,4967,4968,4969,4970,4971,4972,4973,4974,4975,4976,4977,4978,4979,4980,4981,4982,4983,4984,4985,4986,4987,4988,4989,4990,4991,4992,4993,4994,4995,4996,4997,4998,4999,5000,5001,5002,5003,5004,5005,5006,5007,5008,5009,5010,5011,5012,5013,5014,5015,5016,5017,5018,5019,5020,5021,5022,5023,5024,5025,5026,5027,5028,5029,5030,5031,5032,5033,5034,5035,5036,5037,5038,5039,5040,5041,5042,5043,5044,5045,5046,5047,5048,5049,5050,5051,5052,5053,5054,5055,5056,5057,5058,5059,5060,5061,5062,5063,5064,5065,5066,5067,5068,5069,5070,5071,5072,5073,5074,5075,5076,5077,5078,5079,5080,5081,5082,5083,5084,5085,5086,5087,5088,5089,5090,5091,5092,5093,5094,5095,5096,5097,5098,5099,5100,5101,5102,5103,5104,5105,5106,5107,5108,5109,5110,5111,5112,5113,5114,5115,5116,5117,5118,5119,5120,5121,5122,5123,5124,5125,5126,5127,5128,5129,5130,5131,5132,5133,5134,5135,5136,5137,5138,5139,5140,5141,5142,5143,5144,5145,5146,5147,5148,5149,5150,5151,5152,5153,5154,5155,5156,5157,5158,5159,5160,5161,5162,5163,5164,5165,5166,5167,5168,5169,5170,5171,5172,5173,5174,5175,5176,5177,5178,5179,5180,5181,5182,5183,5184,5185,5186,5187,5188,5189,5190,5191,5192,5193,5194,5195,5196,5197,5198,5199,5200,5201,5202,5203,5204,5205,5206,5207,5208,5209,5210,5211,5212,5213,5214,5215,5216,5217,5218,5219,5220,5221,5222,5223,5224,5225,5226,5227,5228,5229,5230,5231,5232,5233,5234,5235,5236,5237,5238,5239,5240,5241,5242,5243,5244,5245,5246,5247,5248,5249,5250,5251,5252,5253,5254,5255,5256,5257,5258,5259,5260,5261,5262,5263,5264,5265,5266,5267,5268,5269,5270,5271,5272,5273,5274,5275,5276,5277,5278,5279,5280,5281,5282,5283,5284,5285,5286,5287,5288,5289,5290,5291,5292,5293,5294,5295,5296,5297,5298,5299,5300,5301,5302,5303,5304,5305,5306,5307,5308,5309,5310,5311,5312,5313,5314,5315,5316,5317,5318,5319,5320,5321,5322,5323,5324,5325,5326,5327,5328,5329,5330,5331,5332,5333,5334,5335,5336,5337,5338,5339,5340,5341,5342,5343,5344,5345,5346,5347,5348,5349,5350,5351,5352,5353,5354,5355,5356,5357,5358,5359,5360,5361,5362,5363,5364,5365,5366,5367,5368,5369,5370,5371,5372,5373,5374,5375,5376,5377,5378,5379,5380,5381,5382,5383,5384,5385,5386,5387,5388,5389,5390,5391,5392,5393,5394,5395,5396,5397,5398,5399,5400,5401,5402,5403,5404,5405,5406,5407,5408,5409,5410,5411,5412,5413,5414,5415,5416,5417,5418,5419,5420,5421,5422,5423,5424,5425,5426,5427,5428,5429,5430,5431,5432,5433,5434,5435,5436,5437,5438,5439,5440,5441,5442,5443,5444,5445,5446,5447,5448,5449,5450,5451,5452,5453,5454,5455,5456,5457,5458,5459,5460,5461,5462,5463,5464,5465,5466,5467,5468,5469,5470,5471,5472,5473,5474,5475,5476,5477,5478,5479,5480,5481,5482,5483,5484,5485,5486,5487,5488,5489,5490,5491,5492,5493,5494,5495,5496,5497,5498,5499,5500,5501,5502,5503,5504,5505,5506,5507,5508,5509,5510,5511,5512,5513,5514,5515,5516,5517,5518,5519,5520,5521,5522,5523,5524,5525,5526,5527,5528,5529,5530,5531,5532,5533,5534,5535,5536,5537,5538,5539,5540,5541,5542,5543,5544,5545,5546,5547,5548,5549,5550,5551,5552,5553,5554,5555,5556,5557,5558,5559,5560,5561,5562,5563,5564,5565,5566,5567,5568,5569,5570,5571,5572,5573,5574,5575,5576,5577,5578,5579,5580,5581,5582,5583,5584,5585,5586,5587,5588,5589,5590,5591,5592,5593,5594,5595,5596,5597,5598,5599,5600,5601,5602,5603,5604,5605,5606,5607,5608,5609,5610,5611,5612,5613,5614,5615,5616,5617,5618,5619,5620,5621,5622,5623,5624,5625,5626,5627,5628,5629,5630,5631,5632,5633,5634,5635,5636,5637,5638,5639,5640,5641,5642,5643,5644,5645,5646,5647,5648,5649,5650,5651,5652,5653,5654,5655,5656,5657,5658,5659,5660,5661,5662,5663,5664,5665,5666,5667,5668,5669,5670,5671,5672,5673,5674,5675,5676,5677,5678,5679,5680,5681,5682,5683,5684,5685,5686,5687,5688,5689,5690,5691,5692,5693,5694,5695,5696,5697,5698,5699,5700,5701,5702,5703,5704,5705,5706,5707,5708,5709,5710,5711,5712,5713,5714,5715,5716,5717,5718,5719,5720,5721,5722,5723,5724,5725,5726,5727,5728,5729,5730,5731,5732,5733,5734,5735,5736,5737,5738,5739,5740,5741,5742,5743,5744,5745,5746,5747,5748,5749,5750,5751,5752,5753,5754,5755,5756,5757,5758,5759,5760,5761,5762,5763,5764,5765,5766,5767,5768,5769,5770,5771,5772,5773,5774,5775,5776,5777,5778,5779,5780,5781,5782,5783,5784,5785,5786,5787,5788,5789,5790,5791,5792,5793,5794,5795,5796,5797,5798,5799,5800,5801,5802,5803,5804,5805,5806,5807,5808,5809,5810,5811,5812,5813,5814,5815,5816,5817,5818,5819,5820,5821,5822,5823,5824,5825,5826,5827,5828,5829,5830,5831,5832,5833,5834,5835,5836,5837,5838,5839,5840,5841,5842,5843,5844,5845,5846,5847,5848,5849,5850,5851,5852,5853,5854,5855,5856,5857,5858,5859,5860,5861,5862,5863,5864,5865,5866,5867,5868,5869,5870,5871,5872,5873,5874,5875,5876,5877,5878,5879,5880,5881,5882,5883,5884,5885,5886,5887,5888,5889,5890,5891,5892,5893,5894,5895,5896,5897,5898,5899,5900,5901,5902,5903,5904,5905,5906,5907,5908,5909,5910,5911,5912,5913,5914,5915,5916,5917,5918,5919,5920,5921,5922,5923,5924,5925,5926,5927,5928,5929,5930,5931,5932,5933,5934,5935,5936,5937,5938,5939,5940,5941,5942,5943,5944,5945,5946,5947,5948,5949,5950,5951,5952,5953,5954,5955,5956,5957,5958,5959,5960,5961,5962,5963,5964,5965,5966,5967,5968,5969,5970,5971,5972,5973,5974,5975,5976,5977,5978,5979,5980,5981,5982,5983,5984,5985,5986,5987,5988,5989,5990,5991,5992,5993,5994,5995,5996,5997,5998,5999,6000,6001,6002,6003,6004,6005,6006,6007,6008,6009,6010,6011,6012,6013,6014,6015,6016,6017,6018,6019,6020,6021,6022,6023,6024,6025,6026,6027,6028,6029,6030,6031,6032,6033,6034,6035,6036,6037,6038,6039,6040,6041,6042,6043,6044,6045,6046,6047,6048,6049,6050,6051,6052,6053,6054,6055,6056,6057,6058,6059,6060,6061,6062,6063,6064,6065,6066,6067,6068,6069,6070,6071,6072,6073,6074,6075,6076,6077,6078,6079,6080,6081,6082,6083,6084,6085,6086,6087,6088,6089,6090,6091,6092,6093,6094,6095,6096,6097,6098,6099,6100,6101,6102,6103,6104,6105,6106,6107,6108,6109,6110,6111,6112,6113,6114,6115,6116,6117,6118,6119,6120,6121,6122,6123,6124,6125,6126,6127,6128,6129,6130,6131,6132,6133,6134,6135,6136,6137,6138,6139,6140,6141,6142,6143,6144,6145,6146,6147,6148,6149,6150,6151,6152,6153,6154,6155,6156,6157,6158,6159,6160,6161,6162,6163,6164,6165,6166,6167,6168,6169,6170,6171,6172,6173,6174,6175,6176,6177,6178,6179,6180,6181,6182,6183,6184,6185,6186,6187,6188,6189,6190,6191,6192,6193,6194,6195,6196,6197,6198,6199,6200,6201,6202,6203,6204,6205,6206,6207,6208,6209,6210,6211,6212,6213,6214,6215,6216,6217,6218,6219,6220,6221,6222,6223,6224,6225,6226,6227,6228,6229,6230,6231,6232,6233,6234,6235,6236,6237,6238,6239,6240,6241,6242,6243,6244,6245,6246,6247,6248,6249,6250,6251,6252,6253,6254,6255,6256,6257,6258,6259,6260,6261,6262,6263,6264,6265,6266,6267,6268,6269,6270,6271,6272,6273,6274,6275,6276,6277,6278,6279,6280,6281,6282,6283,6284,6285,6286,6287,6288,6289,6290,6291,6292,6293,6294,6295,6296,6297,6298,6299,6300,6301,6302,6303,6304,6305,6306,6307,6308,6309,6310,6311,6312,6313,6314,6315,6316,6317,6318,6319,6320,6321,6322,6323,6324,6325,6326,6327,6328,6329,6330,6331,6332,6333,6334,6335,6336,6337,6338,6339,6340,6341,6342,6343,6344,6345,6346,6347,6348,6349,6350,6351,6352,6353,6354,6355,6356,6357,6358,6359,6360,6361,6362,6363,6364,6365,6366,6367,6368,6369,6370,6371,6372,6373,6374,6375,6376,6377,6378,6379,6380,6381,6382,6383,6384,6385,6386,6387,6388,6389,6390,6391,6392,6393,6394,6395,6396,6397,6398,6399,6400,6401,6402,6403,6404,6405,6406,6407,6408,6409,6410,6411,6412,6413,6414,6415,6416,6417,6418,6419,6420,6421,6422,6423,6424,6425,6426,6427,6428,6429,6430,6431,6432,6433,6434,6435,6436,6437,6438,6439,6440,6441,6442,6443,6444,6445,6446,6447,6448,6449,6450,6451,6452,6453,6454,6455,6456,6457,6458,6459,6460,6461,6462,6463,6464,6465,6466,6467,6468,6469,6470,6471,6472,6473,6474,6475,6476,6477,6478,6479,6480,6481,6482,6483,6484,6485,6486,6487,6488,6489,6490,6491,6492,6493,6494,6495,6496,6497,6498,6499,6500,6501,6502,6503,6504,6505,6506,6507,6508,6509,6510,6511,6512,6513,6514,6515,6516,6517,6518,6519,6520,6521,6522,6523,6524,6525,6526,6527,6528,6529,6530,6531,6532,6533,6534,6535,6536,6537,6538,6539,6540,6541,6542,6543,6544,6545,6546,6547,6548,6549,6550,6551,6552,6553,6554,6555,6556,6557,6558,6559,6560,6561,6562,6563,6564,6565,6566,6567,6568,6569,6570,6571,6572,6573,6574,6575,6576,6577,6578,6579,6580,6581,6582,6583,6584,6585,6586,6587,6588,6589,6590,6591,6592,6593,6594,6595,6596,6597,6598,6599,6600,6601,6602,6603,6604,6605,6606,6607,6608,6609,6610,6611,6612,6613,6614,6615,6616,6617,6618,6619,6620,6621,6622,6623,6624,6625,6626,6627,6628,6629,6630,6631,6632,6633,6634,6635,6636,6637,6638,6639,6640,6641,6642,6643,6644,6645,6646,6647,6648,6649,6650,6651,6652,6653,6654,6655,6656,6657,6658,6659,6660,6661,6662,6663,6664,6665,6666,6667,6668,6669,6670,6671,6672,6673,6674,6675,6676,6677,6678,6679,6680,6681,6682,6683,6684,6685,6686,6687,6688,6689,6690,6691,6692,6693,6694,6695,6696,6697,6698,6699,6700,6701,6702,6703,6704,6705,6706,6707,6708,6709,6710,6711,6712,6713,6714,6715,6716,6717,6718,6719,6720,6721,6722,6723,6724,6725,6726,6727,6728,6729,6730,6731,6732,6733,6734,6735,6736,6737,6738,6739,6740,6741,6742,6743,6744,6745,6746,6747,6748,6749,6750,6751,6752,6753,6754,6755,6756,6757,6758,6759,6760,6761,6762,6763,6764,6765,6766,6767,6768,6769,6770,6771,6772,6773,6774,6775,6776,6777,6778,6779,6780,6781,6782,6783,6784,6785,6786,6787,6788,6789,6790,6791,6792,6793,6794,6795,6796,6797,6798,6799,6800,6801,6802,6803,6804,6805,6806,6807,6808,6809,6810,6811,6812,6813,6814,6815,6816,6817,6818,6819,6820,6821,6822,6823,6824,6825,6826,6827,6828,6829,6830,6831,6832,6833,6834,6835,6836,6837,6838,6839,6840,6841,6842,6843,6844,6845,6846,6847,6848,6849,6850,6851,6852,6853,6854,6855,6856,6857,6858,6859,6860,6861,6862,6863,6864,6865,6866,6867,6868,6869,6870,6871,6872,6873,6874,6875,6876,6877,6878,6879,6880,6881,6882,6883,6884,6885,6886,6887,6888,6889,6890,6891,6892,6893,6894,6895,6896,6897,6898,6899,6900,6901,6902,6903,6904,6905,6906,6907,6908,6909,6910,6911,6912,6913,6914,6915,6916,6917,6918,6919,6920,6921,6922,6923,6924,6925,6926,6927,6928,6929,6930,6931,6932,6933,6934,6935,6936,6937,6938,6939,6940,6941,6942,6943,6944,6945,6946,6947,6948,6949,6950,6951,6952,6953,6954,6955,6956,6957,6958,6959,6960,6961,6962,6963,6964,6965,6966,6967,6968,6969,6970,6971,6972,6973,6974,6975,6976,6977,6978,6979,6980,6981,6982,6983,6984,6985,6986,6987,6988,6989,6990,6991,6992,6993,6994,6995,6996,6997,6998,6999,7000,7001,7002,7003,7004,7005,7006,7007,7008,7009,7010,7011,7012,7013,7014,7015,7016,7017,7018,7019,7020,7021,7022,7023,7024,7025,7026,7027,7028,7029,7030,7031,7032,7033,7034,7035,7036,7037,7038,7039,7040,7041,7042,7043,7044,7045,7046,7047,7048,7049,7050,7051,7052,7053,7054,7055,7056,7057,7058,7059,7060,7061,7062,7063,7064,7065,7066,7067,7068,7069,7070,7071,7072,7073,7074,7075,7076,7077,7078,7079,7080,7081,7082,7083,7084,7085,7086,7087,7088,7089,7090,7091,7092,7093,7094,7095,7096,7097,7098,7099,7100,7101,7102,7103,7104,7105,7106,7107,7108,7109,7110,7111,7112,7113,7114,7115,7116,7117,7118,7119,7120,7121,7122,7123,7124,7125,7126,7127,7128,7129,7130,7131,7132,7133,7134,7135,7136,7137,7138,7139,7140,7141,7142,7143,7144,7145,7146,7147,7148,7149,7150,7151,7152,7153,7154,7155,7156,7157,7158,7159,7160,7161,7162,7163,7164,7165,7166,7167,7168,7169,7170,7171,7172,7173,7174,7175,7176,7177,7178,7179,7180,7181,7182,7183,7184,7185,7186,7187,7188,7189,7190,7191,7192,7193,7194,7195,7196,7197,7198,7199,7200,7201,7202,7203,7204,7205,7206,7207,7208,7209,7210,7211,7212,7213,7214,7215,7216,7217,7218,7219,7220,7221,7222,7223,7224,7225,7226,7227,7228,7229,7230,7231,7232,7233,7234,7235,7236,7237,7238,7239,7240,7241,7242,7243,7244,7245,7246,7247,7248,7249,7250,7251,7252,7253,7254,7255,7256,7257,7258,7259,7260,7261,7262,7263,7264,7265,7266,7267,7268,7269,7270,7271,7272,7273,7274,7275,7276,7277,7278,7279,7280,7281,7282,7283,7284,7285,7286,7287,7288,7289,7290,7291,7292,7293,7294,7295,7296,7297,7298,7299,7300,7301,7302,7303,7304,7305,7306,7307,7308,7309,7310,7311,7312,7313,7314,7315,7316,7317,7318,7319,7320,7321,7322,7323,7324,7325,7326,7327,7328,7329,7330,7331,7332,7333,7334,7335,7336,7337,7338,7339,7340,7341,7342,7343,7344,7345,7346,7347,7348,7349,7350,7351,7352,7353,7354,7355,7356,7357,7358,7359,7360,7361,7362,7363,7364,7365,7366,7367,7368,7369,7370,7371,7372,7373,7374,7375,7376,7377,7378,7379,7380,7381,7382,7383,7384,7385,7386,7387,7388,7389,7390,7391,7392,7393,7394,7395,7396,7397,7398,7399,7400,7401,7402,7403,7404,7405,7406,7407,7408,7409,7410,7411,7412,7413,7414,7415,7416,7417,7418,7419,7420,7421,7422,7423,7424,7425,7426,7427,7428,7429,7430,7431,7432,7433,7434,7435,7436,7437,7438,7439,7440,7441,7442,7443,7444,7445,7446,7447,7448,7449,7450,7451,7452,7453,7454,7455,7456,7457,7458,7459,7460,7461,7462,7463,7464,7465,7466,7467,7468,7469,7470,7471,7472,7473,7474,7475,7476,7477,7478,7479,7480,7481,7482,7483,7484,7485,7486,7487,7488,7489,7490,7491,7492,7493,7494,7495,7496,7497,7498,7499,7500,7501,7502,7503,7504,7505,7506,7507,7508,7509,7510,7511,7512,7513,7514,7515,7516,7517,7518,7519,7520,7521,7522,7523,7524,7525,7526,7527,7528,7529,7530,7531,7532,7533,7534,7535,7536,7537,7538,7539,7540,7541,7542,7543,7544,7545,7546,7547,7548,7549,7550,7551,7552,7553,7554,7555,7556,7557,7558,7559,7560,7561,7562,7563,7564,7565,7566,7567,7568,7569,7570,7571,7572,7573,7574,7575,7576,7577,7578,7579,7580,7581,7582,7583,7584,7585,7586,7587,7588,7589,7590,7591,7592,7593,7594,7595,7596,7597,7598,7599,7600,7601,7602,7603,7604,7605,7606,7607,7608,7609,7610,7611,7612,7613,7614,7615,7616,7617,7618,7619,7620,7621,7622,7623,7624,7625,7626,7627,7628,7629,7630,7631,7632,7633,7634,7635,7636,7637,7638,7639,7640,7641,7642,7643,7644,7645,7646,7647,7648,7649,7650,7651,7652,7653,7654,7655,7656,7657,7658,7659,7660,7661,7662,7663,7664,7665,7666,7667,7668,7669,7670,7671,7672,7673,7674,7675,7676,7677,7678,7679,7680,7681,7682,7683,7684,7685,7686,7687,7688,7689,7690,7691,7692,7693,7694,7695,7696,7697,7698,7699,7700,7701,7702,7703,7704,7705,7706,7707,7708,7709,7710,7711,7712,7713,7714,7715,7716,7717,7718,7719,7720,7721,7722,7723,7724,7725,7726,7727,7728,7729,7730,7731,7732,7733,7734,7735,7736,7737,7738,7739,7740,7741,7742,7743,7744,7745,7746,7747,7748,7749,7750,7751,7752,7753,7754,7755,7756,7757,7758,7759,7760,7761,7762,7763,7764,7765,7766,7767,7768,7769,7770,7771,7772,7773,7774,7775,7776,7777,7778,7779,7780,7781,7782,7783,7784,7785,7786,7787,7788,7789,7790,7791,7792,7793,7794,7795,7796,7797,7798,7799,7800,7801,7802,7803,7804,7805,7806,7807,7808,7809,7810,7811,7812,7813,7814,7815,7816,7817,7818,7819,7820,7821,7822,7823,7824,7825,7826,7827,7828,7829,7830,7831,7832,7833,7834,7835,7836,7837,7838,7839,7840,7841,7842,7843,7844,7845,7846,7847,7848,7849,7850,7851,7852,7853,7854,7855,7856,7857,7858,7859,7860,7861,7862,7863,7864,7865,7866,7867,7868,7869,7870,7871,7872,7873,7874,7875,7876,7877,7878,7879,7880,7881,7882,7883,7884,7885,7886,7887,7888,7889,7890,7891,7892,7893,7894,7895,7896,7897,7898,7899,7900,7901,7902,7903,7904,7905,7906,7907,7908,7909,7910,7911,7912,7913,7914,7915,7916,7917,7918,7919,7920,7921,7922,7923,7924,7925,7926,7927,7928,7929,7930,7931,7932,7933,7934,7935,7936,7937,7938,7939,7940,7941,7942,7943,7944,7945,7946,7947,7948,7949,7950,7951,7952,7953,7954,7955,7956,7957,7958,7959,7960,7961,7962,7963,7964,7965,7966,7967,7968,7969,7970,7971,7972,7973,7974,7975,7976,7977,7978,7979,7980,7981,7982,7983,7984,7985,7986,7987,7988,7989,7990,7991,7992,7993,7994,7995,7996,7997,7998,7999,8000,8001,8002,8003,8004,8005,8006,8007,8008,8009,8010,8011,8012,8013,8014,8015,8016,8017,8018,8019,8020,8021,8022,8023,8024,8025,8026,8027,8028,8029,8030,8031,8032,8033,8034,8035,8036,8037,8038,8039,8040,8041,8042,8043,8044,8045,8046,8047,8048,8049,8050,8051,8052,8053,8054,8055,8056,8057,8058,8059,8060,8061,8062,8063,8064,8065,8066,8067,8068,8069,8070,8071,8072,8073,8074,8075,8076,8077,8078,8079,8080,8081,8082,8083,8084,8085,8086,8087,8088,8089,8090,8091,8092,8093,8094,8095,8096,8097,8098,8099,8100,8101,8102,8103,8104,8105,8106,8107,8108,8109,8110,8111,8112,8113,8114,8115,8116,8117,8118,8119,8120,8121,8122,8123,8124,8125,8126,8127,8128,8129,8130,8131,8132,8133,8134,8135,8136,8137,8138,8139,8140,8141,8142,8143,8144,8145,8146,8147,8148,8149,8150,8151,8152,8153,8154,8155,8156,8157,8158,8159,8160,8161,8162,8163,8164,8165,8166,8167,8168,8169,8170,8171,8172,8173,8174,8175,8176,8177,8178,8179,8180,8181,8182,8183,8184,8185,8186,8187,8188,8189,8190,8191,8192,8193,8194,8195,8196,8197,8198,8199,8200,8201,8202,8203,8204,8205,8206,8207,8208,8209,8210,8211,8212,8213,8214,8215,8216,8217,8218,8219,8220,8221,8222,8223,8224,8225,8226,8227,8228,8229,8230,8231,8232,8233,8234,8235,8236,8237,8238,8239,8240,8241,8242,8243,8244,8245,8246,8247,8248,8249,8250,8251,8252,8253,8254,8255,8256,8257,8258,8259,8260,8261,8262,8263,8264,8265,8266,8267,8268,8269,8270,8271,8272,8273,8274,8275,8276,8277,8278,8279,8280,8281,8282,8283,8284,8285,8286,8287,8288,8289,8290,8291,8292,8293,8294,8295,8296,8297,8298,8299,8300,8301,8302,8303,8304,8305,8306,8307,8308,8309,8310,8311,8312,8313,8314,8315,8316,8317,8318,8319,8320,8321,8322,8323,8324,8325,8326,8327,8328,8329,8330,8331,8332,8333,8334,8335,8336,8337,8338,8339,8340,8341,8342,8343,8344,8345,8346,8347,8348,8349,8350,8351,8352,8353,8354,8355,8356,8357,8358,8359,8360,8361,8362,8363,8364,8365,8366,8367,8368,8369,8370,8371,8372,8373,8374,8375,8376,8377,8378,8379,8380,8381,8382,8383,8384,8385,8386,8387,8388,8389,8390,8391,8392,8393,8394,8395,8396,8397,8398,8399,8400,8401,8402,8403,8404,8405,8406,8407,8408,8409,8410,8411,8412,8413,8414,8415,8416,8417,8418,8419,8420,8421,8422,8423,8424,8425,8426,8427,8428,8429,8430,8431,8432,8433,8434,8435,8436,8437,8438,8439,8440,8441,8442,8443,8444,8445,8446,8447,8448,8449,8450,8451,8452,8453,8454,8455,8456,8457,8458,8459,8460,8461,8462,8463,8464,8465,8466,8467,8468,8469,8470,8471,8472,8473,8474,8475,8476,8477,8478,8479,8480,8481,8482,8483,8484,8485,8486,8487,8488,8489,8490,8491,8492,8493,8494,8495,8496,8497,8498,8499,8500,8501,8502,8503,8504,8505,8506,8507,8508,8509,8510,8511,8512,8513,8514,8515,8516,8517,8518,8519,8520,8521,8522,8523,8524,8525,8526,8527,8528,8529,8530,8531,8532,8533,8534,8535,8536,8537,8538,8539,8540,8541,8542,8543,8544,8545,8546,8547,8548,8549,8550,8551,8552,8553,8554,8555,8556,8557,8558,8559,8560,8561,8562,8563,8564,8565,8566,8567,8568,8569,8570,8571,8572,8573,8574,8575,8576,8577,8578,8579,8580,8581,8582,8583,8584,8585,8586,8587,8588,8589,8590,8591,8592,8593,8594,8595,8596,8597,8598,8599,8600,8601,8602,8603,8604,8605,8606,8607,8608,8609,8610,8611,8612,8613,8614,8615,8616,8617,8618,8619,8620,8621,8622,8623,8624,8625,8626,8627,8628,8629,8630,8631,8632,8633,8634,8635,8636,8637,8638,8639,8640,8641,8642,8643,8644,8645,8646,8647,8648,8649,8650,8651,8652,8653,8654,8655,8656,8657,8658,8659,8660,8661,8662,8663,8664,8665,8666,8667,8668,8669,8670,8671,8672,8673,8674,8675,8676,8677,8678,8679,8680,8681,8682,8683,8684,8685,8686,8687,8688,8689,8690,8691,8692,8693,8694,8695,8696,8697,8698,8699,8700,8701,8702,8703,8704,8705,8706,8707,8708,8709,8710,8711,8712,8713,8714,8715,8716,8717,8718,8719,8720,8721,8722,8723,8724,8725,8726,8727,8728,8729,8730,8731,8732,8733,8734,8735,8736,8737,8738,8739,8740,8741,8742,8743,8744,8745,8746,8747,8748,8749,8750,8751,8752,8753,8754,8755,8756,8757,8758,8759,8760,8761,8762,8763,8764,8765,8766,8767,8768,8769,8770,8771,8772,8773,8774,8775,8776,8777,8778,8779,8780,8781,8782,8783,8784,8785,8786,8787,8788,8789,8790,8791,8792,8793,8794,8795,8796,8797,8798,8799,8800,8801,8802,8803,8804,8805,8806,8807,8808,8809,8810,8811,8812,8813,8814,8815,8816,8817,8818,8819,8820,8821,8822,8823,8824,8825,8826,8827,8828,8829,8830,8831,8832,8833,8834,8835,8836,8837,8838,8839,8840,8841,8842,8843,8844,8845,8846,8847,8848,8849,8850,8851,8852,8853,8854,8855,8856,8857,8858,8859,8860,8861,8862,8863,8864,8865,8866,8867,8868,8869,8870,8871,8872,8873,8874,8875,8876,8877,8878,8879,8880,8881,8882,8883,8884,8885,8886,8887,8888,8889,8890,8891,8892,8893,8894,8895,8896,8897,8898,8899,8900,8901,8902,8903,8904,8905,8906,8907,8908,8909,8910,8911,8912,8913,8914,8915,8916,8917,8918,8919,8920,8921,8922,8923,8924,8925,8926,8927,8928,8929,8930,8931,8932,8933,8934,8935,8936,8937,8938,8939,8940,8941,8942,8943,8944,8945,8946,8947,8948,8949,8950,8951,8952,8953,8954,8955,8956,8957,8958,8959,8960,8961,8962,8963,8964,8965,8966,8967,8968,8969,8970,8971,8972,8973,8974,8975,8976,8977,8978,8979,8980,8981,8982,8983,8984,8985,8986,8987,8988,8989,8990,8991,8992,8993,8994,8995,8996,8997,8998,8999,9000,9001,9002,9003,9004,9005,9006,9007,9008,9009,9010,9011,9012,9013,9014,9015,9016,9017,9018,9019,9020,9021,9022,9023,9024,9025,9026,9027,9028,9029,9030,9031,9032,9033,9034,9035,9036,9037,9038,9039,9040,9041,9042,9043,9044,9045,9046,9047,9048,9049,9050,9051,9052,9053,9054,9055,9056,9057,9058,9059,9060,9061,9062,9063,9064,9065,9066,9067,9068,9069,9070,9071,9072,9073,9074,9075,9076,9077,9078,9079,9080,9081,9082,9083,9084,9085,9086,9087,9088,9089,9090,9091,9092,9093,9094,9095,9096,9097,9098,9099,9100,9101,9102,9103,9104,9105,9106,9107,9108,9109,9110,9111,9112,9113,9114,9115,9116,9117,9118,9119,9120,9121,9122,9123,9124,9125,9126,9127,9128,9129,9130,9131,9132,9133,9134,9135,9136,9137,9138,9139,9140,9141,9142,9143,9144,9145,9146,9147,9148,9149,9150,9151,9152,9153,9154,9155,9156,9157,9158,9159,9160,9161,9162,9163,9164,9165,9166,9167,9168,9169,9170,9171,9172,9173,9174,9175,9176,9177,9178,9179,9180,9181,9182,9183,9184,9185,9186,9187,9188,9189,9190,9191,9192,9193,9194,9195,9196,9197,9198,9199,9200,9201,9202,9203,9204,9205,9206,9207,9208,9209,9210,9211,9212,9213,9214,9215,9216,9217,9218,9219,9220,9221,9222,9223,9224,9225,9226,9227,9228,9229,9230,9231,9232,9233,9234,9235,9236,9237,9238,9239,9240,9241,9242,9243,9244,9245,9246,9247,9248,9249,9250,9251,9252,9253,9254,9255,9256,9257,9258,9259,9260,9261,9262,9263,9264,9265,9266,9267,9268,9269,9270,9271,9272,9273,9274,9275,9276,9277,9278,9279,9280,9281,9282,9283,9284,9285,9286,9287,9288,9289,9290,9291,9292,9293,9294,9295,9296,9297,9298,9299,9300,9301,9302,9303,9304,9305,9306,9307,9308,9309,9310,9311,9312,9313,9314,9315,9316,9317,9318,9319,9320,9321,9322,9323,9324,9325,9326,9327,9328,9329,9330,9331,9332,9333,9334,9335,9336,9337,9338,9339,9340,9341,9342,9343,9344,9345,9346,9347,9348,9349,9350,9351,9352,9353,9354,9355,9356,9357,9358,9359,9360,9361,9362,9363,9364,9365,9366,9367,9368,9369,9370,9371,9372,9373,9374,9375,9376,9377,9378,9379,9380],\"time\":{\"__ndarray__\":\"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\",\"dtype\":\"float64\",\"shape\":[9381]}}},\"id\":\"a645940c-1988-435f-85e5-ee411fde4cf9\",\"type\":\"ColumnDataSource\"},{\"attributes\":{\"base\":60,\"mantissas\":[1,2,5,10,15,20,30],\"max_interval\":1800000.0,\"min_interval\":1000.0,\"num_minor_ticks\":0},\"id\":\"16c9c926-4c1a-4036-b8de-1e0f843f86bc\",\"type\":\"AdaptiveTicker\"},{\"attributes\":{\"days\":[1,15]},\"id\":\"5f3ed3cd-ba0c-4d07-b535-f415791f163e\",\"type\":\"DaysTicker\"},{\"attributes\":{\"months\":[0,1,2,3,4,5,6,7,8,9,10,11]},\"id\":\"372526b9-e84b-4ebf-9fde-6294315d8606\",\"type\":\"MonthsTicker\"},{\"attributes\":{\"base\":24,\"mantissas\":[1,2,4,6,8,12],\"max_interval\":43200000.0,\"min_interval\":3600000.0,\"num_minor_ticks\":0},\"id\":\"b85985ca-fd84-4150-b688-921d97169339\",\"type\":\"AdaptiveTicker\"},{\"attributes\":{\"months\":[0,4,8]},\"id\":\"74d54cb4-e15a-4431-9d20-09bfc60463d4\",\"type\":\"MonthsTicker\"},{\"attributes\":{},\"id\":\"b89f5891-1ff9-4ca5-ad44-ce9ca6d6ef10\",\"type\":\"YearsTicker\"},{\"attributes\":{\"days\":[1,8,15,22]},\"id\":\"7ce630f9-0edd-4b5c-a09a-b2216c988f88\",\"type\":\"DaysTicker\"},{\"attributes\":{\"days\":[1,4,7,10,13,16,19,22,25,28]},\"id\":\"0fbcb065-f395-49aa-a085-ebfe979afb01\",\"type\":\"DaysTicker\"},{\"attributes\":{},\"id\":\"1be5aae7-9161-41f3-92fe-367633f2cd35\",\"type\":\"HelpTool\"},{\"attributes\":{\"months\":[0,6]},\"id\":\"41980759-d05b-4d0f-9182-72a85db3fd5f\",\"type\":\"MonthsTicker\"},{\"attributes\":{},\"id\":\"023309cb-5ce5-42e0-bf37-1b9de756c183\",\"type\":\"LinearScale\"},{\"attributes\":{},\"id\":\"bbf199e7-1357-4c38-8831-0cebb6d37c15\",\"type\":\"ResetTool\"},{\"attributes\":{},\"id\":\"fd42d18c-f358-4e9f-a4f7-7dcf1772e2c5\",\"type\":\"PanTool\"},{\"attributes\":{\"below\":[{\"id\":\"33f1ee88-d772-4ae0-a6e8-d018e59939af\",\"type\":\"DatetimeAxis\"}],\"left\":[{\"id\":\"d27b4222-3fef-4be4-8203-3dedc3efb655\",\"type\":\"LinearAxis\"}],\"plot_height\":400,\"plot_width\":1000,\"renderers\":[{\"id\":\"33f1ee88-d772-4ae0-a6e8-d018e59939af\",\"type\":\"DatetimeAxis\"},{\"id\":\"f8fc4652-2d07-4084-81b0-ee6e4379b94c\",\"type\":\"Grid\"},{\"id\":\"d27b4222-3fef-4be4-8203-3dedc3efb655\",\"type\":\"LinearAxis\"},{\"id\":\"1fa254c3-1ad5-48d9-9f90-a52792d87eda\",\"type\":\"Grid\"},{\"id\":\"8659b439-af96-415d-953d-93ea0819519f\",\"type\":\"BoxAnnotation\"},{\"id\":\"a3216935-3696-4d94-97a4-ca1a27447634\",\"type\":\"GlyphRenderer\"}],\"title\":{\"id\":\"f9cab757-42c8-4d7d-a5e1-723beb0d53d7\",\"type\":\"Title\"},\"toolbar\":{\"id\":\"aba46d82-8ec5-41d2-8ce6-109450eaa2f1\",\"type\":\"Toolbar\"},\"x_range\":{\"id\":\"00a63a11-7a5b-4b53-b99a-606a09f6464f\",\"type\":\"DataRange1d\"},\"x_scale\":{\"id\":\"ee732c38-a1ec-466a-a103-167754a44f45\",\"type\":\"LinearScale\"},\"y_range\":{\"id\":\"ff43fd0c-e2b6-4207-a690-ece03720719e\",\"type\":\"DataRange1d\"},\"y_scale\":{\"id\":\"023309cb-5ce5-42e0-bf37-1b9de756c183\",\"type\":\"LinearScale\"}},\"id\":\"caa68d74-ff7f-4a72-8c46-9663c2446f72\",\"subtype\":\"Figure\",\"type\":\"Plot\"},{\"attributes\":{\"mantissas\":[1,2,5],\"max_interval\":500.0,\"num_minor_ticks\":0},\"id\":\"3be0ba24-9844-487f-89ce-e08be8ed380a\",\"type\":\"AdaptiveTicker\"},{\"attributes\":{},\"id\":\"b770b841-4b94-48e7-b770-e2b436cbe072\",\"type\":\"WheelZoomTool\"},{\"attributes\":{\"axis_label\":\"LoginCount\",\"formatter\":{\"id\":\"67be5363-7607-4b62-be45-30a2236a8df6\",\"type\":\"BasicTickFormatter\"},\"plot\":{\"id\":\"caa68d74-ff7f-4a72-8c46-9663c2446f72\",\"subtype\":\"Figure\",\"type\":\"Plot\"},\"ticker\":{\"id\":\"54b30f21-64fe-458a-b64e-b8c128c3b532\",\"type\":\"BasicTicker\"}},\"id\":\"d27b4222-3fef-4be4-8203-3dedc3efb655\",\"type\":\"LinearAxis\"},{\"attributes\":{\"axis_label\":\"Time\",\"formatter\":{\"id\":\"02c661b1-b2cc-4aa1-8ea1-e260df595ccf\",\"type\":\"DatetimeTickFormatter\"},\"plot\":{\"id\":\"caa68d74-ff7f-4a72-8c46-9663c2446f72\",\"subtype\":\"Figure\",\"type\":\"Plot\"},\"ticker\":{\"id\":\"480e560d-8571-4b5a-a396-bb938e2f46a1\",\"type\":\"DatetimeTicker\"}},\"id\":\"33f1ee88-d772-4ae0-a6e8-d018e59939af\",\"type\":\"DatetimeAxis\"},{\"attributes\":{\"num_minor_ticks\":5,\"tickers\":[{\"id\":\"3be0ba24-9844-487f-89ce-e08be8ed380a\",\"type\":\"AdaptiveTicker\"},{\"id\":\"16c9c926-4c1a-4036-b8de-1e0f843f86bc\",\"type\":\"AdaptiveTicker\"},{\"id\":\"b85985ca-fd84-4150-b688-921d97169339\",\"type\":\"AdaptiveTicker\"},{\"id\":\"aec336a6-b833-449a-8254-dc58f1180fa5\",\"type\":\"DaysTicker\"},{\"id\":\"0fbcb065-f395-49aa-a085-ebfe979afb01\",\"type\":\"DaysTicker\"},{\"id\":\"7ce630f9-0edd-4b5c-a09a-b2216c988f88\",\"type\":\"DaysTicker\"},{\"id\":\"5f3ed3cd-ba0c-4d07-b535-f415791f163e\",\"type\":\"DaysTicker\"},{\"id\":\"372526b9-e84b-4ebf-9fde-6294315d8606\",\"type\":\"MonthsTicker\"},{\"id\":\"af1dea71-5a9e-44d3-8671-8e9aad8e6fb4\",\"type\":\"MonthsTicker\"},{\"id\":\"74d54cb4-e15a-4431-9d20-09bfc60463d4\",\"type\":\"MonthsTicker\"},{\"id\":\"41980759-d05b-4d0f-9182-72a85db3fd5f\",\"type\":\"MonthsTicker\"},{\"id\":\"b89f5891-1ff9-4ca5-ad44-ce9ca6d6ef10\",\"type\":\"YearsTicker\"}]},\"id\":\"480e560d-8571-4b5a-a396-bb938e2f46a1\",\"type\":\"DatetimeTicker\"},{\"attributes\":{\"source\":{\"id\":\"a645940c-1988-435f-85e5-ee411fde4cf9\",\"type\":\"ColumnDataSource\"}},\"id\":\"43081e99-1115-4449-b23e-e85686b4a026\",\"type\":\"CDSView\"},{\"attributes\":{},\"id\":\"7150acfe-d82f-41eb-90e2-6e95e082448b\",\"type\":\"SaveTool\"},{\"attributes\":{},\"id\":\"ee732c38-a1ec-466a-a103-167754a44f45\",\"type\":\"LinearScale\"},{\"attributes\":{\"callback\":null},\"id\":\"ff43fd0c-e2b6-4207-a690-ece03720719e\",\"type\":\"DataRange1d\"},{\"attributes\":{\"dimension\":1,\"plot\":{\"id\":\"caa68d74-ff7f-4a72-8c46-9663c2446f72\",\"subtype\":\"Figure\",\"type\":\"Plot\"},\"ticker\":{\"id\":\"54b30f21-64fe-458a-b64e-b8c128c3b532\",\"type\":\"BasicTicker\"}},\"id\":\"1fa254c3-1ad5-48d9-9f90-a52792d87eda\",\"type\":\"Grid\"},{\"attributes\":{\"plot\":{\"id\":\"caa68d74-ff7f-4a72-8c46-9663c2446f72\",\"subtype\":\"Figure\",\"type\":\"Plot\"},\"ticker\":{\"id\":\"480e560d-8571-4b5a-a396-bb938e2f46a1\",\"type\":\"DatetimeTicker\"}},\"id\":\"f8fc4652-2d07-4084-81b0-ee6e4379b94c\",\"type\":\"Grid\"},{\"attributes\":{},\"id\":\"67be5363-7607-4b62-be45-30a2236a8df6\",\"type\":\"BasicTickFormatter\"},{\"attributes\":{},\"id\":\"54b30f21-64fe-458a-b64e-b8c128c3b532\",\"type\":\"BasicTicker\"},{\"attributes\":{\"bottom_units\":\"screen\",\"fill_alpha\":{\"value\":0.5},\"fill_color\":{\"value\":\"lightgrey\"},\"left_units\":\"screen\",\"level\":\"overlay\",\"line_alpha\":{\"value\":1.0},\"line_color\":{\"value\":\"black\"},\"line_dash\":[4,4],\"line_width\":{\"value\":2},\"plot\":null,\"render_mode\":\"css\",\"right_units\":\"screen\",\"top_units\":\"screen\"},\"id\":\"8659b439-af96-415d-953d-93ea0819519f\",\"type\":\"BoxAnnotation\"},{\"attributes\":{\"data_source\":{\"id\":\"a645940c-1988-435f-85e5-ee411fde4cf9\",\"type\":\"ColumnDataSource\"},\"glyph\":{\"id\":\"55b2451e-3204-4b5c-a0c9-65a5e8a242b7\",\"type\":\"Line\"},\"hover_glyph\":null,\"muted_glyph\":null,\"nonselection_glyph\":{\"id\":\"a179557f-5e93-4dbc-9a3c-5478fd46fa50\",\"type\":\"Line\"},\"selection_glyph\":null,\"view\":{\"id\":\"43081e99-1115-4449-b23e-e85686b4a026\",\"type\":\"CDSView\"}},\"id\":\"a3216935-3696-4d94-97a4-ca1a27447634\",\"type\":\"GlyphRenderer\"},{\"attributes\":{\"line_color\":\"#1f77b4\",\"x\":{\"field\":\"time\"},\"y\":{\"field\":\"count\"}},\"id\":\"55b2451e-3204-4b5c-a0c9-65a5e8a242b7\",\"type\":\"Line\"},{\"attributes\":{\"line_alpha\":0.1,\"line_color\":\"#1f77b4\",\"x\":{\"field\":\"time\"},\"y\":{\"field\":\"count\"}},\"id\":\"a179557f-5e93-4dbc-9a3c-5478fd46fa50\",\"type\":\"Line\"},{\"attributes\":{\"callback\":null},\"id\":\"00a63a11-7a5b-4b53-b99a-606a09f6464f\",\"type\":\"DataRange1d\"},{\"attributes\":{\"overlay\":{\"id\":\"8659b439-af96-415d-953d-93ea0819519f\",\"type\":\"BoxAnnotation\"}},\"id\":\"8a8fc676-57cb-46a5-bd0c-d5437a115a0a\",\"type\":\"BoxZoomTool\"},{\"attributes\":{\"plot\":null,\"text\":\"Time vs. LoginCount\"},\"id\":\"f9cab757-42c8-4d7d-a5e1-723beb0d53d7\",\"type\":\"Title\"},{\"attributes\":{\"active_drag\":\"auto\",\"active_inspect\":\"auto\",\"active_scroll\":\"auto\",\"active_tap\":\"auto\",\"tools\":[{\"id\":\"fd42d18c-f358-4e9f-a4f7-7dcf1772e2c5\",\"type\":\"PanTool\"},{\"id\":\"b770b841-4b94-48e7-b770-e2b436cbe072\",\"type\":\"WheelZoomTool\"},{\"id\":\"8a8fc676-57cb-46a5-bd0c-d5437a115a0a\",\"type\":\"BoxZoomTool\"},{\"id\":\"7150acfe-d82f-41eb-90e2-6e95e082448b\",\"type\":\"SaveTool\"},{\"id\":\"bbf199e7-1357-4c38-8831-0cebb6d37c15\",\"type\":\"ResetTool\"},{\"id\":\"1be5aae7-9161-41f3-92fe-367633f2cd35\",\"type\":\"HelpTool\"}]},\"id\":\"aba46d82-8ec5-41d2-8ce6-109450eaa2f1\",\"type\":\"Toolbar\"},{\"attributes\":{},\"id\":\"02c661b1-b2cc-4aa1-8ea1-e260df595ccf\",\"type\":\"DatetimeTickFormatter\"}],\"root_ids\":[\"caa68d74-ff7f-4a72-8c46-9663c2446f72\"]},\"title\":\"Bokeh Application\",\"version\":\"0.12.14\"}};\n",
       "  var render_items = [{\"docid\":\"c02ff777-7843-422f-ac0c-e8b3a1b800f9\",\"elementid\":\"4ad3304a-c7cf-4759-aff6-58502c0684fe\",\"modelid\":\"caa68d74-ff7f-4a72-8c46-9663c2446f72\"}];\n",
       "  root.Bokeh.embed.embed_items_notebook(docs_json, render_items);\n",
       "\n",
       "  }\n",
       "  if (root.Bokeh !== undefined) {\n",
       "    embed_document(root);\n",
       "  } else {\n",
       "    var attempts = 0;\n",
       "    var timer = setInterval(function(root) {\n",
       "      if (root.Bokeh !== undefined) {\n",
       "        embed_document(root);\n",
       "        clearInterval(timer);\n",
       "      }\n",
       "      attempts++;\n",
       "      if (attempts > 100) {\n",
       "        console.log(\"Bokeh: ERROR: Unable to run BokehJS code because BokehJS library is missing\")\n",
       "        clearInterval(timer);\n",
       "      }\n",
       "    }, 10, root)\n",
       "  }\n",
       "})(window);"
      ],
      "application/vnd.bokehjs_exec.v0+json": ""
     },
     "metadata": {
      "application/vnd.bokehjs_exec.v0+json": {
       "id": "caa68d74-ff7f-4a72-8c46-9663c2446f72"
      }
     },
     "output_type": "display_data"
    }
   ],
   "source": [
    "start = []\n",
    "for lt in logins['login_time']:\n",
    "    if lt.minute in list(range(0, 15)):\n",
    "        start.append(lt.replace(minute=0, second=0))\n",
    "    if lt.minute in list(range(15, 30)):\n",
    "        start.append(lt.replace(minute=15, second=0))\n",
    "    if lt.minute in list(range(30, 45)):\n",
    "        start.append(lt.replace(minute=30, second=0))\n",
    "    if lt.minute in list(range(45, 60)):\n",
    "        start.append(lt.replace(minute=45, second=0))\n",
    "\n",
    "logins['start'] = start\n",
    "\n",
    "quarter_count = pd.DataFrame(logins.groupby([start])['login_time'].count())\n",
    "quarter_count = quarter_count.reset_index()\n",
    "quarter_count.columns = ['time', 'count']\n",
    "\n",
    "source = ColumnDataSource(quarter_count)\n",
    "p = figure(title='Time vs. LoginCount', x_axis_label='Time', y_axis_label='LoginCount', \n",
    "           x_axis_type='datetime', width=1000, height=400)\n",
    "p.line(x='time', y='count', line_width=1, source=source)\n",
    "show(p)"
   ]
  },
  {
   "cell_type": "markdown",
   "metadata": {},
   "source": [
    "Aggregate login counts based on 24-hour time intervals"
   ]
  },
  {
   "cell_type": "code",
   "execution_count": 64,
   "metadata": {},
   "outputs": [
    {
     "data": {
      "text/html": [
       "\n",
       "<div class=\"bk-root\">\n",
       "    <div class=\"bk-plotdiv\" id=\"13877cdd-3361-4729-8064-ee15b47bc126\"></div>\n",
       "</div>"
      ]
     },
     "metadata": {},
     "output_type": "display_data"
    },
    {
     "data": {
      "application/javascript": [
       "(function(root) {\n",
       "  function embed_document(root) {\n",
       "    \n",
       "  var docs_json = {\"70362e68-6c3a-40cc-a065-e5c864bed073\":{\"roots\":{\"references\":[{\"attributes\":{},\"id\":\"4354445f-3c15-402a-a52e-829222d2ce26\",\"type\":\"BasicTickFormatter\"},{\"attributes\":{\"active_drag\":\"auto\",\"active_inspect\":\"auto\",\"active_scroll\":\"auto\",\"active_tap\":\"auto\",\"tools\":[{\"id\":\"3867742a-e948-4a5a-ab7f-22a4d3d0dbcb\",\"type\":\"PanTool\"},{\"id\":\"7a2279cd-1c08-4b72-8482-a87b34dec530\",\"type\":\"WheelZoomTool\"},{\"id\":\"d152a7e8-c62b-452a-b0fb-757d938499aa\",\"type\":\"BoxZoomTool\"},{\"id\":\"6c4f9899-09d6-4d1e-95a0-17c7fb9f5b72\",\"type\":\"SaveTool\"},{\"id\":\"ee68d573-fb75-45c1-bdd9-afa6a99bb4dc\",\"type\":\"ResetTool\"},{\"id\":\"b19c85a2-9a02-4d7f-85bc-239d90ba4e30\",\"type\":\"HelpTool\"}]},\"id\":\"4519c865-32ab-402d-8ca1-76ab2fcaf400\",\"type\":\"Toolbar\"},{\"attributes\":{\"below\":[{\"id\":\"82ccd8e3-57b3-4bb9-a8c9-0e7ffb746aff\",\"type\":\"LinearAxis\"}],\"left\":[{\"id\":\"f8aa2882-268f-40bc-b474-df7debbf66af\",\"type\":\"LinearAxis\"}],\"plot_height\":400,\"plot_width\":800,\"renderers\":[{\"id\":\"82ccd8e3-57b3-4bb9-a8c9-0e7ffb746aff\",\"type\":\"LinearAxis\"},{\"id\":\"21021195-f0dc-47ac-9435-562c27ef894e\",\"type\":\"Grid\"},{\"id\":\"f8aa2882-268f-40bc-b474-df7debbf66af\",\"type\":\"LinearAxis\"},{\"id\":\"12586048-6a8e-4425-ac48-2afb7f2b76f9\",\"type\":\"Grid\"},{\"id\":\"7a309242-b073-445d-a140-17e83cd6649e\",\"type\":\"BoxAnnotation\"},{\"id\":\"f57947d0-995e-4cf4-bbfe-d5c956f0d5ea\",\"type\":\"GlyphRenderer\"}],\"title\":{\"id\":\"bf0986bc-8a9f-422f-9973-d14e21370751\",\"type\":\"Title\"},\"toolbar\":{\"id\":\"4519c865-32ab-402d-8ca1-76ab2fcaf400\",\"type\":\"Toolbar\"},\"x_range\":{\"id\":\"cdc6a094-091b-47d5-8ce3-4de4f2bf9163\",\"type\":\"DataRange1d\"},\"x_scale\":{\"id\":\"4809239a-9a31-454d-964b-0b795a2db90c\",\"type\":\"LinearScale\"},\"y_range\":{\"id\":\"f74fffd3-a4f5-462b-9ae5-b2a2113c3ba3\",\"type\":\"DataRange1d\"},\"y_scale\":{\"id\":\"f38fd1be-3a20-429b-b0cd-dab70e0fa869\",\"type\":\"LinearScale\"}},\"id\":\"894d97b2-98c2-415c-9fa6-f75100ffe643\",\"subtype\":\"Figure\",\"type\":\"Plot\"},{\"attributes\":{},\"id\":\"6c4f9899-09d6-4d1e-95a0-17c7fb9f5b72\",\"type\":\"SaveTool\"},{\"attributes\":{\"axis_label\":\"Time\",\"formatter\":{\"id\":\"4354445f-3c15-402a-a52e-829222d2ce26\",\"type\":\"BasicTickFormatter\"},\"plot\":{\"id\":\"894d97b2-98c2-415c-9fa6-f75100ffe643\",\"subtype\":\"Figure\",\"type\":\"Plot\"},\"ticker\":{\"id\":\"167fc480-fd46-410e-ae3a-b7bd3a190934\",\"type\":\"BasicTicker\"}},\"id\":\"82ccd8e3-57b3-4bb9-a8c9-0e7ffb746aff\",\"type\":\"LinearAxis\"},{\"attributes\":{\"bottom_units\":\"screen\",\"fill_alpha\":{\"value\":0.5},\"fill_color\":{\"value\":\"lightgrey\"},\"left_units\":\"screen\",\"level\":\"overlay\",\"line_alpha\":{\"value\":1.0},\"line_color\":{\"value\":\"black\"},\"line_dash\":[4,4],\"line_width\":{\"value\":2},\"plot\":null,\"render_mode\":\"css\",\"right_units\":\"screen\",\"top_units\":\"screen\"},\"id\":\"7a309242-b073-445d-a140-17e83cd6649e\",\"type\":\"BoxAnnotation\"},{\"attributes\":{\"plot\":{\"id\":\"894d97b2-98c2-415c-9fa6-f75100ffe643\",\"subtype\":\"Figure\",\"type\":\"Plot\"},\"ticker\":{\"id\":\"167fc480-fd46-410e-ae3a-b7bd3a190934\",\"type\":\"BasicTicker\"}},\"id\":\"21021195-f0dc-47ac-9435-562c27ef894e\",\"type\":\"Grid\"},{\"attributes\":{},\"id\":\"3867742a-e948-4a5a-ab7f-22a4d3d0dbcb\",\"type\":\"PanTool\"},{\"attributes\":{\"axis_label\":\"LoginCount\",\"formatter\":{\"id\":\"434e6470-8e3c-4005-a3e3-ea7db6757798\",\"type\":\"BasicTickFormatter\"},\"plot\":{\"id\":\"894d97b2-98c2-415c-9fa6-f75100ffe643\",\"subtype\":\"Figure\",\"type\":\"Plot\"},\"ticker\":{\"id\":\"ffe03535-bcdc-4fff-b383-572bf11925a3\",\"type\":\"BasicTicker\"}},\"id\":\"f8aa2882-268f-40bc-b474-df7debbf66af\",\"type\":\"LinearAxis\"},{\"attributes\":{\"data_source\":{\"id\":\"d64e85d6-be2f-4b99-8581-d6e56804efba\",\"type\":\"ColumnDataSource\"},\"glyph\":{\"id\":\"0edbcd1e-2de5-4378-837a-f275861dae1b\",\"type\":\"VBar\"},\"hover_glyph\":null,\"muted_glyph\":null,\"nonselection_glyph\":{\"id\":\"53391985-e864-4ac6-a3e3-b999d0cdf2f4\",\"type\":\"VBar\"},\"selection_glyph\":null,\"view\":{\"id\":\"6a6a3d58-07f8-4e32-9fa0-84507a187191\",\"type\":\"CDSView\"}},\"id\":\"f57947d0-995e-4cf4-bbfe-d5c956f0d5ea\",\"type\":\"GlyphRenderer\"},{\"attributes\":{\"source\":{\"id\":\"d64e85d6-be2f-4b99-8581-d6e56804efba\",\"type\":\"ColumnDataSource\"}},\"id\":\"6a6a3d58-07f8-4e32-9fa0-84507a187191\",\"type\":\"CDSView\"},{\"attributes\":{},\"id\":\"ffe03535-bcdc-4fff-b383-572bf11925a3\",\"type\":\"BasicTicker\"},{\"attributes\":{},\"id\":\"b19c85a2-9a02-4d7f-85bc-239d90ba4e30\",\"type\":\"HelpTool\"},{\"attributes\":{},\"id\":\"ee68d573-fb75-45c1-bdd9-afa6a99bb4dc\",\"type\":\"ResetTool\"},{\"attributes\":{},\"id\":\"f38fd1be-3a20-429b-b0cd-dab70e0fa869\",\"type\":\"LinearScale\"},{\"attributes\":{\"fill_color\":{\"value\":\"#1f77b4\"},\"line_color\":{\"value\":\"#1f77b4\"},\"top\":{\"field\":\"count\"},\"width\":{\"value\":0.5},\"x\":{\"field\":\"hour\"}},\"id\":\"0edbcd1e-2de5-4378-837a-f275861dae1b\",\"type\":\"VBar\"},{\"attributes\":{},\"id\":\"434e6470-8e3c-4005-a3e3-ea7db6757798\",\"type\":\"BasicTickFormatter\"},{\"attributes\":{},\"id\":\"167fc480-fd46-410e-ae3a-b7bd3a190934\",\"type\":\"BasicTicker\"},{\"attributes\":{\"dimension\":1,\"plot\":{\"id\":\"894d97b2-98c2-415c-9fa6-f75100ffe643\",\"subtype\":\"Figure\",\"type\":\"Plot\"},\"ticker\":{\"id\":\"ffe03535-bcdc-4fff-b383-572bf11925a3\",\"type\":\"BasicTicker\"}},\"id\":\"12586048-6a8e-4425-ac48-2afb7f2b76f9\",\"type\":\"Grid\"},{\"attributes\":{},\"id\":\"7a2279cd-1c08-4b72-8482-a87b34dec530\",\"type\":\"WheelZoomTool\"},{\"attributes\":{},\"id\":\"4809239a-9a31-454d-964b-0b795a2db90c\",\"type\":\"LinearScale\"},{\"attributes\":{\"overlay\":{\"id\":\"7a309242-b073-445d-a140-17e83cd6649e\",\"type\":\"BoxAnnotation\"}},\"id\":\"d152a7e8-c62b-452a-b0fb-757d938499aa\",\"type\":\"BoxZoomTool\"},{\"attributes\":{\"plot\":null,\"text\":\"Hour vs. LoginCount\"},\"id\":\"bf0986bc-8a9f-422f-9973-d14e21370751\",\"type\":\"Title\"},{\"attributes\":{\"callback\":null,\"column_names\":[\"hour\",\"count\",\"index\"],\"data\":{\"count\":[5993,6317,5800,4831,5034,2945,1138,815,818,1527,3064,5799,4964,3611,3426,3038,2832,2584,2980,3235,4103,5623,6607,6058],\"hour\":[0,1,2,3,4,5,6,7,8,9,10,11,12,13,14,15,16,17,18,19,20,21,22,23],\"index\":[0,1,2,3,4,5,6,7,8,9,10,11,12,13,14,15,16,17,18,19,20,21,22,23]}},\"id\":\"d64e85d6-be2f-4b99-8581-d6e56804efba\",\"type\":\"ColumnDataSource\"},{\"attributes\":{\"fill_alpha\":{\"value\":0.1},\"fill_color\":{\"value\":\"#1f77b4\"},\"line_alpha\":{\"value\":0.1},\"line_color\":{\"value\":\"#1f77b4\"},\"top\":{\"field\":\"count\"},\"width\":{\"value\":0.5},\"x\":{\"field\":\"hour\"}},\"id\":\"53391985-e864-4ac6-a3e3-b999d0cdf2f4\",\"type\":\"VBar\"},{\"attributes\":{\"callback\":null},\"id\":\"cdc6a094-091b-47d5-8ce3-4de4f2bf9163\",\"type\":\"DataRange1d\"},{\"attributes\":{\"callback\":null},\"id\":\"f74fffd3-a4f5-462b-9ae5-b2a2113c3ba3\",\"type\":\"DataRange1d\"}],\"root_ids\":[\"894d97b2-98c2-415c-9fa6-f75100ffe643\"]},\"title\":\"Bokeh Application\",\"version\":\"0.12.14\"}};\n",
       "  var render_items = [{\"docid\":\"70362e68-6c3a-40cc-a065-e5c864bed073\",\"elementid\":\"13877cdd-3361-4729-8064-ee15b47bc126\",\"modelid\":\"894d97b2-98c2-415c-9fa6-f75100ffe643\"}];\n",
       "  root.Bokeh.embed.embed_items_notebook(docs_json, render_items);\n",
       "\n",
       "  }\n",
       "  if (root.Bokeh !== undefined) {\n",
       "    embed_document(root);\n",
       "  } else {\n",
       "    var attempts = 0;\n",
       "    var timer = setInterval(function(root) {\n",
       "      if (root.Bokeh !== undefined) {\n",
       "        embed_document(root);\n",
       "        clearInterval(timer);\n",
       "      }\n",
       "      attempts++;\n",
       "      if (attempts > 100) {\n",
       "        console.log(\"Bokeh: ERROR: Unable to run BokehJS code because BokehJS library is missing\")\n",
       "        clearInterval(timer);\n",
       "      }\n",
       "    }, 10, root)\n",
       "  }\n",
       "})(window);"
      ],
      "application/vnd.bokehjs_exec.v0+json": ""
     },
     "metadata": {
      "application/vnd.bokehjs_exec.v0+json": {
       "id": "894d97b2-98c2-415c-9fa6-f75100ffe643"
      }
     },
     "output_type": "display_data"
    }
   ],
   "source": [
    "hour_count = logins.groupby(['hour'])['login_time'].count()\n",
    "\n",
    "hour_count = hour_count.reset_index()\n",
    "hour_count.columns = ['hour', 'count']\n",
    "\n",
    "source = ColumnDataSource(hour_count)\n",
    "p = figure(title='Hour vs. LoginCount', x_axis_label='Time', y_axis_label='LoginCount',\n",
    "           width=800, height=400,)\n",
    "p.vbar(x='hour', top='count', width=0.5, source=source)\n",
    "show(p)"
   ]
  },
  {
   "cell_type": "markdown",
   "metadata": {},
   "source": [
    "Aggregate login counts based on day of week"
   ]
  },
  {
   "cell_type": "code",
   "execution_count": 65,
   "metadata": {},
   "outputs": [
    {
     "data": {
      "text/html": [
       "\n",
       "<div class=\"bk-root\">\n",
       "    <div class=\"bk-plotdiv\" id=\"d2b144ea-debd-420e-ae44-805a9ab4174a\"></div>\n",
       "</div>"
      ]
     },
     "metadata": {},
     "output_type": "display_data"
    },
    {
     "data": {
      "application/javascript": [
       "(function(root) {\n",
       "  function embed_document(root) {\n",
       "    \n",
       "  var docs_json = {\"1be104cd-893c-4418-896e-782230a6e670\":{\"roots\":{\"references\":[{\"attributes\":{\"bottom_units\":\"screen\",\"fill_alpha\":{\"value\":0.5},\"fill_color\":{\"value\":\"lightgrey\"},\"left_units\":\"screen\",\"level\":\"overlay\",\"line_alpha\":{\"value\":1.0},\"line_color\":{\"value\":\"black\"},\"line_dash\":[4,4],\"line_width\":{\"value\":2},\"plot\":null,\"render_mode\":\"css\",\"right_units\":\"screen\",\"top_units\":\"screen\"},\"id\":\"63efcfb1-8625-46cd-bd6e-72a806f86519\",\"type\":\"BoxAnnotation\"},{\"attributes\":{\"source\":{\"id\":\"b000a3a3-cc36-45e2-b8df-13e474bc7f87\",\"type\":\"ColumnDataSource\"}},\"id\":\"c099f7ec-2e29-4c16-ae47-7ddd24161312\",\"type\":\"CDSView\"},{\"attributes\":{\"below\":[{\"id\":\"40197328-af63-4edb-bcb0-1b53cd09edd1\",\"type\":\"LinearAxis\"}],\"left\":[{\"id\":\"5f6f3e84-a1f2-4cfc-8e73-cbb440f3f368\",\"type\":\"LinearAxis\"}],\"plot_height\":400,\"plot_width\":800,\"renderers\":[{\"id\":\"40197328-af63-4edb-bcb0-1b53cd09edd1\",\"type\":\"LinearAxis\"},{\"id\":\"66eb0909-7da6-44a7-8a2a-a1f92fabb13d\",\"type\":\"Grid\"},{\"id\":\"5f6f3e84-a1f2-4cfc-8e73-cbb440f3f368\",\"type\":\"LinearAxis\"},{\"id\":\"a5d2301c-f796-42e6-921a-e10ff32d6152\",\"type\":\"Grid\"},{\"id\":\"63efcfb1-8625-46cd-bd6e-72a806f86519\",\"type\":\"BoxAnnotation\"},{\"id\":\"210b166b-abb2-4ea3-bd04-ab0e3fdf0afd\",\"type\":\"GlyphRenderer\"}],\"title\":{\"id\":\"171b6e2c-350c-429b-8cc3-d7d89e23f636\",\"type\":\"Title\"},\"toolbar\":{\"id\":\"fed1fa3e-357e-4327-a44a-51c9841a57ba\",\"type\":\"Toolbar\"},\"x_range\":{\"id\":\"39fd5e38-4b71-49d9-96f7-e33984dd3e4f\",\"type\":\"DataRange1d\"},\"x_scale\":{\"id\":\"8f464c7c-4f7e-4a11-a32f-c20ed2666dd1\",\"type\":\"LinearScale\"},\"y_range\":{\"id\":\"3925cae7-6b76-4507-b8d0-2ff384c642bf\",\"type\":\"DataRange1d\"},\"y_scale\":{\"id\":\"8e85f9d7-8f34-4ad5-8088-33c965cc5b04\",\"type\":\"LinearScale\"}},\"id\":\"ee353948-3644-4ee5-bdb6-748a34bff510\",\"subtype\":\"Figure\",\"type\":\"Plot\"},{\"attributes\":{},\"id\":\"b238adf9-a18b-4f94-a587-9643ab4da47e\",\"type\":\"BasicTickFormatter\"},{\"attributes\":{\"data_source\":{\"id\":\"b000a3a3-cc36-45e2-b8df-13e474bc7f87\",\"type\":\"ColumnDataSource\"},\"glyph\":{\"id\":\"44ef41d4-7a14-46b4-a5e5-e5b26f769e6a\",\"type\":\"VBar\"},\"hover_glyph\":null,\"muted_glyph\":null,\"nonselection_glyph\":{\"id\":\"72763716-b883-40aa-8aba-8c7644b33f44\",\"type\":\"VBar\"},\"selection_glyph\":null,\"view\":{\"id\":\"c099f7ec-2e29-4c16-ae47-7ddd24161312\",\"type\":\"CDSView\"}},\"id\":\"210b166b-abb2-4ea3-bd04-ab0e3fdf0afd\",\"type\":\"GlyphRenderer\"},{\"attributes\":{},\"id\":\"31493f8f-dd2b-4d4c-9df6-1df4f5f2f451\",\"type\":\"WheelZoomTool\"},{\"attributes\":{},\"id\":\"6e377cb7-8958-47ed-970a-5e219b20ddcf\",\"type\":\"SaveTool\"},{\"attributes\":{},\"id\":\"bd2a195c-ede3-42f3-ae86-77165df393c1\",\"type\":\"PanTool\"},{\"attributes\":{\"axis_label\":\"Weekday\",\"formatter\":{\"id\":\"e2180144-2922-49b9-83b6-52965aa8d836\",\"type\":\"BasicTickFormatter\"},\"plot\":{\"id\":\"ee353948-3644-4ee5-bdb6-748a34bff510\",\"subtype\":\"Figure\",\"type\":\"Plot\"},\"ticker\":{\"id\":\"7a5dabb1-08f9-4718-bc0f-cc09bf75dcd0\",\"type\":\"BasicTicker\"}},\"id\":\"40197328-af63-4edb-bcb0-1b53cd09edd1\",\"type\":\"LinearAxis\"},{\"attributes\":{\"overlay\":{\"id\":\"63efcfb1-8625-46cd-bd6e-72a806f86519\",\"type\":\"BoxAnnotation\"}},\"id\":\"154ee563-e611-4cf5-ad23-c556c0f81244\",\"type\":\"BoxZoomTool\"},{\"attributes\":{\"active_drag\":\"auto\",\"active_inspect\":\"auto\",\"active_scroll\":\"auto\",\"active_tap\":\"auto\",\"tools\":[{\"id\":\"bd2a195c-ede3-42f3-ae86-77165df393c1\",\"type\":\"PanTool\"},{\"id\":\"31493f8f-dd2b-4d4c-9df6-1df4f5f2f451\",\"type\":\"WheelZoomTool\"},{\"id\":\"154ee563-e611-4cf5-ad23-c556c0f81244\",\"type\":\"BoxZoomTool\"},{\"id\":\"6e377cb7-8958-47ed-970a-5e219b20ddcf\",\"type\":\"SaveTool\"},{\"id\":\"7d54993c-3d51-499e-bf09-b89e23df61f1\",\"type\":\"ResetTool\"},{\"id\":\"4b3a71c8-5f95-4dbe-898c-5a5594c18bf6\",\"type\":\"HelpTool\"}]},\"id\":\"fed1fa3e-357e-4327-a44a-51c9841a57ba\",\"type\":\"Toolbar\"},{\"attributes\":{\"dimension\":1,\"plot\":{\"id\":\"ee353948-3644-4ee5-bdb6-748a34bff510\",\"subtype\":\"Figure\",\"type\":\"Plot\"},\"ticker\":{\"id\":\"fca0fdd2-029e-4a20-83e9-c23ac743dd6d\",\"type\":\"BasicTicker\"}},\"id\":\"a5d2301c-f796-42e6-921a-e10ff32d6152\",\"type\":\"Grid\"},{\"attributes\":{},\"id\":\"fca0fdd2-029e-4a20-83e9-c23ac743dd6d\",\"type\":\"BasicTicker\"},{\"attributes\":{\"callback\":null},\"id\":\"39fd5e38-4b71-49d9-96f7-e33984dd3e4f\",\"type\":\"DataRange1d\"},{\"attributes\":{},\"id\":\"7d54993c-3d51-499e-bf09-b89e23df61f1\",\"type\":\"ResetTool\"},{\"attributes\":{},\"id\":\"7a5dabb1-08f9-4718-bc0f-cc09bf75dcd0\",\"type\":\"BasicTicker\"},{\"attributes\":{\"axis_label\":\"LoginCount\",\"formatter\":{\"id\":\"b238adf9-a18b-4f94-a587-9643ab4da47e\",\"type\":\"BasicTickFormatter\"},\"plot\":{\"id\":\"ee353948-3644-4ee5-bdb6-748a34bff510\",\"subtype\":\"Figure\",\"type\":\"Plot\"},\"ticker\":{\"id\":\"fca0fdd2-029e-4a20-83e9-c23ac743dd6d\",\"type\":\"BasicTicker\"}},\"id\":\"5f6f3e84-a1f2-4cfc-8e73-cbb440f3f368\",\"type\":\"LinearAxis\"},{\"attributes\":{\"fill_alpha\":{\"value\":0.1},\"fill_color\":{\"value\":\"#1f77b4\"},\"line_alpha\":{\"value\":0.1},\"line_color\":{\"value\":\"#1f77b4\"},\"top\":{\"field\":\"count\"},\"width\":{\"value\":0.4},\"x\":{\"field\":\"weekday\"}},\"id\":\"72763716-b883-40aa-8aba-8c7644b33f44\",\"type\":\"VBar\"},{\"attributes\":{\"fill_color\":{\"value\":\"#1f77b4\"},\"line_color\":{\"value\":\"#1f77b4\"},\"top\":{\"field\":\"count\"},\"width\":{\"value\":0.4},\"x\":{\"field\":\"weekday\"}},\"id\":\"44ef41d4-7a14-46b4-a5e5-e5b26f769e6a\",\"type\":\"VBar\"},{\"attributes\":{},\"id\":\"8f464c7c-4f7e-4a11-a32f-c20ed2666dd1\",\"type\":\"LinearScale\"},{\"attributes\":{\"callback\":null},\"id\":\"3925cae7-6b76-4507-b8d0-2ff384c642bf\",\"type\":\"DataRange1d\"},{\"attributes\":{},\"id\":\"8e85f9d7-8f34-4ad5-8088-33c965cc5b04\",\"type\":\"LinearScale\"},{\"attributes\":{},\"id\":\"e2180144-2922-49b9-83b6-52965aa8d836\",\"type\":\"BasicTickFormatter\"},{\"attributes\":{\"plot\":{\"id\":\"ee353948-3644-4ee5-bdb6-748a34bff510\",\"subtype\":\"Figure\",\"type\":\"Plot\"},\"ticker\":{\"id\":\"7a5dabb1-08f9-4718-bc0f-cc09bf75dcd0\",\"type\":\"BasicTicker\"}},\"id\":\"66eb0909-7da6-44a7-8a2a-a1f92fabb13d\",\"type\":\"Grid\"},{\"attributes\":{\"plot\":null,\"text\":\"Weekday vs. LoginCount\"},\"id\":\"171b6e2c-350c-429b-8cc3-d7d89e23f636\",\"type\":\"Title\"},{\"attributes\":{},\"id\":\"4b3a71c8-5f95-4dbe-898c-5a5594c18bf6\",\"type\":\"HelpTool\"},{\"attributes\":{\"callback\":null,\"column_names\":[\"weekday\",\"count\",\"index\"],\"data\":{\"count\":[8823,9268,10339,11960,15208,19377,18167],\"index\":[0,1,2,3,4,5,6],\"weekday\":[0,1,2,3,4,5,6]}},\"id\":\"b000a3a3-cc36-45e2-b8df-13e474bc7f87\",\"type\":\"ColumnDataSource\"}],\"root_ids\":[\"ee353948-3644-4ee5-bdb6-748a34bff510\"]},\"title\":\"Bokeh Application\",\"version\":\"0.12.14\"}};\n",
       "  var render_items = [{\"docid\":\"1be104cd-893c-4418-896e-782230a6e670\",\"elementid\":\"d2b144ea-debd-420e-ae44-805a9ab4174a\",\"modelid\":\"ee353948-3644-4ee5-bdb6-748a34bff510\"}];\n",
       "  root.Bokeh.embed.embed_items_notebook(docs_json, render_items);\n",
       "\n",
       "  }\n",
       "  if (root.Bokeh !== undefined) {\n",
       "    embed_document(root);\n",
       "  } else {\n",
       "    var attempts = 0;\n",
       "    var timer = setInterval(function(root) {\n",
       "      if (root.Bokeh !== undefined) {\n",
       "        embed_document(root);\n",
       "        clearInterval(timer);\n",
       "      }\n",
       "      attempts++;\n",
       "      if (attempts > 100) {\n",
       "        console.log(\"Bokeh: ERROR: Unable to run BokehJS code because BokehJS library is missing\")\n",
       "        clearInterval(timer);\n",
       "      }\n",
       "    }, 10, root)\n",
       "  }\n",
       "})(window);"
      ],
      "application/vnd.bokehjs_exec.v0+json": ""
     },
     "metadata": {
      "application/vnd.bokehjs_exec.v0+json": {
       "id": "ee353948-3644-4ee5-bdb6-748a34bff510"
      }
     },
     "output_type": "display_data"
    }
   ],
   "source": [
    "weekday_count = logins.groupby(['weekday'])['login_time'].count()\n",
    "\n",
    "weekday_count = weekday_count.reset_index()\n",
    "weekday_count.columns = ['weekday', 'count']\n",
    "\n",
    "source = ColumnDataSource(weekday_count)\n",
    "p = figure(title='Weekday vs. LoginCount', x_axis_label='Weekday', y_axis_label='LoginCount',\n",
    "           width=800, height=400,)\n",
    "p.vbar(x='weekday', top='count', width=0.4, source=source)\n",
    "show(p)"
   ]
  },
  {
   "cell_type": "code",
   "execution_count": 66,
   "metadata": {},
   "outputs": [
    {
     "data": {
      "text/html": [
       "\n",
       "<div class=\"bk-root\">\n",
       "    <div class=\"bk-plotdiv\" id=\"5dc67044-14e0-469f-8506-dced4d7de342\"></div>\n",
       "</div>"
      ]
     },
     "metadata": {},
     "output_type": "display_data"
    },
    {
     "data": {
      "application/javascript": [
       "(function(root) {\n",
       "  function embed_document(root) {\n",
       "    \n",
       "  var docs_json = {\"8f378027-b984-40cf-95e2-3a758272d7ab\":{\"roots\":{\"references\":[{\"attributes\":{\"overlay\":{\"id\":\"bd961a1f-abe6-4d7e-bdb4-b213cb2d8187\",\"type\":\"BoxAnnotation\"}},\"id\":\"0d47516d-2913-4c2f-9347-a13102abcef0\",\"type\":\"BoxZoomTool\"},{\"attributes\":{},\"id\":\"b4b6be57-5ed1-4968-b283-b435edd04da1\",\"type\":\"WheelZoomTool\"},{\"attributes\":{\"callback\":null},\"id\":\"b667fcdd-32e0-40ed-a689-cb61801f1231\",\"type\":\"DataRange1d\"},{\"attributes\":{},\"id\":\"d57972a9-b6ee-4f95-b8af-087252f2512b\",\"type\":\"SaveTool\"},{\"attributes\":{\"active_drag\":\"auto\",\"active_inspect\":\"auto\",\"active_scroll\":\"auto\",\"active_tap\":\"auto\",\"tools\":[{\"id\":\"26912322-3621-476e-9599-dc68c9c7d3bc\",\"type\":\"PanTool\"},{\"id\":\"b4b6be57-5ed1-4968-b283-b435edd04da1\",\"type\":\"WheelZoomTool\"},{\"id\":\"0d47516d-2913-4c2f-9347-a13102abcef0\",\"type\":\"BoxZoomTool\"},{\"id\":\"d57972a9-b6ee-4f95-b8af-087252f2512b\",\"type\":\"SaveTool\"},{\"id\":\"184cacac-b69e-4b79-8f0c-ed63f800a9fa\",\"type\":\"ResetTool\"},{\"id\":\"a3439f6e-e81e-452c-bcdd-97272f87a179\",\"type\":\"HelpTool\"}]},\"id\":\"9c95f81d-52ee-4ab1-a8eb-8debbfc45ea4\",\"type\":\"Toolbar\"},{\"attributes\":{},\"id\":\"2956bef8-5417-4c13-a26e-c7072ca11fa6\",\"type\":\"BasicTickFormatter\"},{\"attributes\":{\"data_source\":{\"id\":\"134a038c-9c56-4378-b9bd-5035bf3cede2\",\"type\":\"ColumnDataSource\"},\"glyph\":{\"id\":\"bca9cf8f-022b-4eec-ab7b-6d3a24e386c5\",\"type\":\"VBar\"},\"hover_glyph\":null,\"muted_glyph\":null,\"nonselection_glyph\":{\"id\":\"daa4eb90-cc49-4b27-adc6-054e63cb5c0e\",\"type\":\"VBar\"},\"selection_glyph\":null,\"view\":{\"id\":\"1ad24004-6539-4eff-9974-a606399b99db\",\"type\":\"CDSView\"}},\"id\":\"8f910452-d75e-45f3-b0f5-08bca3ce0f9a\",\"type\":\"GlyphRenderer\"},{\"attributes\":{\"source\":{\"id\":\"134a038c-9c56-4378-b9bd-5035bf3cede2\",\"type\":\"ColumnDataSource\"}},\"id\":\"1ad24004-6539-4eff-9974-a606399b99db\",\"type\":\"CDSView\"},{\"attributes\":{\"fill_alpha\":{\"value\":0.1},\"fill_color\":{\"value\":\"#1f77b4\"},\"line_alpha\":{\"value\":0.1},\"line_color\":{\"value\":\"#1f77b4\"},\"top\":{\"field\":\"count\"},\"width\":{\"value\":0.5},\"x\":{\"field\":\"day\"}},\"id\":\"daa4eb90-cc49-4b27-adc6-054e63cb5c0e\",\"type\":\"VBar\"},{\"attributes\":{\"callback\":null},\"id\":\"b1471110-3a83-4ccd-8fb0-00aa1a5f4d3d\",\"type\":\"DataRange1d\"},{\"attributes\":{\"plot\":{\"id\":\"fcff71e8-de6c-4541-b7fa-6385ac9530fe\",\"subtype\":\"Figure\",\"type\":\"Plot\"},\"ticker\":{\"id\":\"392d6a4a-1a03-4009-9dc1-f3a8e2df15f6\",\"type\":\"BasicTicker\"}},\"id\":\"7d9f7647-d235-4115-8409-1f8fb37712fe\",\"type\":\"Grid\"},{\"attributes\":{},\"id\":\"392d6a4a-1a03-4009-9dc1-f3a8e2df15f6\",\"type\":\"BasicTicker\"},{\"attributes\":{},\"id\":\"ae4b5122-3a18-4977-b42d-a7aea3447df9\",\"type\":\"BasicTicker\"},{\"attributes\":{\"plot\":null,\"text\":\"day vs. LoginCount\"},\"id\":\"8c463e51-cce7-4ff6-a852-b91b381eead4\",\"type\":\"Title\"},{\"attributes\":{},\"id\":\"e8e1c92f-cfe6-4680-91fd-32ab5f8c42ae\",\"type\":\"BasicTickFormatter\"},{\"attributes\":{\"dimension\":1,\"plot\":{\"id\":\"fcff71e8-de6c-4541-b7fa-6385ac9530fe\",\"subtype\":\"Figure\",\"type\":\"Plot\"},\"ticker\":{\"id\":\"ae4b5122-3a18-4977-b42d-a7aea3447df9\",\"type\":\"BasicTicker\"}},\"id\":\"4890bd9c-0003-484d-8fe0-778a17b3da6c\",\"type\":\"Grid\"},{\"attributes\":{\"callback\":null,\"column_names\":[\"day\",\"count\",\"index\"],\"data\":{\"count\":[3194,3044,3475,4037,3223,3281,4006,4019,2832,3297,3863,3614,3021,3426,3331,2215,3044,2945,2859,2885,3487,3507,2233,2318,2348,2176,2735,3540,2197,1415,1575],\"day\":[1,2,3,4,5,6,7,8,9,10,11,12,13,14,15,16,17,18,19,20,21,22,23,24,25,26,27,28,29,30,31],\"index\":[0,1,2,3,4,5,6,7,8,9,10,11,12,13,14,15,16,17,18,19,20,21,22,23,24,25,26,27,28,29,30]}},\"id\":\"134a038c-9c56-4378-b9bd-5035bf3cede2\",\"type\":\"ColumnDataSource\"},{\"attributes\":{\"bottom_units\":\"screen\",\"fill_alpha\":{\"value\":0.5},\"fill_color\":{\"value\":\"lightgrey\"},\"left_units\":\"screen\",\"level\":\"overlay\",\"line_alpha\":{\"value\":1.0},\"line_color\":{\"value\":\"black\"},\"line_dash\":[4,4],\"line_width\":{\"value\":2},\"plot\":null,\"render_mode\":\"css\",\"right_units\":\"screen\",\"top_units\":\"screen\"},\"id\":\"bd961a1f-abe6-4d7e-bdb4-b213cb2d8187\",\"type\":\"BoxAnnotation\"},{\"attributes\":{\"below\":[{\"id\":\"1cbf8a35-9886-4455-9cc5-4d1c8702a7e7\",\"type\":\"LinearAxis\"}],\"left\":[{\"id\":\"91f45d5e-9111-4b17-a9e0-6b2ede0e6971\",\"type\":\"LinearAxis\"}],\"plot_height\":400,\"plot_width\":800,\"renderers\":[{\"id\":\"1cbf8a35-9886-4455-9cc5-4d1c8702a7e7\",\"type\":\"LinearAxis\"},{\"id\":\"7d9f7647-d235-4115-8409-1f8fb37712fe\",\"type\":\"Grid\"},{\"id\":\"91f45d5e-9111-4b17-a9e0-6b2ede0e6971\",\"type\":\"LinearAxis\"},{\"id\":\"4890bd9c-0003-484d-8fe0-778a17b3da6c\",\"type\":\"Grid\"},{\"id\":\"bd961a1f-abe6-4d7e-bdb4-b213cb2d8187\",\"type\":\"BoxAnnotation\"},{\"id\":\"8f910452-d75e-45f3-b0f5-08bca3ce0f9a\",\"type\":\"GlyphRenderer\"}],\"title\":{\"id\":\"8c463e51-cce7-4ff6-a852-b91b381eead4\",\"type\":\"Title\"},\"toolbar\":{\"id\":\"9c95f81d-52ee-4ab1-a8eb-8debbfc45ea4\",\"type\":\"Toolbar\"},\"x_range\":{\"id\":\"b1471110-3a83-4ccd-8fb0-00aa1a5f4d3d\",\"type\":\"DataRange1d\"},\"x_scale\":{\"id\":\"cf79cca5-3528-44a4-af99-5975a4edc790\",\"type\":\"LinearScale\"},\"y_range\":{\"id\":\"b667fcdd-32e0-40ed-a689-cb61801f1231\",\"type\":\"DataRange1d\"},\"y_scale\":{\"id\":\"fe413eac-af86-4d78-822b-7e1fcad1868b\",\"type\":\"LinearScale\"}},\"id\":\"fcff71e8-de6c-4541-b7fa-6385ac9530fe\",\"subtype\":\"Figure\",\"type\":\"Plot\"},{\"attributes\":{},\"id\":\"184cacac-b69e-4b79-8f0c-ed63f800a9fa\",\"type\":\"ResetTool\"},{\"attributes\":{},\"id\":\"fe413eac-af86-4d78-822b-7e1fcad1868b\",\"type\":\"LinearScale\"},{\"attributes\":{\"fill_color\":{\"value\":\"#1f77b4\"},\"line_color\":{\"value\":\"#1f77b4\"},\"top\":{\"field\":\"count\"},\"width\":{\"value\":0.5},\"x\":{\"field\":\"day\"}},\"id\":\"bca9cf8f-022b-4eec-ab7b-6d3a24e386c5\",\"type\":\"VBar\"},{\"attributes\":{},\"id\":\"cf79cca5-3528-44a4-af99-5975a4edc790\",\"type\":\"LinearScale\"},{\"attributes\":{\"axis_label\":\"Day\",\"formatter\":{\"id\":\"e8e1c92f-cfe6-4680-91fd-32ab5f8c42ae\",\"type\":\"BasicTickFormatter\"},\"plot\":{\"id\":\"fcff71e8-de6c-4541-b7fa-6385ac9530fe\",\"subtype\":\"Figure\",\"type\":\"Plot\"},\"ticker\":{\"id\":\"392d6a4a-1a03-4009-9dc1-f3a8e2df15f6\",\"type\":\"BasicTicker\"}},\"id\":\"1cbf8a35-9886-4455-9cc5-4d1c8702a7e7\",\"type\":\"LinearAxis\"},{\"attributes\":{\"axis_label\":\"LoginCount\",\"formatter\":{\"id\":\"2956bef8-5417-4c13-a26e-c7072ca11fa6\",\"type\":\"BasicTickFormatter\"},\"plot\":{\"id\":\"fcff71e8-de6c-4541-b7fa-6385ac9530fe\",\"subtype\":\"Figure\",\"type\":\"Plot\"},\"ticker\":{\"id\":\"ae4b5122-3a18-4977-b42d-a7aea3447df9\",\"type\":\"BasicTicker\"}},\"id\":\"91f45d5e-9111-4b17-a9e0-6b2ede0e6971\",\"type\":\"LinearAxis\"},{\"attributes\":{},\"id\":\"a3439f6e-e81e-452c-bcdd-97272f87a179\",\"type\":\"HelpTool\"},{\"attributes\":{},\"id\":\"26912322-3621-476e-9599-dc68c9c7d3bc\",\"type\":\"PanTool\"}],\"root_ids\":[\"fcff71e8-de6c-4541-b7fa-6385ac9530fe\"]},\"title\":\"Bokeh Application\",\"version\":\"0.12.14\"}};\n",
       "  var render_items = [{\"docid\":\"8f378027-b984-40cf-95e2-3a758272d7ab\",\"elementid\":\"5dc67044-14e0-469f-8506-dced4d7de342\",\"modelid\":\"fcff71e8-de6c-4541-b7fa-6385ac9530fe\"}];\n",
       "  root.Bokeh.embed.embed_items_notebook(docs_json, render_items);\n",
       "\n",
       "  }\n",
       "  if (root.Bokeh !== undefined) {\n",
       "    embed_document(root);\n",
       "  } else {\n",
       "    var attempts = 0;\n",
       "    var timer = setInterval(function(root) {\n",
       "      if (root.Bokeh !== undefined) {\n",
       "        embed_document(root);\n",
       "        clearInterval(timer);\n",
       "      }\n",
       "      attempts++;\n",
       "      if (attempts > 100) {\n",
       "        console.log(\"Bokeh: ERROR: Unable to run BokehJS code because BokehJS library is missing\")\n",
       "        clearInterval(timer);\n",
       "      }\n",
       "    }, 10, root)\n",
       "  }\n",
       "})(window);"
      ],
      "application/vnd.bokehjs_exec.v0+json": ""
     },
     "metadata": {
      "application/vnd.bokehjs_exec.v0+json": {
       "id": "fcff71e8-de6c-4541-b7fa-6385ac9530fe"
      }
     },
     "output_type": "display_data"
    }
   ],
   "source": [
    "monthday_count = logins.groupby(['day'])['login_time'].count()\n",
    "\n",
    "monthday_count = monthday_count.reset_index()\n",
    "monthday_count.columns = ['day', 'count']\n",
    "\n",
    "source = ColumnDataSource(monthday_count)\n",
    "p = figure(title='day vs. LoginCount', x_axis_label='Day', y_axis_label='LoginCount',\n",
    "           width=800, height=400,)\n",
    "p.vbar(x='day', top='count', width=0.5, source=source)\n",
    "show(p)"
   ]
  },
  {
   "cell_type": "markdown",
   "metadata": {},
   "source": [
    "## Part 2 ‐ Experiment and metrics design"
   ]
  },
  {
   "cell_type": "markdown",
   "metadata": {},
   "source": [
    "Question 1:\n",
    "\n",
    "What would you choose as the key measure of success of this experiment in encouraging driver partners to serve both cities, and why would you choose this metric?\n",
    "\n",
    "  The key measure we can use in this case is: average number of times drivers drive to the other city everyday during a 30 days period.\n",
    "\n",
    "  This metric is good for demostrating the change before and after the experiment implemented, thus, it can be a key measure to value whether this experiment is success or not. "
   ]
  },
  {
   "cell_type": "markdown",
   "metadata": {},
   "source": [
    "Question 2:\n",
    "\n",
    "Describe a practical experiment you would design to compare the effectiveness of the proposed change in relation to the key measure of success. Please provide details on:\n",
    "\n",
    " a. how you will implement the experiment\n",
    " \n",
    " \n",
    " \n",
    " b. what statistical test(s) you will conduct to verify the significance of the\n",
    " observation\n",
    "\n",
    " c. how you would interpret the results and provide recommendations to the city\n",
    " operations team along with any caveats."
   ]
  },
  {
   "cell_type": "markdown",
   "metadata": {},
   "source": [
    "Assume we have one month (30 days) to test the idea. 30 days before the experiment, we need to collect data on how many times cars drive through the bridge everyday and same data during the experiment. After 60 days, we can use the two-sample t-test to determine whether the difference between means found in the sample is significantly different from the hypothesized difference between means. If the sample findings are unlikely, given the null hypothesis, rejects the null hypothesis. Typically, this involves comparing the P-value to the significance level, and rejecting the null hypothesis when the P-value is less than the significance level."
   ]
  },
  {
   "cell_type": "markdown",
   "metadata": {},
   "source": [
    "## Part 3 ‐ Predictive modeling"
   ]
  },
  {
   "cell_type": "markdown",
   "metadata": {},
   "source": [
    "Question 1:"
   ]
  },
  {
   "cell_type": "code",
   "execution_count": 67,
   "metadata": {},
   "outputs": [],
   "source": [
    "with open('ultimate_data_challenge.json') as f:\n",
    "   data = json.load(f)\n",
    "df = pd.DataFrame(data)\n",
    "\n",
    "df['active_in_first_30_days']= np.where(df['trips_in_first_30_days'] > 0, 1, 0)\n",
    "retained = df.loc[df['active_in_first_30_days'] > 0]\n",
    "not_retained = df.loc[df['active_in_first_30_days'] == 0]"
   ]
  },
  {
   "cell_type": "code",
   "execution_count": 68,
   "metadata": {},
   "outputs": [
    {
     "data": {
      "text/html": [
       "<div>\n",
       "<style>\n",
       "    .dataframe thead tr:only-child th {\n",
       "        text-align: right;\n",
       "    }\n",
       "\n",
       "    .dataframe thead th {\n",
       "        text-align: left;\n",
       "    }\n",
       "\n",
       "    .dataframe tbody tr th {\n",
       "        vertical-align: top;\n",
       "    }\n",
       "</style>\n",
       "<table border=\"1\" class=\"dataframe\">\n",
       "  <thead>\n",
       "    <tr style=\"text-align: right;\">\n",
       "      <th></th>\n",
       "      <th>avg_dist</th>\n",
       "      <th>avg_rating_by_driver</th>\n",
       "      <th>avg_rating_of_driver</th>\n",
       "      <th>avg_surge</th>\n",
       "      <th>surge_pct</th>\n",
       "      <th>trips_in_first_30_days</th>\n",
       "      <th>weekday_pct</th>\n",
       "      <th>active_in_first_30_days</th>\n",
       "    </tr>\n",
       "  </thead>\n",
       "  <tbody>\n",
       "    <tr>\n",
       "      <th>count</th>\n",
       "      <td>34610.000000</td>\n",
       "      <td>34503.000000</td>\n",
       "      <td>30237.000000</td>\n",
       "      <td>34610.000000</td>\n",
       "      <td>34610.000000</td>\n",
       "      <td>34610.000000</td>\n",
       "      <td>34610.000000</td>\n",
       "      <td>34610.0</td>\n",
       "    </tr>\n",
       "    <tr>\n",
       "      <th>mean</th>\n",
       "      <td>5.529568</td>\n",
       "      <td>4.772376</td>\n",
       "      <td>4.589562</td>\n",
       "      <td>1.076295</td>\n",
       "      <td>8.999191</td>\n",
       "      <td>3.291245</td>\n",
       "      <td>60.760104</td>\n",
       "      <td>1.0</td>\n",
       "    </tr>\n",
       "    <tr>\n",
       "      <th>std</th>\n",
       "      <td>5.280161</td>\n",
       "      <td>0.420742</td>\n",
       "      <td>0.601646</td>\n",
       "      <td>0.214742</td>\n",
       "      <td>18.979042</td>\n",
       "      <td>4.176923</td>\n",
       "      <td>35.035881</td>\n",
       "      <td>0.0</td>\n",
       "    </tr>\n",
       "    <tr>\n",
       "      <th>min</th>\n",
       "      <td>0.000000</td>\n",
       "      <td>1.000000</td>\n",
       "      <td>1.000000</td>\n",
       "      <td>1.000000</td>\n",
       "      <td>0.000000</td>\n",
       "      <td>1.000000</td>\n",
       "      <td>0.000000</td>\n",
       "      <td>1.0</td>\n",
       "    </tr>\n",
       "    <tr>\n",
       "      <th>25%</th>\n",
       "      <td>2.450000</td>\n",
       "      <td>4.700000</td>\n",
       "      <td>4.300000</td>\n",
       "      <td>1.000000</td>\n",
       "      <td>0.000000</td>\n",
       "      <td>1.000000</td>\n",
       "      <td>37.500000</td>\n",
       "      <td>1.0</td>\n",
       "    </tr>\n",
       "    <tr>\n",
       "      <th>50%</th>\n",
       "      <td>3.800000</td>\n",
       "      <td>5.000000</td>\n",
       "      <td>4.900000</td>\n",
       "      <td>1.000000</td>\n",
       "      <td>0.000000</td>\n",
       "      <td>2.000000</td>\n",
       "      <td>66.700000</td>\n",
       "      <td>1.0</td>\n",
       "    </tr>\n",
       "    <tr>\n",
       "      <th>75%</th>\n",
       "      <td>6.520000</td>\n",
       "      <td>5.000000</td>\n",
       "      <td>5.000000</td>\n",
       "      <td>1.070000</td>\n",
       "      <td>10.800000</td>\n",
       "      <td>4.000000</td>\n",
       "      <td>100.000000</td>\n",
       "      <td>1.0</td>\n",
       "    </tr>\n",
       "    <tr>\n",
       "      <th>max</th>\n",
       "      <td>79.690000</td>\n",
       "      <td>5.000000</td>\n",
       "      <td>5.000000</td>\n",
       "      <td>8.000000</td>\n",
       "      <td>100.000000</td>\n",
       "      <td>125.000000</td>\n",
       "      <td>100.000000</td>\n",
       "      <td>1.0</td>\n",
       "    </tr>\n",
       "  </tbody>\n",
       "</table>\n",
       "</div>"
      ],
      "text/plain": [
       "           avg_dist  avg_rating_by_driver  avg_rating_of_driver     avg_surge  \\\n",
       "count  34610.000000          34503.000000          30237.000000  34610.000000   \n",
       "mean       5.529568              4.772376              4.589562      1.076295   \n",
       "std        5.280161              0.420742              0.601646      0.214742   \n",
       "min        0.000000              1.000000              1.000000      1.000000   \n",
       "25%        2.450000              4.700000              4.300000      1.000000   \n",
       "50%        3.800000              5.000000              4.900000      1.000000   \n",
       "75%        6.520000              5.000000              5.000000      1.070000   \n",
       "max       79.690000              5.000000              5.000000      8.000000   \n",
       "\n",
       "          surge_pct  trips_in_first_30_days   weekday_pct  \\\n",
       "count  34610.000000            34610.000000  34610.000000   \n",
       "mean       8.999191                3.291245     60.760104   \n",
       "std       18.979042                4.176923     35.035881   \n",
       "min        0.000000                1.000000      0.000000   \n",
       "25%        0.000000                1.000000     37.500000   \n",
       "50%        0.000000                2.000000     66.700000   \n",
       "75%       10.800000                4.000000    100.000000   \n",
       "max      100.000000              125.000000    100.000000   \n",
       "\n",
       "       active_in_first_30_days  \n",
       "count                  34610.0  \n",
       "mean                       1.0  \n",
       "std                        0.0  \n",
       "min                        1.0  \n",
       "25%                        1.0  \n",
       "50%                        1.0  \n",
       "75%                        1.0  \n",
       "max                        1.0  "
      ]
     },
     "execution_count": 68,
     "metadata": {},
     "output_type": "execute_result"
    }
   ],
   "source": [
    "retained.describe()"
   ]
  },
  {
   "cell_type": "code",
   "execution_count": 69,
   "metadata": {},
   "outputs": [
    {
     "data": {
      "text/html": [
       "<div>\n",
       "<style>\n",
       "    .dataframe thead tr:only-child th {\n",
       "        text-align: right;\n",
       "    }\n",
       "\n",
       "    .dataframe thead th {\n",
       "        text-align: left;\n",
       "    }\n",
       "\n",
       "    .dataframe tbody tr th {\n",
       "        vertical-align: top;\n",
       "    }\n",
       "</style>\n",
       "<table border=\"1\" class=\"dataframe\">\n",
       "  <thead>\n",
       "    <tr style=\"text-align: right;\">\n",
       "      <th></th>\n",
       "      <th>avg_dist</th>\n",
       "      <th>avg_rating_by_driver</th>\n",
       "      <th>avg_rating_of_driver</th>\n",
       "      <th>avg_surge</th>\n",
       "      <th>surge_pct</th>\n",
       "      <th>trips_in_first_30_days</th>\n",
       "      <th>weekday_pct</th>\n",
       "      <th>active_in_first_30_days</th>\n",
       "    </tr>\n",
       "  </thead>\n",
       "  <tbody>\n",
       "    <tr>\n",
       "      <th>count</th>\n",
       "      <td>15390.000000</td>\n",
       "      <td>15296.000000</td>\n",
       "      <td>11641.000000</td>\n",
       "      <td>15390.000000</td>\n",
       "      <td>15390.000000</td>\n",
       "      <td>15390.0</td>\n",
       "      <td>15390.000000</td>\n",
       "      <td>15390.0</td>\n",
       "    </tr>\n",
       "    <tr>\n",
       "      <th>mean</th>\n",
       "      <td>6.397854</td>\n",
       "      <td>4.791200</td>\n",
       "      <td>4.632721</td>\n",
       "      <td>1.071320</td>\n",
       "      <td>8.512982</td>\n",
       "      <td>0.0</td>\n",
       "      <td>61.299350</td>\n",
       "      <td>0.0</td>\n",
       "    </tr>\n",
       "    <tr>\n",
       "      <th>std</th>\n",
       "      <td>6.527654</td>\n",
       "      <td>0.499961</td>\n",
       "      <td>0.655351</td>\n",
       "      <td>0.238503</td>\n",
       "      <td>22.000314</td>\n",
       "      <td>0.0</td>\n",
       "      <td>41.312242</td>\n",
       "      <td>0.0</td>\n",
       "    </tr>\n",
       "    <tr>\n",
       "      <th>min</th>\n",
       "      <td>0.000000</td>\n",
       "      <td>1.000000</td>\n",
       "      <td>1.000000</td>\n",
       "      <td>1.000000</td>\n",
       "      <td>0.000000</td>\n",
       "      <td>0.0</td>\n",
       "      <td>0.000000</td>\n",
       "      <td>0.0</td>\n",
       "    </tr>\n",
       "    <tr>\n",
       "      <th>25%</th>\n",
       "      <td>2.350000</td>\n",
       "      <td>4.800000</td>\n",
       "      <td>4.500000</td>\n",
       "      <td>1.000000</td>\n",
       "      <td>0.000000</td>\n",
       "      <td>0.0</td>\n",
       "      <td>16.700000</td>\n",
       "      <td>0.0</td>\n",
       "    </tr>\n",
       "    <tr>\n",
       "      <th>50%</th>\n",
       "      <td>4.150000</td>\n",
       "      <td>5.000000</td>\n",
       "      <td>5.000000</td>\n",
       "      <td>1.000000</td>\n",
       "      <td>0.000000</td>\n",
       "      <td>0.0</td>\n",
       "      <td>75.000000</td>\n",
       "      <td>0.0</td>\n",
       "    </tr>\n",
       "    <tr>\n",
       "      <th>75%</th>\n",
       "      <td>8.060000</td>\n",
       "      <td>5.000000</td>\n",
       "      <td>5.000000</td>\n",
       "      <td>1.000000</td>\n",
       "      <td>0.000000</td>\n",
       "      <td>0.0</td>\n",
       "      <td>100.000000</td>\n",
       "      <td>0.0</td>\n",
       "    </tr>\n",
       "    <tr>\n",
       "      <th>max</th>\n",
       "      <td>160.960000</td>\n",
       "      <td>5.000000</td>\n",
       "      <td>5.000000</td>\n",
       "      <td>5.000000</td>\n",
       "      <td>100.000000</td>\n",
       "      <td>0.0</td>\n",
       "      <td>100.000000</td>\n",
       "      <td>0.0</td>\n",
       "    </tr>\n",
       "  </tbody>\n",
       "</table>\n",
       "</div>"
      ],
      "text/plain": [
       "           avg_dist  avg_rating_by_driver  avg_rating_of_driver     avg_surge  \\\n",
       "count  15390.000000          15296.000000          11641.000000  15390.000000   \n",
       "mean       6.397854              4.791200              4.632721      1.071320   \n",
       "std        6.527654              0.499961              0.655351      0.238503   \n",
       "min        0.000000              1.000000              1.000000      1.000000   \n",
       "25%        2.350000              4.800000              4.500000      1.000000   \n",
       "50%        4.150000              5.000000              5.000000      1.000000   \n",
       "75%        8.060000              5.000000              5.000000      1.000000   \n",
       "max      160.960000              5.000000              5.000000      5.000000   \n",
       "\n",
       "          surge_pct  trips_in_first_30_days   weekday_pct  \\\n",
       "count  15390.000000                 15390.0  15390.000000   \n",
       "mean       8.512982                     0.0     61.299350   \n",
       "std       22.000314                     0.0     41.312242   \n",
       "min        0.000000                     0.0      0.000000   \n",
       "25%        0.000000                     0.0     16.700000   \n",
       "50%        0.000000                     0.0     75.000000   \n",
       "75%        0.000000                     0.0    100.000000   \n",
       "max      100.000000                     0.0    100.000000   \n",
       "\n",
       "       active_in_first_30_days  \n",
       "count                  15390.0  \n",
       "mean                       0.0  \n",
       "std                        0.0  \n",
       "min                        0.0  \n",
       "25%                        0.0  \n",
       "50%                        0.0  \n",
       "75%                        0.0  \n",
       "max                        0.0  "
      ]
     },
     "execution_count": 69,
     "metadata": {},
     "output_type": "execute_result"
    }
   ],
   "source": [
    "not_retained.describe()"
   ]
  },
  {
   "cell_type": "code",
   "execution_count": 70,
   "metadata": {},
   "outputs": [],
   "source": [
    "df['avg_rating_by_driver'].fillna(df['avg_rating_by_driver'].mean(),inplace = True)\n",
    "df['avg_rating_of_driver'].fillna(df['avg_rating_of_driver'].mean(),inplace = True)\n",
    "df['ultimate_black_user'] = np.where(df['ultimate_black_user'] == True, 1,0)\n",
    "\n",
    "df['six_month_start'] = df['signup_date'].apply(lambda x: datetime.strptime(x, \"%Y-%m-%d\") + relativedelta(months=+5))\n",
    "df['six_month_end'] = df['signup_date'].apply(lambda x: datetime.strptime(x, \"%Y-%m-%d\") + relativedelta(months=+6)) \n",
    "\n",
    "df['last_trip_date'] = df['last_trip_date'].apply(pd.to_datetime, errors='ignore')\n",
    "df['six_month_start'] = df['six_month_start'].apply(pd.to_datetime, errors='ignore')\n",
    "df['active_in_sixth_month'] = np.where(((df['last_trip_date'] >= df['six_month_start']) & \n",
    "                                       (df['last_trip_date'] < df['six_month_end'])), 1, 0)"
   ]
  },
  {
   "cell_type": "code",
   "execution_count": 71,
   "metadata": {},
   "outputs": [
    {
     "data": {
      "image/png": "[encoded data removed]",
      "text/plain": [
       "<matplotlib.figure.Figure at 0x11641ad30>"
      ]
     },
     "metadata": {},
     "output_type": "display_data"
    }
   ],
   "source": [
    "# relationship between avg_dist and active_in_sixth_month\n",
    "sns.set(style=\"whitegrid\")\n",
    "ax = sns.boxplot(x=\"active_in_sixth_month\", y=\"avg_dist\", data=df)\n",
    "plt.show()"
   ]
  },
  {
   "cell_type": "markdown",
   "metadata": {},
   "source": [
    "Through the plot, avg_dist between 6th month active users and non-active users seems very close. However, a little more users who are not active in the 6th month have avg_dist more than 60."
   ]
  },
  {
   "cell_type": "code",
   "execution_count": 72,
   "metadata": {},
   "outputs": [
    {
     "data": {
      "image/png": "[encoded data removed]",
      "text/plain": [
       "<matplotlib.figure.Figure at 0x11b002518>"
      ]
     },
     "metadata": {},
     "output_type": "display_data"
    }
   ],
   "source": [
    "# relationship between avg_rating_by_driver and active_in_sixth_month\n",
    "sns.set(style=\"whitegrid\")\n",
    "ax = sns.boxplot(x=\"active_in_sixth_month\", y=\"avg_rating_by_driver\", data=df)\n",
    "plt.show()"
   ]
  },
  {
   "cell_type": "markdown",
   "metadata": {},
   "source": [
    "In this boxplot, less active users have very low avg_rating_by_driver, but in the high rating section,\n",
    "where also most user lying in, active users have lower avg_rating_by_driver than non_active users."
   ]
  },
  {
   "cell_type": "code",
   "execution_count": 73,
   "metadata": {},
   "outputs": [
    {
     "data": {
      "image/png": "[encoded data removed]",
      "text/plain": [
       "<matplotlib.figure.Figure at 0x11bb32390>"
      ]
     },
     "metadata": {},
     "output_type": "display_data"
    }
   ],
   "source": [
    "# relationship between avg_rating_of_driver and active_in_sixth_month\n",
    "sns.set(style=\"whitegrid\")\n",
    "ax = sns.boxplot(x=\"active_in_sixth_month\", y=\"avg_rating_of_driver\", data=df)\n",
    "plt.show()"
   ]
  },
  {
   "cell_type": "markdown",
   "metadata": {},
   "source": [
    "Active users and non_active users share similar avg_rating_of_driver."
   ]
  },
  {
   "cell_type": "code",
   "execution_count": 74,
   "metadata": {},
   "outputs": [
    {
     "data": {
      "image/png": "[encoded data removed]",
      "text/plain": [
       "<matplotlib.figure.Figure at 0x116e249b0>"
      ]
     },
     "metadata": {},
     "output_type": "display_data"
    }
   ],
   "source": [
    "# relationship between avg_surge and active_in_sixth_month\n",
    "sns.set(style=\"whitegrid\")\n",
    "ax = sns.boxplot(x=\"active_in_sixth_month\", y=\"avg_surge\", data=df)\n",
    "plt.show()"
   ]
  },
  {
   "cell_type": "markdown",
   "metadata": {},
   "source": [
    "Non-active users have more high avg_surge than active users."
   ]
  },
  {
   "cell_type": "code",
   "execution_count": 75,
   "metadata": {},
   "outputs": [
    {
     "data": {
      "image/png": "[encoded data removed]",
      "text/plain": [
       "<matplotlib.figure.Figure at 0x115f676d8>"
      ]
     },
     "metadata": {},
     "output_type": "display_data"
    }
   ],
   "source": [
    "# relationship between surge_pct and active_in_sixth_month\n",
    "sns.set(style=\"whitegrid\")\n",
    "ax = sns.boxplot(x=\"active_in_sixth_month\", y=\"surge_pct\", data=df)\n",
    "plt.show()"
   ]
  },
  {
   "cell_type": "markdown",
   "metadata": {},
   "source": [
    "Most active users have surge_pct less than 20, but non-active users have a very even surge_pct distribution."
   ]
  },
  {
   "cell_type": "code",
   "execution_count": 76,
   "metadata": {},
   "outputs": [
    {
     "data": {
      "image/png": "[encoded data removed]",
      "text/plain": [
       "<matplotlib.figure.Figure at 0x115f43080>"
      ]
     },
     "metadata": {},
     "output_type": "display_data"
    }
   ],
   "source": [
    "# relationship between trips_in_first_30_days and active_in_sixth_month\n",
    "sns.set(style=\"whitegrid\")\n",
    "ax = sns.boxplot(x=\"active_in_sixth_month\", y=\"trips_in_first_30_days\", data=df)\n",
    "plt.show()"
   ]
  },
  {
   "cell_type": "markdown",
   "metadata": {},
   "source": [
    "Overall, active users tend to have more trips_in_first_30_days."
   ]
  },
  {
   "cell_type": "code",
   "execution_count": 77,
   "metadata": {},
   "outputs": [],
   "source": [
    "X = df.iloc[:, :-1,]\n",
    "y = df.iloc[:, -1]\n",
    "X.drop(['last_trip_date', 'signup_date', 'six_month_start', 'six_month_end'], axis=1, inplace=True)\n",
    "X = pd.get_dummies(X, dummy_na=True)"
   ]
  },
  {
   "cell_type": "markdown",
   "metadata": {},
   "source": [
    "Question 2:"
   ]
  },
  {
   "cell_type": "code",
   "execution_count": 78,
   "metadata": {},
   "outputs": [],
   "source": [
    "from sklearn.model_selection import train_test_split\n",
    "X_train, X_test, y_train, y_test = train_test_split(X, y, test_size=0.3, random_state=42)"
   ]
  },
  {
   "cell_type": "markdown",
   "metadata": {},
   "source": [
    "KNN"
   ]
  },
  {
   "cell_type": "code",
   "execution_count": 79,
   "metadata": {},
   "outputs": [
    {
     "data": {
      "image/png": "[encoded data removed]",
      "text/plain": [
       "<matplotlib.figure.Figure at 0x117ee2c88>"
      ]
     },
     "metadata": {},
     "output_type": "display_data"
    }
   ],
   "source": [
    "from sklearn.neighbors import KNeighborsClassifier\n",
    "from sklearn import metrics\n",
    "from sklearn.metrics import confusion_matrix\n",
    "import matplotlib.pyplot as plt\n",
    "\n",
    "v=[]\n",
    "k_range = list(range(1, 50))\n",
    "for i in k_range:\n",
    "    knn = KNeighborsClassifier(n_neighbors=i)\n",
    "    knn.fit(X_train, y_train)\n",
    "    k_pred = knn.predict(X_test)\n",
    "    v.append(metrics.accuracy_score(y_test, k_pred))\n",
    "plt.plot(k_range,v)\n",
    "plt.show()"
   ]
  },
  {
   "cell_type": "code",
   "execution_count": 80,
   "metadata": {},
   "outputs": [
    {
     "name": "stdout",
     "output_type": "stream",
     "text": [
      "0.781133333333\n",
      "[[10349   975]\n",
      " [ 2308  1368]]\n"
     ]
    }
   ],
   "source": [
    "knn = KNeighborsClassifier(n_neighbors=19)\n",
    "knn.fit(X_train, y_train)\n",
    "k_pred = knn.predict(X_test)\n",
    "print(metrics.accuracy_score(y_test, k_pred))\n",
    "matrix = confusion_matrix(y_test, k_pred)\n",
    "print(matrix)"
   ]
  },
  {
   "cell_type": "markdown",
   "metadata": {},
   "source": [
    "Logistic Regression"
   ]
  },
  {
   "cell_type": "code",
   "execution_count": 81,
   "metadata": {},
   "outputs": [
    {
     "name": "stdout",
     "output_type": "stream",
     "text": [
      "0.768533333333\n",
      "[[10794   530]\n",
      " [ 2942   734]]\n"
     ]
    }
   ],
   "source": [
    "from sklearn.linear_model import LogisticRegression\n",
    "import sklearn.metrics as mt\n",
    "logres = LogisticRegression()\n",
    "logres.fit(X_train,y_train)\n",
    "log_pred = logres.predict(X_test)\n",
    "print(mt.accuracy_score(log_pred,y_test))\n",
    "matrix = confusion_matrix(y_test, log_pred)\n",
    "print(matrix)"
   ]
  },
  {
   "cell_type": "markdown",
   "metadata": {},
   "source": [
    "Random Forest"
   ]
  },
  {
   "cell_type": "code",
   "execution_count": 82,
   "metadata": {},
   "outputs": [
    {
     "name": "stdout",
     "output_type": "stream",
     "text": [
      "0.7728\n",
      "[[9995 1329]\n",
      " [2079 1597]]\n"
     ]
    }
   ],
   "source": [
    "from sklearn.ensemble import RandomForestClassifier\n",
    "from sklearn.metrics import accuracy_score\n",
    "rf = RandomForestClassifier(n_estimators=60, n_jobs=2, random_state=0)\n",
    "rf.fit(X_train, y_train)\n",
    "rf_pred = rf.predict(X_test)\n",
    "print(accuracy_score(y_test, rf_pred))\n",
    "matrix = confusion_matrix(y_test, rf_pred)\n",
    "print(matrix)"
   ]
  },
  {
   "cell_type": "code",
   "execution_count": 83,
   "metadata": {},
   "outputs": [
    {
     "name": "stdout",
     "output_type": "stream",
     "text": [
      "Variable: avg_dist         Importance: 0.3\n",
      "Variable: weekday_pct      Importance: 0.15\n",
      "Variable: avg_rating_by_driver Importance: 0.1\n",
      "Variable: surge_pct        Importance: 0.1\n",
      "Variable: avg_rating_of_driver Importance: 0.09\n",
      "Variable: avg_surge        Importance: 0.08\n",
      "Variable: trips_in_first_30_days Importance: 0.07\n",
      "Variable: ultimate_black_user Importance: 0.02\n",
      "Variable: city_King's Landing Importance: 0.02\n",
      "Variable: phone_iPhone     Importance: 0.02\n",
      "Variable: active_in_first_30_days Importance: 0.01\n",
      "Variable: city_Astapor     Importance: 0.01\n",
      "Variable: city_Winterfell  Importance: 0.01\n",
      "Variable: phone_Android    Importance: 0.01\n",
      "Variable: city_nan         Importance: 0.0\n",
      "Variable: phone_nan        Importance: 0.0\n"
     ]
    }
   ],
   "source": [
    "feature_list = list(X.columns)\n",
    "# Get numerical feature importances\n",
    "importances = list(rf.feature_importances_)\n",
    "# List of tuples with variable and importance\n",
    "feature_importances = [(feature, round(importance, 2)) for feature, importance in zip(feature_list, importances)]\n",
    "# Sort the feature importances by most important first\n",
    "feature_importances = sorted(feature_importances, key = lambda x: x[1], reverse = True)\n",
    "# Print out the feature and importances \n",
    "[print('Variable: {:16} Importance: {}'.format(*pair)) for pair in feature_importances];"
   ]
  },
  {
   "cell_type": "markdown",
   "metadata": {},
   "source": [
    "According to the feature importance list, avg_dist has importance of 0.3, which is way higher than the other features.The average distance in miles per trip taken in the first 30 days after signup plays a key role in predict whether the user would be active in their 6th month on the system. The percent of the user’s trips occurring during a weekday has importance of 0.15. Therefore, users who use has higher avg_dist and use Ultimate more often during weekdays are more likely to become long term users."
   ]
  },
  {
   "cell_type": "code",
   "execution_count": null,
   "metadata": {},
   "outputs": [],
   "source": []
  }
 ],
 "metadata": {
  "kernelspec": {
   "display_name": "Python 3",
   "language": "python",
   "name": "python3"
  },
  "language_info": {
   "codemirror_mode": {
    "name": "ipython",
    "version": 3
   },
   "file_extension": ".py",
   "mimetype": "text/x-python",
   "name": "python",
   "nbconvert_exporter": "python",
   "pygments_lexer": "ipython3",
   "version": "3.6.0"
  }
 },
 "nbformat": 4,
 "nbformat_minor": 2
}
